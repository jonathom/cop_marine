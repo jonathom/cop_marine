{
 "cells": [
  {
   "cell_type": "markdown",
   "metadata": {
    "id": "8NhETN1G1abp"
   },
   "source": [
    "# Group Challenge\n",
    "\n",
    "Contributors:\n",
    "\n",
    "* Alba Vilanova Cortezón (https://github.com/albavilanova)\n",
    "* Jannis Fröhlking (https://github.com/JaFro96)\n",
    "* Jonathan Bahlmann (https://github.com/jonathom)"
   ]
  },
  {
   "cell_type": "code",
   "execution_count": 1,
   "metadata": {},
   "outputs": [],
   "source": [
    "# Imports \n",
    "\n",
    "import requests\n",
    "import zipfile\n",
    "import os\n",
    "import pandas as pd\n",
    "import ftplib\n",
    "import os\n",
    "from getpass import getpass\n",
    "import xarray as xr\n",
    "import numpy as np"
   ]
  },
  {
   "cell_type": "markdown",
   "metadata": {
    "id": "AsiYxRtt10Aa"
   },
   "source": [
    "## STEP 1: Collect Data\n",
    "\n",
    "Dates\n",
    "\n",
    "* 01.01.2020\n",
    "* 01.04.2020\n",
    "* 01.07.2020\n",
    "* 01.10.2020"
   ]
  },
  {
   "cell_type": "markdown",
   "metadata": {
    "id": "8d4MApUoYsJm"
   },
   "source": [
    "### AIS\n"
   ]
  },
  {
   "cell_type": "code",
   "execution_count": 2,
   "metadata": {
    "colab": {
     "base_uri": "https://localhost:8080/"
    },
    "id": "cN1Jawsw2Dct",
    "outputId": "72040048-a442-432d-f5a2-54c0712f7bd3"
   },
   "outputs": [
    {
     "output_type": "execute_result",
     "data": {
      "text/plain": [
       "'\\n# Unzip data\\nfor url in urls:\\n\\n  r = requests.get(url)\\n  filename = url.split(\\'/\\')[-1]\\n  with open(filename,\\'wb\\') as output_file:\\n      output_file.write(r.content)\\n  print(filename)\\n\\n  try:\\n      with zipfile.ZipFile(filename) as z:\\n          z.extractall()\\n          print(\"Extracted file\")\\n          os.remove(filename)\\n  except:\\n      print(\"Invalid file\")\\n\\nprint(\"Download completed!\")\\n'"
      ]
     },
     "metadata": {},
     "execution_count": 2
    }
   ],
   "source": [
    "\n",
    "# Download data\n",
    "\n",
    "# Set file path\n",
    "urls = ['https://coast.noaa.gov/htdata/CMSP/AISDataHandler/2020/AIS_2020_01_01.zip',\n",
    "'https://coast.noaa.gov/htdata/CMSP/AISDataHandler/2020/AIS_2020_04_01.zip',\n",
    "'https://coast.noaa.gov/htdata/CMSP/AISDataHandler/2020/AIS_2020_07_01.zip',\n",
    "'https://coast.noaa.gov/htdata/CMSP/AISDataHandler/2020/AIS_2020_10_01.zip']\n",
    "\"\"\"\n",
    "# Unzip data\n",
    "for url in urls:\n",
    "\n",
    "  r = requests.get(url)\n",
    "  filename = url.split('/')[-1]\n",
    "  with open(filename,'wb') as output_file:\n",
    "      output_file.write(r.content)\n",
    "  print(filename)\n",
    "\n",
    "  try:\n",
    "      with zipfile.ZipFile(filename) as z:\n",
    "          z.extractall()\n",
    "          print(\"Extracted file\")\n",
    "          os.remove(filename)\n",
    "  except:\n",
    "      print(\"Invalid file\")\n",
    "\n",
    "print(\"Download completed!\")\n",
    "\"\"\""
   ]
  },
  {
   "cell_type": "code",
   "execution_count": 3,
   "metadata": {
    "colab": {
     "base_uri": "https://localhost:8080/",
     "height": 442
    },
    "id": "hMtlEuti3oBg",
    "outputId": "3fd067cb-0422-443a-cc04-5f9766bb4f9a"
   },
   "outputs": [
    {
     "output_type": "execute_result",
     "data": {
      "text/plain": [
       "'\\nais_data = pd.DataFrame()\\n\\nfor url in urls:\\n\\n  filename = url.split(\\'/\\')[-1]\\n  filename = filename.replace(\"zip\", \"csv\")\\n  data = pd.read_csv(\\'data/\\' + filename)\\n  ais_data = ais_data.append(data)\\n  \\nprint(\"Before preprocessing...\")\\nais_data = ais_data.reset_index(drop=True)\\nais_data\\n'"
      ]
     },
     "metadata": {},
     "execution_count": 3
    }
   ],
   "source": [
    "# Read csv and create df\n",
    "\"\"\"\n",
    "ais_data = pd.DataFrame()\n",
    "\n",
    "for url in urls:\n",
    "\n",
    "  filename = url.split('/')[-1]\n",
    "  filename = filename.replace(\"zip\", \"csv\")\n",
    "  data = pd.read_csv('data/' + filename)\n",
    "  ais_data = ais_data.append(data)\n",
    "  \n",
    "print(\"Before preprocessing...\")\n",
    "ais_data = ais_data.reset_index(drop=True)\n",
    "ais_data\n",
    "\"\"\""
   ]
  },
  {
   "cell_type": "code",
   "execution_count": 4,
   "metadata": {},
   "outputs": [
    {
     "output_type": "execute_result",
     "data": {
      "text/plain": [
       "\"\\nais_data.to_csv('data/ais_data_all.csv')\\nbackup_ais_data = pd.read_csv('data/ais_data_all.csv')\\nbackup_ais_data\\n\""
      ]
     },
     "metadata": {},
     "execution_count": 4
    }
   ],
   "source": [
    "# Create backup of AIS data\n",
    "\"\"\"\n",
    "ais_data.to_csv('data/ais_data_all.csv')\n",
    "backup_ais_data = pd.read_csv('data/ais_data_all.csv')\n",
    "backup_ais_data\n",
    "\"\"\""
   ]
  },
  {
   "cell_type": "markdown",
   "metadata": {
    "id": "w6_hjVrwcD1S"
   },
   "source": [
    "### CMEMS\n",
    "Downloading the data for the 4 days (in stage I). [DATASETS](https://resources.marine.copernicus.eu/?option=com_csw&task=results)"
   ]
  },
  {
   "cell_type": "code",
   "execution_count": 5,
   "metadata": {
    "colab": {
     "base_uri": "https://localhost:8080/"
    },
    "id": "-OaMrT_KS_cN",
    "outputId": "30f9bb97-9f7f-491c-8685-9fd3de2cf966"
   },
   "outputs": [
    {
     "output_type": "stream",
     "name": "stdout",
     "text": [
      "220 Welcome to CMEMS FTP service\n"
     ]
    }
   ],
   "source": [
    "# Connect to CMEMS FTP\n",
    "\n",
    "name = 'avilanovacortez'\n",
    "pwd = 'CMEMS-data-2021'\n",
    "\"\"\"\n",
    "name = getpass('Enter name: ')\n",
    "pwd = getpass('Enter pwd: ')\n",
    "\"\"\"\n",
    "\n",
    "def make_con(url):\n",
    "\n",
    "    con = ftplib.FTP(url)\n",
    "    print(con.getwelcome())\n",
    "\n",
    "    return con\n",
    "\n",
    "con = make_con('nrt.cmems-du.eu')"
   ]
  },
  {
   "cell_type": "code",
   "execution_count": 6,
   "metadata": {
    "colab": {
     "base_uri": "https://localhost:8080/"
    },
    "id": "sdC5xcmRUyMH",
    "outputId": "eb70cb5b-5fe1-45a5-ad81-c2e6135c700c"
   },
   "outputs": [],
   "source": [
    "# Print available data\n",
    "\n",
    "wav_url = '/Core/GLOBAL_ANALYSIS_FORECAST_WAV_001_027/global-analysis-forecast-wav-001-027/2020/' # Wave products: 3-hourly, one-day-forecast\n",
    "phy_url = '/Core/GLOBAL_ANALYSIS_FORECAST_PHY_001_024/global-analysis-forecast-phy-001-024/2020/' # Physical products\n",
    "\n",
    "def print_collection(url, con):\n",
    "\n",
    "  try:\n",
    "    # Login\n",
    "    con.login(name, pwd)\n",
    "    # Navigate to a wave forecast product, this month\n",
    "    con.cwd(url)\n",
    "    # Retrieve as list\n",
    "    con.retrlines('LIST') \n",
    "    \n",
    "  except ftplib.all_errors as e:\n",
    "    print('FTP error:', e)\n",
    "\n",
    "# print_collection(wav_url + '07', con) # print content of url\n",
    "\n",
    "new_url = '/Core/GLOBAL_REANALYSIS_PHY_001_030/global-reanalysis-phy-001-030-daily/2019' # It is only available till 2019\n",
    "# print_collection(new_url, make_con('my.cmems-du.eu'))"
   ]
  },
  {
   "cell_type": "code",
   "execution_count": 7,
   "metadata": {
    "colab": {
     "base_uri": "https://localhost:8080/"
    },
    "id": "755muYSGbCIg",
    "outputId": "9e05f20f-3ae5-4b0c-d52e-e2c6fd320364"
   },
   "outputs": [
    {
     "output_type": "execute_result",
     "data": {
      "text/plain": [
       "\"\\n# Use this to download data \\ndownload_ftp(wav_url + '01', wav_jan)\\ndownload_ftp(wav_url + '04', wav_apr)\\ndownload_ftp(wav_url + '07', wav_jul)\\ndownload_ftp(wav_url + '10', wav_oct)\\n\\ndownload_ftp(phy_url + '01', phy_jan)\\ndownload_ftp(phy_url + '04', phy_apr)\\ndownload_ftp(phy_url + '07', phy_jul)\\ndownload_ftp(phy_url + '10', phy_oct)\\n\""
      ]
     },
     "metadata": {},
     "execution_count": 7
    }
   ],
   "source": [
    "# Download data \n",
    "\n",
    "wav_url = '/Core/GLOBAL_ANALYSIS_FORECAST_WAV_001_027/global-analysis-forecast-wav-001-027/2020/' # Wave products: 3-hourly, one-day-forecast\n",
    "phy_url = '/Core/GLOBAL_ANALYSIS_FORECAST_PHY_001_024/global-analysis-forecast-phy-001-024/2020/' # Physical products\n",
    "\n",
    "wav_jan = \"mfwamglocep_2020010100_R20200102.nc\"\n",
    "wav_apr = \"mfwamglocep_2020040100_R20200402.nc\"\n",
    "wav_jul = \"mfwamglocep_2020070100_R20200702.nc\"\n",
    "wav_oct = \"mfwamglocep_2020100100_R20201002.nc\"\n",
    "\n",
    "phy_jan = \"mercatorpsy4v3r1_gl12_mean_20200101_R20200115.nc\"\n",
    "phy_apr = \"mercatorpsy4v3r1_gl12_mean_20200401_R20200415.nc\"\n",
    "phy_jul = \"mercatorpsy4v3r1_gl12_mean_20200701_R20200715.nc\"\n",
    "phy_oct = \"mercatorpsy4v3r1_gl12_mean_20201001_R20201014.nc\"\n",
    "\n",
    "def download_ftp(url, prod_name):\n",
    "  # Check if file exists, taken from source at the top\n",
    "  if os.path.isfile(prod_name):\n",
    "    print(\"There is already a local copy of {}\".format(prod_name))\n",
    "  else:\n",
    "    try:\n",
    "      # Login as before\n",
    "      con.login(name, pwd)\n",
    "      # Navigate to desired folder\n",
    "      con.cwd(url)\n",
    "\n",
    "      with open(prod_name, 'wb') as fp:\n",
    "        con.retrbinary('RETR {}'.format(prod_name), fp.write)\n",
    "            \n",
    "    except ftplib.all_errors as e:\n",
    "      print('FTP error:', e)\n",
    "\n",
    "\"\"\"\n",
    "# Use this to download data \n",
    "download_ftp(wav_url + '01', wav_jan)\n",
    "download_ftp(wav_url + '04', wav_apr)\n",
    "download_ftp(wav_url + '07', wav_jul)\n",
    "download_ftp(wav_url + '10', wav_oct)\n",
    "\n",
    "download_ftp(phy_url + '01', phy_jan)\n",
    "download_ftp(phy_url + '04', phy_apr)\n",
    "download_ftp(phy_url + '07', phy_jul)\n",
    "download_ftp(phy_url + '10', phy_oct)\n",
    "\"\"\""
   ]
  },
  {
   "cell_type": "code",
   "execution_count": 8,
   "metadata": {},
   "outputs": [
    {
     "output_type": "execute_result",
     "data": {
      "text/plain": [
       "\"\\n# OPTIONAL: Show wave direction\\n\\ndef get_closest(array, value):\\n    return np.abs(array - value).argmin()\\n\\nds_wav_jan = xr.open_dataset('data/' + wav_jan)\\n\\nds_wav_jan.VMDR.isel(time=0).plot(robust=True, aspect=2, size=7); # wave direction\\nds_wav_jan\\n\""
      ]
     },
     "metadata": {},
     "execution_count": 8
    }
   ],
   "source": [
    "\"\"\"\n",
    "# OPTIONAL: Show wave direction\n",
    "\n",
    "def get_closest(array, value):\n",
    "    return np.abs(array - value).argmin()\n",
    "\n",
    "ds_wav_jan = xr.open_dataset('data/' + wav_jan)\n",
    "\n",
    "ds_wav_jan.VMDR.isel(time=0).plot(robust=True, aspect=2, size=7); # wave direction\n",
    "ds_wav_jan\n",
    "\"\"\""
   ]
  },
  {
   "cell_type": "code",
   "execution_count": 9,
   "metadata": {
    "colab": {
     "base_uri": "https://localhost:8080/",
     "height": 224
    },
    "id": "3y_Wpsrr7E2F",
    "outputId": "58408d89-4183-488f-ecbb-25adcf67181d"
   },
   "outputs": [
    {
     "output_type": "execute_result",
     "data": {
      "text/plain": [
       "<xarray.Dataset>\n",
       "Dimensions:    (latitude: 132, longitude: 240, time: 4)\n",
       "Coordinates:\n",
       "  * longitude  (longitude) float64 10.0 10.08 10.17 10.25 ... 29.75 29.83 29.92\n",
       "  * latitude   (latitude) float64 54.0 54.08 54.17 54.25 ... 64.75 64.83 64.92\n",
       "  * time       (time) datetime64[ns] 2020-01-01T03:00:00 ... 2020-10-01T03:00:00\n",
       "Data variables: (12/17)\n",
       "    VHM0       (time, latitude, longitude) float32 nan nan nan ... nan nan nan\n",
       "    VMDR_WW    (time, latitude, longitude) float32 nan nan nan ... nan nan nan\n",
       "    VHM0_WW    (time, latitude, longitude) float32 nan nan nan ... nan nan nan\n",
       "    VMDR_SW1   (time, latitude, longitude) float32 nan nan nan ... nan nan nan\n",
       "    VTM01_SW1  (time, latitude, longitude) float32 nan nan nan ... nan nan nan\n",
       "    VMDR_SW2   (time, latitude, longitude) float32 nan nan nan ... nan nan nan\n",
       "    ...         ...\n",
       "    VTPK       (time, latitude, longitude) float32 nan nan nan ... nan nan nan\n",
       "    VSDX       (time, latitude, longitude) float32 nan nan nan ... nan nan nan\n",
       "    VSDY       (time, latitude, longitude) float32 nan nan nan ... nan nan nan\n",
       "    VPED       (time, latitude, longitude) float32 nan nan nan ... nan nan nan\n",
       "    VTM02      (time, latitude, longitude) float32 nan nan nan ... nan nan nan\n",
       "    VTM01_WW   (time, latitude, longitude) float32 nan nan nan ... nan nan nan\n",
       "Attributes: (12/27)\n",
       "    Conventions:                   CF-1.6\n",
       "    time_coverage_start:           20200101-03:00:00\n",
       "    time_coverage_end:             20200102-00:00:00\n",
       "    date_created:                  20200102-06:22:00\n",
       "    product_type:                  hindcast\n",
       "    product:                       GLOBAL_ANALYSIS_FORECAST_WAV_001_027\n",
       "    ...                            ...\n",
       "    geospatial_lon_step:           0.08332825\n",
       "    geospatial_lon_units:          degree\n",
       "    geospatial_lat_min:            -80.0\n",
       "    geospatial_lat_max:            90.0\n",
       "    geospatial_lat_step:           0.08333588\n",
       "    geospatial_lat_units:          degree"
      ],
      "text/html": "<div><svg style=\"position: absolute; width: 0; height: 0; overflow: hidden\">\n<defs>\n<symbol id=\"icon-database\" viewBox=\"0 0 32 32\">\n<path d=\"M16 0c-8.837 0-16 2.239-16 5v4c0 2.761 7.163 5 16 5s16-2.239 16-5v-4c0-2.761-7.163-5-16-5z\"></path>\n<path d=\"M16 17c-8.837 0-16-2.239-16-5v6c0 2.761 7.163 5 16 5s16-2.239 16-5v-6c0 2.761-7.163 5-16 5z\"></path>\n<path d=\"M16 26c-8.837 0-16-2.239-16-5v6c0 2.761 7.163 5 16 5s16-2.239 16-5v-6c0 2.761-7.163 5-16 5z\"></path>\n</symbol>\n<symbol id=\"icon-file-text2\" viewBox=\"0 0 32 32\">\n<path d=\"M28.681 7.159c-0.694-0.947-1.662-2.053-2.724-3.116s-2.169-2.030-3.116-2.724c-1.612-1.182-2.393-1.319-2.841-1.319h-15.5c-1.378 0-2.5 1.121-2.5 2.5v27c0 1.378 1.122 2.5 2.5 2.5h23c1.378 0 2.5-1.122 2.5-2.5v-19.5c0-0.448-0.137-1.23-1.319-2.841zM24.543 5.457c0.959 0.959 1.712 1.825 2.268 2.543h-4.811v-4.811c0.718 0.556 1.584 1.309 2.543 2.268zM28 29.5c0 0.271-0.229 0.5-0.5 0.5h-23c-0.271 0-0.5-0.229-0.5-0.5v-27c0-0.271 0.229-0.5 0.5-0.5 0 0 15.499-0 15.5 0v7c0 0.552 0.448 1 1 1h7v19.5z\"></path>\n<path d=\"M23 26h-14c-0.552 0-1-0.448-1-1s0.448-1 1-1h14c0.552 0 1 0.448 1 1s-0.448 1-1 1z\"></path>\n<path d=\"M23 22h-14c-0.552 0-1-0.448-1-1s0.448-1 1-1h14c0.552 0 1 0.448 1 1s-0.448 1-1 1z\"></path>\n<path d=\"M23 18h-14c-0.552 0-1-0.448-1-1s0.448-1 1-1h14c0.552 0 1 0.448 1 1s-0.448 1-1 1z\"></path>\n</symbol>\n</defs>\n</svg>\n<style>/* CSS stylesheet for displaying xarray objects in jupyterlab.\n *\n */\n\n:root {\n  --xr-font-color0: var(--jp-content-font-color0, rgba(0, 0, 0, 1));\n  --xr-font-color2: var(--jp-content-font-color2, rgba(0, 0, 0, 0.54));\n  --xr-font-color3: var(--jp-content-font-color3, rgba(0, 0, 0, 0.38));\n  --xr-border-color: var(--jp-border-color2, #e0e0e0);\n  --xr-disabled-color: var(--jp-layout-color3, #bdbdbd);\n  --xr-background-color: var(--jp-layout-color0, white);\n  --xr-background-color-row-even: var(--jp-layout-color1, white);\n  --xr-background-color-row-odd: var(--jp-layout-color2, #eeeeee);\n}\n\nhtml[theme=dark],\nbody.vscode-dark {\n  --xr-font-color0: rgba(255, 255, 255, 1);\n  --xr-font-color2: rgba(255, 255, 255, 0.54);\n  --xr-font-color3: rgba(255, 255, 255, 0.38);\n  --xr-border-color: #1F1F1F;\n  --xr-disabled-color: #515151;\n  --xr-background-color: #111111;\n  --xr-background-color-row-even: #111111;\n  --xr-background-color-row-odd: #313131;\n}\n\n.xr-wrap {\n  display: block;\n  min-width: 300px;\n  max-width: 700px;\n}\n\n.xr-text-repr-fallback {\n  /* fallback to plain text repr when CSS is not injected (untrusted notebook) */\n  display: none;\n}\n\n.xr-header {\n  padding-top: 6px;\n  padding-bottom: 6px;\n  margin-bottom: 4px;\n  border-bottom: solid 1px var(--xr-border-color);\n}\n\n.xr-header > div,\n.xr-header > ul {\n  display: inline;\n  margin-top: 0;\n  margin-bottom: 0;\n}\n\n.xr-obj-type,\n.xr-array-name {\n  margin-left: 2px;\n  margin-right: 10px;\n}\n\n.xr-obj-type {\n  color: var(--xr-font-color2);\n}\n\n.xr-sections {\n  padding-left: 0 !important;\n  display: grid;\n  grid-template-columns: 150px auto auto 1fr 20px 20px;\n}\n\n.xr-section-item {\n  display: contents;\n}\n\n.xr-section-item input {\n  display: none;\n}\n\n.xr-section-item input + label {\n  color: var(--xr-disabled-color);\n}\n\n.xr-section-item input:enabled + label {\n  cursor: pointer;\n  color: var(--xr-font-color2);\n}\n\n.xr-section-item input:enabled + label:hover {\n  color: var(--xr-font-color0);\n}\n\n.xr-section-summary {\n  grid-column: 1;\n  color: var(--xr-font-color2);\n  font-weight: 500;\n}\n\n.xr-section-summary > span {\n  display: inline-block;\n  padding-left: 0.5em;\n}\n\n.xr-section-summary-in:disabled + label {\n  color: var(--xr-font-color2);\n}\n\n.xr-section-summary-in + label:before {\n  display: inline-block;\n  content: '►';\n  font-size: 11px;\n  width: 15px;\n  text-align: center;\n}\n\n.xr-section-summary-in:disabled + label:before {\n  color: var(--xr-disabled-color);\n}\n\n.xr-section-summary-in:checked + label:before {\n  content: '▼';\n}\n\n.xr-section-summary-in:checked + label > span {\n  display: none;\n}\n\n.xr-section-summary,\n.xr-section-inline-details {\n  padding-top: 4px;\n  padding-bottom: 4px;\n}\n\n.xr-section-inline-details {\n  grid-column: 2 / -1;\n}\n\n.xr-section-details {\n  display: none;\n  grid-column: 1 / -1;\n  margin-bottom: 5px;\n}\n\n.xr-section-summary-in:checked ~ .xr-section-details {\n  display: contents;\n}\n\n.xr-array-wrap {\n  grid-column: 1 / -1;\n  display: grid;\n  grid-template-columns: 20px auto;\n}\n\n.xr-array-wrap > label {\n  grid-column: 1;\n  vertical-align: top;\n}\n\n.xr-preview {\n  color: var(--xr-font-color3);\n}\n\n.xr-array-preview,\n.xr-array-data {\n  padding: 0 5px !important;\n  grid-column: 2;\n}\n\n.xr-array-data,\n.xr-array-in:checked ~ .xr-array-preview {\n  display: none;\n}\n\n.xr-array-in:checked ~ .xr-array-data,\n.xr-array-preview {\n  display: inline-block;\n}\n\n.xr-dim-list {\n  display: inline-block !important;\n  list-style: none;\n  padding: 0 !important;\n  margin: 0;\n}\n\n.xr-dim-list li {\n  display: inline-block;\n  padding: 0;\n  margin: 0;\n}\n\n.xr-dim-list:before {\n  content: '(';\n}\n\n.xr-dim-list:after {\n  content: ')';\n}\n\n.xr-dim-list li:not(:last-child):after {\n  content: ',';\n  padding-right: 5px;\n}\n\n.xr-has-index {\n  font-weight: bold;\n}\n\n.xr-var-list,\n.xr-var-item {\n  display: contents;\n}\n\n.xr-var-item > div,\n.xr-var-item label,\n.xr-var-item > .xr-var-name span {\n  background-color: var(--xr-background-color-row-even);\n  margin-bottom: 0;\n}\n\n.xr-var-item > .xr-var-name:hover span {\n  padding-right: 5px;\n}\n\n.xr-var-list > li:nth-child(odd) > div,\n.xr-var-list > li:nth-child(odd) > label,\n.xr-var-list > li:nth-child(odd) > .xr-var-name span {\n  background-color: var(--xr-background-color-row-odd);\n}\n\n.xr-var-name {\n  grid-column: 1;\n}\n\n.xr-var-dims {\n  grid-column: 2;\n}\n\n.xr-var-dtype {\n  grid-column: 3;\n  text-align: right;\n  color: var(--xr-font-color2);\n}\n\n.xr-var-preview {\n  grid-column: 4;\n}\n\n.xr-var-name,\n.xr-var-dims,\n.xr-var-dtype,\n.xr-preview,\n.xr-attrs dt {\n  white-space: nowrap;\n  overflow: hidden;\n  text-overflow: ellipsis;\n  padding-right: 10px;\n}\n\n.xr-var-name:hover,\n.xr-var-dims:hover,\n.xr-var-dtype:hover,\n.xr-attrs dt:hover {\n  overflow: visible;\n  width: auto;\n  z-index: 1;\n}\n\n.xr-var-attrs,\n.xr-var-data {\n  display: none;\n  background-color: var(--xr-background-color) !important;\n  padding-bottom: 5px !important;\n}\n\n.xr-var-attrs-in:checked ~ .xr-var-attrs,\n.xr-var-data-in:checked ~ .xr-var-data {\n  display: block;\n}\n\n.xr-var-data > table {\n  float: right;\n}\n\n.xr-var-name span,\n.xr-var-data,\n.xr-attrs {\n  padding-left: 25px !important;\n}\n\n.xr-attrs,\n.xr-var-attrs,\n.xr-var-data {\n  grid-column: 1 / -1;\n}\n\ndl.xr-attrs {\n  padding: 0;\n  margin: 0;\n  display: grid;\n  grid-template-columns: 125px auto;\n}\n\n.xr-attrs dt,\n.xr-attrs dd {\n  padding: 0;\n  margin: 0;\n  float: left;\n  padding-right: 10px;\n  width: auto;\n}\n\n.xr-attrs dt {\n  font-weight: normal;\n  grid-column: 1;\n}\n\n.xr-attrs dt:hover span {\n  display: inline-block;\n  background: var(--xr-background-color);\n  padding-right: 10px;\n}\n\n.xr-attrs dd {\n  grid-column: 2;\n  white-space: pre-wrap;\n  word-break: break-all;\n}\n\n.xr-icon-database,\n.xr-icon-file-text2 {\n  display: inline-block;\n  vertical-align: middle;\n  width: 1em;\n  height: 1.5em !important;\n  stroke-width: 0;\n  stroke: currentColor;\n  fill: currentColor;\n}\n</style><pre class='xr-text-repr-fallback'>&lt;xarray.Dataset&gt;\nDimensions:    (latitude: 132, longitude: 240, time: 4)\nCoordinates:\n  * longitude  (longitude) float64 10.0 10.08 10.17 10.25 ... 29.75 29.83 29.92\n  * latitude   (latitude) float64 54.0 54.08 54.17 54.25 ... 64.75 64.83 64.92\n  * time       (time) datetime64[ns] 2020-01-01T03:00:00 ... 2020-10-01T03:00:00\nData variables: (12/17)\n    VHM0       (time, latitude, longitude) float32 nan nan nan ... nan nan nan\n    VMDR_WW    (time, latitude, longitude) float32 nan nan nan ... nan nan nan\n    VHM0_WW    (time, latitude, longitude) float32 nan nan nan ... nan nan nan\n    VMDR_SW1   (time, latitude, longitude) float32 nan nan nan ... nan nan nan\n    VTM01_SW1  (time, latitude, longitude) float32 nan nan nan ... nan nan nan\n    VMDR_SW2   (time, latitude, longitude) float32 nan nan nan ... nan nan nan\n    ...         ...\n    VTPK       (time, latitude, longitude) float32 nan nan nan ... nan nan nan\n    VSDX       (time, latitude, longitude) float32 nan nan nan ... nan nan nan\n    VSDY       (time, latitude, longitude) float32 nan nan nan ... nan nan nan\n    VPED       (time, latitude, longitude) float32 nan nan nan ... nan nan nan\n    VTM02      (time, latitude, longitude) float32 nan nan nan ... nan nan nan\n    VTM01_WW   (time, latitude, longitude) float32 nan nan nan ... nan nan nan\nAttributes: (12/27)\n    Conventions:                   CF-1.6\n    time_coverage_start:           20200101-03:00:00\n    time_coverage_end:             20200102-00:00:00\n    date_created:                  20200102-06:22:00\n    product_type:                  hindcast\n    product:                       GLOBAL_ANALYSIS_FORECAST_WAV_001_027\n    ...                            ...\n    geospatial_lon_step:           0.08332825\n    geospatial_lon_units:          degree\n    geospatial_lat_min:            -80.0\n    geospatial_lat_max:            90.0\n    geospatial_lat_step:           0.08333588\n    geospatial_lat_units:          degree</pre><div class='xr-wrap' hidden><div class='xr-header'><div class='xr-obj-type'>xarray.Dataset</div></div><ul class='xr-sections'><li class='xr-section-item'><input id='section-f92cc53d-648d-4fb3-8bac-1c71bef4e5f3' class='xr-section-summary-in' type='checkbox' disabled ><label for='section-f92cc53d-648d-4fb3-8bac-1c71bef4e5f3' class='xr-section-summary'  title='Expand/collapse section'>Dimensions:</label><div class='xr-section-inline-details'><ul class='xr-dim-list'><li><span class='xr-has-index'>latitude</span>: 132</li><li><span class='xr-has-index'>longitude</span>: 240</li><li><span class='xr-has-index'>time</span>: 4</li></ul></div><div class='xr-section-details'></div></li><li class='xr-section-item'><input id='section-41287dda-6d76-4890-bffa-869b04333b25' class='xr-section-summary-in' type='checkbox'  checked><label for='section-41287dda-6d76-4890-bffa-869b04333b25' class='xr-section-summary' >Coordinates: <span>(3)</span></label><div class='xr-section-inline-details'></div><div class='xr-section-details'><ul class='xr-var-list'><li class='xr-var-item'><div class='xr-var-name'><span class='xr-has-index'>longitude</span></div><div class='xr-var-dims'>(longitude)</div><div class='xr-var-dtype'>float64</div><div class='xr-var-preview xr-preview'>10.0 10.08 10.17 ... 29.83 29.92</div><input id='attrs-87bddf8b-9ee4-49b9-bcfa-28c0cf132174' class='xr-var-attrs-in' type='checkbox' ><label for='attrs-87bddf8b-9ee4-49b9-bcfa-28c0cf132174' title='Show/Hide attributes'><svg class='icon xr-icon-file-text2'><use xlink:href='#icon-file-text2'></use></svg></label><input id='data-504f4c36-95e4-4f41-b4be-8f7585e9717b' class='xr-var-data-in' type='checkbox'><label for='data-504f4c36-95e4-4f41-b4be-8f7585e9717b' title='Show/Hide data repr'><svg class='icon xr-icon-database'><use xlink:href='#icon-database'></use></svg></label><div class='xr-var-attrs'><dl class='xr-attrs'><dt><span>standard_name :</span></dt><dd>longitude</dd><dt><span>long_name :</span></dt><dd>longitude coordinate</dd><dt><span>units :</span></dt><dd>degrees_east</dd><dt><span>axis :</span></dt><dd>X</dd><dt><span>step :</span></dt><dd>0.08332825</dd></dl></div><div class='xr-var-data'><pre>array([10.      , 10.083333, 10.166667, ..., 29.75    , 29.833333, 29.916667])</pre></div></li><li class='xr-var-item'><div class='xr-var-name'><span class='xr-has-index'>latitude</span></div><div class='xr-var-dims'>(latitude)</div><div class='xr-var-dtype'>float64</div><div class='xr-var-preview xr-preview'>54.0 54.08 54.17 ... 64.83 64.92</div><input id='attrs-1e0411a9-0236-46a2-99f5-2e14e96dd8f1' class='xr-var-attrs-in' type='checkbox' ><label for='attrs-1e0411a9-0236-46a2-99f5-2e14e96dd8f1' title='Show/Hide attributes'><svg class='icon xr-icon-file-text2'><use xlink:href='#icon-file-text2'></use></svg></label><input id='data-641518d0-b82e-4213-a6e0-b2d1b0a9ff67' class='xr-var-data-in' type='checkbox'><label for='data-641518d0-b82e-4213-a6e0-b2d1b0a9ff67' title='Show/Hide data repr'><svg class='icon xr-icon-database'><use xlink:href='#icon-database'></use></svg></label><div class='xr-var-attrs'><dl class='xr-attrs'><dt><span>standard_name :</span></dt><dd>latitude</dd><dt><span>long_name :</span></dt><dd>latitude coordinate</dd><dt><span>units :</span></dt><dd>degrees_north</dd><dt><span>axis :</span></dt><dd>Y</dd><dt><span>step :</span></dt><dd>0.08333588</dd></dl></div><div class='xr-var-data'><pre>array([54.      , 54.083333, 54.166667, 54.25    , 54.333333, 54.416667,\n       54.5     , 54.583333, 54.666667, 54.75    , 54.833333, 54.916667,\n       55.      , 55.083333, 55.166667, 55.25    , 55.333333, 55.416667,\n       55.5     , 55.583333, 55.666667, 55.75    , 55.833333, 55.916667,\n       56.      , 56.083333, 56.166667, 56.25    , 56.333333, 56.416667,\n       56.5     , 56.583333, 56.666667, 56.75    , 56.833333, 56.916667,\n       57.      , 57.083333, 57.166667, 57.25    , 57.333333, 57.416667,\n       57.5     , 57.583333, 57.666667, 57.75    , 57.833333, 57.916667,\n       58.      , 58.083333, 58.166667, 58.25    , 58.333333, 58.416667,\n       58.5     , 58.583333, 58.666667, 58.75    , 58.833333, 58.916667,\n       59.      , 59.083333, 59.166667, 59.25    , 59.333333, 59.416667,\n       59.5     , 59.583333, 59.666667, 59.75    , 59.833333, 59.916667,\n       60.      , 60.083333, 60.166667, 60.25    , 60.333333, 60.416667,\n       60.5     , 60.583333, 60.666667, 60.75    , 60.833333, 60.916667,\n       61.      , 61.083333, 61.166667, 61.25    , 61.333333, 61.416667,\n       61.5     , 61.583333, 61.666667, 61.75    , 61.833333, 61.916667,\n       62.      , 62.083333, 62.166667, 62.25    , 62.333333, 62.416667,\n       62.5     , 62.583333, 62.666667, 62.75    , 62.833333, 62.916667,\n       63.      , 63.083333, 63.166667, 63.25    , 63.333333, 63.416667,\n       63.5     , 63.583333, 63.666667, 63.75    , 63.833333, 63.916667,\n       64.      , 64.083333, 64.166667, 64.25    , 64.333333, 64.416667,\n       64.5     , 64.583333, 64.666667, 64.75    , 64.833333, 64.916667])</pre></div></li><li class='xr-var-item'><div class='xr-var-name'><span class='xr-has-index'>time</span></div><div class='xr-var-dims'>(time)</div><div class='xr-var-dtype'>datetime64[ns]</div><div class='xr-var-preview xr-preview'>2020-01-01T03:00:00 ... 2020-10-...</div><input id='attrs-835110cc-8bc3-4481-8bc6-a6361ba1e77e' class='xr-var-attrs-in' type='checkbox' ><label for='attrs-835110cc-8bc3-4481-8bc6-a6361ba1e77e' title='Show/Hide attributes'><svg class='icon xr-icon-file-text2'><use xlink:href='#icon-file-text2'></use></svg></label><input id='data-ad67e4a3-5c1b-437d-b42f-02b08c650bcc' class='xr-var-data-in' type='checkbox'><label for='data-ad67e4a3-5c1b-437d-b42f-02b08c650bcc' title='Show/Hide data repr'><svg class='icon xr-icon-database'><use xlink:href='#icon-database'></use></svg></label><div class='xr-var-attrs'><dl class='xr-attrs'><dt><span>standard_name :</span></dt><dd>time</dd><dt><span>long_name :</span></dt><dd>time</dd><dt><span>axis :</span></dt><dd>T</dd><dt><span>step :</span></dt><dd>3</dd></dl></div><div class='xr-var-data'><pre>array([&#x27;2020-01-01T03:00:00.000000000&#x27;, &#x27;2020-04-01T03:00:00.000000000&#x27;,\n       &#x27;2020-07-01T03:00:00.000000000&#x27;, &#x27;2020-10-01T03:00:00.000000000&#x27;],\n      dtype=&#x27;datetime64[ns]&#x27;)</pre></div></li></ul></div></li><li class='xr-section-item'><input id='section-26c0de3d-8340-4700-8fa1-d1ab46a0d1ae' class='xr-section-summary-in' type='checkbox'  ><label for='section-26c0de3d-8340-4700-8fa1-d1ab46a0d1ae' class='xr-section-summary' >Data variables: <span>(17)</span></label><div class='xr-section-inline-details'></div><div class='xr-section-details'><ul class='xr-var-list'><li class='xr-var-item'><div class='xr-var-name'><span>VHM0</span></div><div class='xr-var-dims'>(time, latitude, longitude)</div><div class='xr-var-dtype'>float32</div><div class='xr-var-preview xr-preview'>nan nan nan nan ... nan nan nan nan</div><input id='attrs-f0dd5923-ed77-451a-8c12-868ff9371257' class='xr-var-attrs-in' type='checkbox' ><label for='attrs-f0dd5923-ed77-451a-8c12-868ff9371257' title='Show/Hide attributes'><svg class='icon xr-icon-file-text2'><use xlink:href='#icon-file-text2'></use></svg></label><input id='data-6a11415c-b650-4077-baff-a6a7008d00fb' class='xr-var-data-in' type='checkbox'><label for='data-6a11415c-b650-4077-baff-a6a7008d00fb' title='Show/Hide data repr'><svg class='icon xr-icon-database'><use xlink:href='#icon-database'></use></svg></label><div class='xr-var-attrs'><dl class='xr-attrs'><dt><span>long_name :</span></dt><dd>Spectral significant wave height (Hm0)</dd><dt><span>units :</span></dt><dd>m</dd><dt><span>standard_name :</span></dt><dd>sea_surface_wave_significant_height</dd><dt><span>cell_methods :</span></dt><dd>time:point area:mean</dd><dt><span>type_of_analysis :</span></dt><dd>spectral analysis</dd><dt><span>WMO_code :</span></dt><dd>100</dd></dl></div><div class='xr-var-data'><pre>array([[[      nan,       nan,       nan, ...,       nan,       nan,\n               nan],\n        [      nan,       nan,       nan, ...,       nan,       nan,\n               nan],\n        [      nan,       nan,       nan, ...,       nan,       nan,\n               nan],\n        ...,\n        [5.48     , 5.47     , 5.44     , ...,       nan,       nan,\n               nan],\n        [5.45     , 5.44     , 5.4      , ...,       nan,       nan,\n               nan],\n        [5.4      , 5.39     , 5.3599997, ...,       nan,       nan,\n               nan]],\n\n       [[      nan,       nan,       nan, ...,       nan,       nan,\n               nan],\n        [      nan,       nan,       nan, ...,       nan,       nan,\n               nan],\n        [      nan,       nan,       nan, ...,       nan,       nan,\n               nan],\n...\n        [2.54     , 2.52     , 2.48     , ...,       nan,       nan,\n               nan],\n        [2.54     , 2.53     , 2.5      , ...,       nan,       nan,\n               nan],\n        [2.54     , 2.53     , 2.51     , ...,       nan,       nan,\n               nan]],\n\n       [[      nan,       nan,       nan, ...,       nan,       nan,\n               nan],\n        [      nan,       nan,       nan, ...,       nan,       nan,\n               nan],\n        [      nan,       nan,       nan, ...,       nan,       nan,\n               nan],\n        ...,\n        [1.06     , 1.06     , 1.06     , ...,       nan,       nan,\n               nan],\n        [1.0699999, 1.0699999, 1.06     , ...,       nan,       nan,\n               nan],\n        [1.0799999, 1.0799999, 1.0799999, ...,       nan,       nan,\n               nan]]], dtype=float32)</pre></div></li><li class='xr-var-item'><div class='xr-var-name'><span>VMDR_WW</span></div><div class='xr-var-dims'>(time, latitude, longitude)</div><div class='xr-var-dtype'>float32</div><div class='xr-var-preview xr-preview'>nan nan nan nan ... nan nan nan nan</div><input id='attrs-c7c704a9-f1cb-4115-bc1e-f65e6bd82236' class='xr-var-attrs-in' type='checkbox' ><label for='attrs-c7c704a9-f1cb-4115-bc1e-f65e6bd82236' title='Show/Hide attributes'><svg class='icon xr-icon-file-text2'><use xlink:href='#icon-file-text2'></use></svg></label><input id='data-9972ccc8-369d-49d7-878b-d118d9008f9c' class='xr-var-data-in' type='checkbox'><label for='data-9972ccc8-369d-49d7-878b-d118d9008f9c' title='Show/Hide data repr'><svg class='icon xr-icon-database'><use xlink:href='#icon-database'></use></svg></label><div class='xr-var-attrs'><dl class='xr-attrs'><dt><span>long_name :</span></dt><dd>Mean wind wave direction from</dd><dt><span>units :</span></dt><dd>degree</dd><dt><span>standard_name :</span></dt><dd>sea_surface_wind_wave_from_direction</dd><dt><span>cell_methods :</span></dt><dd>time:point area:mean</dd><dt><span>type_of_analysis :</span></dt><dd>spectral analysis</dd><dt><span>WMO_code :</span></dt><dd>101</dd></dl></div><div class='xr-var-data'><pre>array([[[      nan,       nan,       nan, ...,       nan,       nan,\n               nan],\n        [      nan,       nan,       nan, ...,       nan,       nan,\n               nan],\n        [      nan,       nan,       nan, ...,       nan,       nan,\n               nan],\n        ...,\n        [254.53   , 254.98999, 255.32   , ...,       nan,       nan,\n               nan],\n        [254.23   , 254.64   , 254.92   , ...,       nan,       nan,\n               nan],\n        [254.07   , 254.39   , 254.73   , ...,       nan,       nan,\n               nan]],\n\n       [[      nan,       nan,       nan, ...,       nan,       nan,\n               nan],\n        [      nan,       nan,       nan, ...,       nan,       nan,\n               nan],\n        [      nan,       nan,       nan, ...,       nan,       nan,\n               nan],\n...\n        [339.27   , 339.37   , 339.91   , ...,       nan,       nan,\n               nan],\n        [339.49   , 339.83002, 340.14   , ...,       nan,       nan,\n               nan],\n        [339.78   , 340.84   , 341.11   , ...,       nan,       nan,\n               nan]],\n\n       [[      nan,       nan,       nan, ...,       nan,       nan,\n               nan],\n        [      nan,       nan,       nan, ...,       nan,       nan,\n               nan],\n        [      nan,       nan,       nan, ...,       nan,       nan,\n               nan],\n        ...,\n        [134.95   , 134.4    , 133.84   , ...,       nan,       nan,\n               nan],\n        [131.48   , 131.41   , 131.75   , ...,       nan,       nan,\n               nan],\n        [130.57   , 131.21   , 132.45   , ...,       nan,       nan,\n               nan]]], dtype=float32)</pre></div></li><li class='xr-var-item'><div class='xr-var-name'><span>VHM0_WW</span></div><div class='xr-var-dims'>(time, latitude, longitude)</div><div class='xr-var-dtype'>float32</div><div class='xr-var-preview xr-preview'>nan nan nan nan ... nan nan nan nan</div><input id='attrs-2b47d9dc-00ba-43d3-a07c-541f96a0f337' class='xr-var-attrs-in' type='checkbox' ><label for='attrs-2b47d9dc-00ba-43d3-a07c-541f96a0f337' title='Show/Hide attributes'><svg class='icon xr-icon-file-text2'><use xlink:href='#icon-file-text2'></use></svg></label><input id='data-09e4dc96-b043-469c-ba58-33e77c2a45fe' class='xr-var-data-in' type='checkbox'><label for='data-09e4dc96-b043-469c-ba58-33e77c2a45fe' title='Show/Hide data repr'><svg class='icon xr-icon-database'><use xlink:href='#icon-database'></use></svg></label><div class='xr-var-attrs'><dl class='xr-attrs'><dt><span>long_name :</span></dt><dd>Spectral significant wind wave height</dd><dt><span>units :</span></dt><dd>m</dd><dt><span>standard_name :</span></dt><dd>sea_surface_wind_wave_significant_height</dd><dt><span>cell_methods :</span></dt><dd>time:point area:mean</dd><dt><span>type_of_analysis :</span></dt><dd>spectral analysis</dd><dt><span>WMO_code :</span></dt><dd>102</dd></dl></div><div class='xr-var-data'><pre>array([[[       nan,        nan,        nan, ...,        nan,\n                nan,        nan],\n        [       nan,        nan,        nan, ...,        nan,\n                nan,        nan],\n        [       nan,        nan,        nan, ...,        nan,\n                nan,        nan],\n        ...,\n        [5.22      , 5.21      , 5.19      , ...,        nan,\n                nan,        nan],\n        [5.16      , 5.16      , 5.12      , ...,        nan,\n                nan,        nan],\n        [5.08      , 5.08      , 5.06      , ...,        nan,\n                nan,        nan]],\n\n       [[       nan,        nan,        nan, ...,        nan,\n                nan,        nan],\n        [       nan,        nan,        nan, ...,        nan,\n                nan,        nan],\n        [       nan,        nan,        nan, ...,        nan,\n                nan,        nan],\n...\n        [1.12      , 1.15      , 1.2099999 , ...,        nan,\n                nan,        nan],\n        [1.16      , 1.1999999 , 1.24      , ...,        nan,\n                nan,        nan],\n        [1.2099999 , 1.25      , 1.3       , ...,        nan,\n                nan,        nan]],\n\n       [[       nan,        nan,        nan, ...,        nan,\n                nan,        nan],\n        [       nan,        nan,        nan, ...,        nan,\n                nan,        nan],\n        [       nan,        nan,        nan, ...,        nan,\n                nan,        nan],\n        ...,\n        [0.25      , 0.25      , 0.25      , ...,        nan,\n                nan,        nan],\n        [0.26999998, 0.26999998, 0.26999998, ...,        nan,\n                nan,        nan],\n        [0.29      , 0.29      , 0.29999998, ...,        nan,\n                nan,        nan]]], dtype=float32)</pre></div></li><li class='xr-var-item'><div class='xr-var-name'><span>VMDR_SW1</span></div><div class='xr-var-dims'>(time, latitude, longitude)</div><div class='xr-var-dtype'>float32</div><div class='xr-var-preview xr-preview'>nan nan nan nan ... nan nan nan nan</div><input id='attrs-8b8c43e3-e657-4145-b509-949c010009f1' class='xr-var-attrs-in' type='checkbox' ><label for='attrs-8b8c43e3-e657-4145-b509-949c010009f1' title='Show/Hide attributes'><svg class='icon xr-icon-file-text2'><use xlink:href='#icon-file-text2'></use></svg></label><input id='data-c256cc28-13fe-479c-b4de-d2fbe1cfd2d0' class='xr-var-data-in' type='checkbox'><label for='data-c256cc28-13fe-479c-b4de-d2fbe1cfd2d0' title='Show/Hide data repr'><svg class='icon xr-icon-database'><use xlink:href='#icon-database'></use></svg></label><div class='xr-var-attrs'><dl class='xr-attrs'><dt><span>long_name :</span></dt><dd>Mean primary swell wave direction from</dd><dt><span>units :</span></dt><dd>degree</dd><dt><span>standard_name :</span></dt><dd>sea_surface_primary_swell_wave_from_direction</dd><dt><span>cell_methods :</span></dt><dd>time:point area:mean</dd><dt><span>type_of_analysis :</span></dt><dd>spectral analysis</dd><dt><span>WMO_code :</span></dt><dd>107</dd></dl></div><div class='xr-var-data'><pre>array([[[      nan,       nan,       nan, ...,       nan,       nan,\n               nan],\n        [      nan,       nan,       nan, ...,       nan,       nan,\n               nan],\n        [      nan,       nan,       nan, ...,       nan,       nan,\n               nan],\n        ...,\n        [317.82   , 312.97   , 312.07   , ...,       nan,       nan,\n               nan],\n        [320.14   , 314.11   , 312.43   , ...,       nan,       nan,\n               nan],\n        [318.84   , 314.32   , 312.65   , ...,       nan,       nan,\n               nan]],\n\n       [[      nan,       nan,       nan, ...,       nan,       nan,\n               nan],\n        [      nan,       nan,       nan, ...,       nan,       nan,\n               nan],\n        [      nan,       nan,       nan, ...,       nan,       nan,\n               nan],\n...\n        [358.39   , 357.72998, 356.86   , ...,       nan,       nan,\n               nan],\n        [359.28   , 358.56   , 357.84998, ...,       nan,       nan,\n               nan],\n        [299.94   , 349.26   , 358.7    , ...,       nan,       nan,\n               nan]],\n\n       [[      nan,       nan,       nan, ...,       nan,       nan,\n               nan],\n        [      nan,       nan,       nan, ...,       nan,       nan,\n               nan],\n        [      nan,       nan,       nan, ...,       nan,       nan,\n               nan],\n        ...,\n        [257.45   , 257.76   , 258.06   , ...,       nan,       nan,\n               nan],\n        [256.71   , 257.     , 257.25   , ...,       nan,       nan,\n               nan],\n        [256.01   , 256.27   , 256.49   , ...,       nan,       nan,\n               nan]]], dtype=float32)</pre></div></li><li class='xr-var-item'><div class='xr-var-name'><span>VTM01_SW1</span></div><div class='xr-var-dims'>(time, latitude, longitude)</div><div class='xr-var-dtype'>float32</div><div class='xr-var-preview xr-preview'>nan nan nan nan ... nan nan nan nan</div><input id='attrs-87e67d2d-a04a-4380-9535-f6d5e708e9b9' class='xr-var-attrs-in' type='checkbox' ><label for='attrs-87e67d2d-a04a-4380-9535-f6d5e708e9b9' title='Show/Hide attributes'><svg class='icon xr-icon-file-text2'><use xlink:href='#icon-file-text2'></use></svg></label><input id='data-e309fc15-bb15-46ce-9000-731849168bd2' class='xr-var-data-in' type='checkbox'><label for='data-e309fc15-bb15-46ce-9000-731849168bd2' title='Show/Hide data repr'><svg class='icon xr-icon-database'><use xlink:href='#icon-database'></use></svg></label><div class='xr-var-attrs'><dl class='xr-attrs'><dt><span>long_name :</span></dt><dd>Spectral moments (0,1) primary swell wave period</dd><dt><span>units :</span></dt><dd>s</dd><dt><span>standard_name :</span></dt><dd>sea_surface_primary_swell_wave_mean_period</dd><dt><span>cell_methods :</span></dt><dd>time:point area:mean</dd><dt><span>type_of_analysis :</span></dt><dd>spectral analysis</dd><dt><span>WMO_code :</span></dt><dd>226</dd></dl></div><div class='xr-var-data'><pre>array([[[      nan,       nan,       nan, ...,       nan,       nan,\n               nan],\n        [      nan,       nan,       nan, ...,       nan,       nan,\n               nan],\n        [      nan,       nan,       nan, ...,       nan,       nan,\n               nan],\n        ...,\n        [8.38     , 8.84     , 8.94     , ...,       nan,       nan,\n               nan],\n        [8.17     , 8.73     , 8.91     , ...,       nan,       nan,\n               nan],\n        [8.429999 , 8.78     , 8.9      , ...,       nan,       nan,\n               nan]],\n\n       [[      nan,       nan,       nan, ...,       nan,       nan,\n               nan],\n        [      nan,       nan,       nan, ...,       nan,       nan,\n               nan],\n        [      nan,       nan,       nan, ...,       nan,       nan,\n               nan],\n...\n        [7.1099997, 7.1299996, 7.17     , ...,       nan,       nan,\n               nan],\n        [7.1099997, 7.12     , 7.16     , ...,       nan,       nan,\n               nan],\n        [7.0899997, 7.12     , 7.16     , ...,       nan,       nan,\n               nan]],\n\n       [[      nan,       nan,       nan, ...,       nan,       nan,\n               nan],\n        [      nan,       nan,       nan, ...,       nan,       nan,\n               nan],\n        [      nan,       nan,       nan, ...,       nan,       nan,\n               nan],\n        ...,\n        [7.64     , 7.6299996, 7.6299996, ...,       nan,       nan,\n               nan],\n        [7.6299996, 7.62     , 7.62     , ...,       nan,       nan,\n               nan],\n        [7.5899997, 7.5899997, 7.6      , ...,       nan,       nan,\n               nan]]], dtype=float32)</pre></div></li><li class='xr-var-item'><div class='xr-var-name'><span>VMDR_SW2</span></div><div class='xr-var-dims'>(time, latitude, longitude)</div><div class='xr-var-dtype'>float32</div><div class='xr-var-preview xr-preview'>nan nan nan nan ... nan nan nan nan</div><input id='attrs-b6bb02e9-a45a-4501-99d3-7c8b03038903' class='xr-var-attrs-in' type='checkbox' ><label for='attrs-b6bb02e9-a45a-4501-99d3-7c8b03038903' title='Show/Hide attributes'><svg class='icon xr-icon-file-text2'><use xlink:href='#icon-file-text2'></use></svg></label><input id='data-cd68d6c5-7d4e-4823-a426-0aa41e0c63b0' class='xr-var-data-in' type='checkbox'><label for='data-cd68d6c5-7d4e-4823-a426-0aa41e0c63b0' title='Show/Hide data repr'><svg class='icon xr-icon-database'><use xlink:href='#icon-database'></use></svg></label><div class='xr-var-attrs'><dl class='xr-attrs'><dt><span>long_name :</span></dt><dd>Mean secondary swell wave direction from</dd><dt><span>units :</span></dt><dd>degree</dd><dt><span>standard_name :</span></dt><dd>sea_surface_secondary_swell_wave_from_direction</dd><dt><span>cell_methods :</span></dt><dd>time:point area:mean</dd><dt><span>type_of_analysis :</span></dt><dd>spectral analysis</dd><dt><span>WMO_code :</span></dt><dd>109</dd></dl></div><div class='xr-var-data'><pre>array([[[      nan,       nan,       nan, ...,       nan,       nan,\n               nan],\n        [      nan,       nan,       nan, ...,       nan,       nan,\n               nan],\n        [      nan,       nan,       nan, ...,       nan,       nan,\n               nan],\n        ...,\n        [296.11   , 296.18   , 296.36   , ...,       nan,       nan,\n               nan],\n        [296.14   , 296.24   , 296.41998, ...,       nan,       nan,\n               nan],\n        [285.5    , 291.46   , 295.24   , ...,       nan,       nan,\n               nan]],\n\n       [[      nan,       nan,       nan, ...,       nan,       nan,\n               nan],\n        [      nan,       nan,       nan, ...,       nan,       nan,\n               nan],\n        [      nan,       nan,       nan, ...,       nan,       nan,\n               nan],\n...\n        [281.97   , 287.65   , 288.76   , ...,       nan,       nan,\n               nan],\n        [287.51   , 288.53   , 288.75   , ...,       nan,       nan,\n               nan],\n        [288.72998, 288.66998, 288.89   , ...,       nan,       nan,\n               nan]],\n\n       [[      nan,       nan,       nan, ...,       nan,       nan,\n               nan],\n        [      nan,       nan,       nan, ...,       nan,       nan,\n               nan],\n        [      nan,       nan,       nan, ...,       nan,       nan,\n               nan],\n        ...,\n        [304.88   , 304.81   , 304.79   , ...,       nan,       nan,\n               nan],\n        [304.97   , 304.93   , 304.97998, ...,       nan,       nan,\n               nan],\n        [304.91998, 305.03   , 305.18   , ...,       nan,       nan,\n               nan]]], dtype=float32)</pre></div></li><li class='xr-var-item'><div class='xr-var-name'><span>VTM01_SW2</span></div><div class='xr-var-dims'>(time, latitude, longitude)</div><div class='xr-var-dtype'>float32</div><div class='xr-var-preview xr-preview'>nan nan nan nan ... nan nan nan nan</div><input id='attrs-1ac41cf0-5d33-478a-b442-a7d6abde3c4b' class='xr-var-attrs-in' type='checkbox' ><label for='attrs-1ac41cf0-5d33-478a-b442-a7d6abde3c4b' title='Show/Hide attributes'><svg class='icon xr-icon-file-text2'><use xlink:href='#icon-file-text2'></use></svg></label><input id='data-0f93cfba-faca-4111-878c-d31a9f72d735' class='xr-var-data-in' type='checkbox'><label for='data-0f93cfba-faca-4111-878c-d31a9f72d735' title='Show/Hide data repr'><svg class='icon xr-icon-database'><use xlink:href='#icon-database'></use></svg></label><div class='xr-var-attrs'><dl class='xr-attrs'><dt><span>long_name :</span></dt><dd>Spectral moments (0,1) secondary swell wave period</dd><dt><span>units :</span></dt><dd>s</dd><dt><span>standard_name :</span></dt><dd>sea_surface_secondary_swell_wave_mean_period</dd><dt><span>cell_methods :</span></dt><dd>time:point area:mean</dd><dt><span>type_of_analysis :</span></dt><dd>spectral analysis</dd><dt><span>WMO_code :</span></dt><dd>227</dd></dl></div><div class='xr-var-data'><pre>array([[[       nan,        nan,        nan, ...,        nan,\n                nan,        nan],\n        [       nan,        nan,        nan, ...,        nan,\n                nan,        nan],\n        [       nan,        nan,        nan, ...,        nan,\n                nan,        nan],\n        ...,\n        [11.55     , 11.559999 , 11.57     , ...,        nan,\n                nan,        nan],\n        [11.559999 , 11.559999 , 11.57     , ...,        nan,\n                nan,        nan],\n        [11.559999 , 11.57     , 11.58     , ...,        nan,\n                nan,        nan]],\n\n       [[       nan,        nan,        nan, ...,        nan,\n                nan,        nan],\n        [       nan,        nan,        nan, ...,        nan,\n                nan,        nan],\n        [       nan,        nan,        nan, ...,        nan,\n                nan,        nan],\n...\n        [ 4.98     ,  4.6      ,  4.54     , ...,        nan,\n                nan,        nan],\n        [ 4.37     ,  4.49     ,  4.58     , ...,        nan,\n                nan,        nan],\n        [ 4.5099998,  4.5099998,  4.6      , ...,        nan,\n                nan,        nan]],\n\n       [[       nan,        nan,        nan, ...,        nan,\n                nan,        nan],\n        [       nan,        nan,        nan, ...,        nan,\n                nan,        nan],\n        [       nan,        nan,        nan, ...,        nan,\n                nan,        nan],\n        ...,\n        [ 6.7999997,  6.81     ,  6.8199997, ...,        nan,\n                nan,        nan],\n        [ 6.7999997,  6.81     ,  6.81     , ...,        nan,\n                nan,        nan],\n        [ 6.7799997,  6.7999997,  6.81     , ...,        nan,\n                nan,        nan]]], dtype=float32)</pre></div></li><li class='xr-var-item'><div class='xr-var-name'><span>VMDR</span></div><div class='xr-var-dims'>(time, latitude, longitude)</div><div class='xr-var-dtype'>float32</div><div class='xr-var-preview xr-preview'>nan nan nan nan ... nan nan nan nan</div><input id='attrs-4a9893c5-4f7e-497c-90eb-ade81ab88d52' class='xr-var-attrs-in' type='checkbox' ><label for='attrs-4a9893c5-4f7e-497c-90eb-ade81ab88d52' title='Show/Hide attributes'><svg class='icon xr-icon-file-text2'><use xlink:href='#icon-file-text2'></use></svg></label><input id='data-05d9318e-2dc9-43b8-acd6-11bed9a220fc' class='xr-var-data-in' type='checkbox'><label for='data-05d9318e-2dc9-43b8-acd6-11bed9a220fc' title='Show/Hide data repr'><svg class='icon xr-icon-database'><use xlink:href='#icon-database'></use></svg></label><div class='xr-var-attrs'><dl class='xr-attrs'><dt><span>long_name :</span></dt><dd>Mean wave direction from (Mdir)</dd><dt><span>units :</span></dt><dd>degree</dd><dt><span>standard_name :</span></dt><dd>sea_surface_wave_from_direction</dd><dt><span>cell_methods :</span></dt><dd>time:point area:mean</dd><dt><span>type_of_analysis :</span></dt><dd>spectral analysis</dd><dt><span>WMO_code :</span></dt><dd>200</dd></dl></div><div class='xr-var-data'><pre>array([[[      nan,       nan,       nan, ...,       nan,       nan,\n               nan],\n        [      nan,       nan,       nan, ...,       nan,       nan,\n               nan],\n        [      nan,       nan,       nan, ...,       nan,       nan,\n               nan],\n        ...,\n        [259.     , 259.62   , 260.04   , ...,       nan,       nan,\n               nan],\n        [258.72998, 259.33002, 259.75   , ...,       nan,       nan,\n               nan],\n        [258.54   , 259.09   , 259.62   , ...,       nan,       nan,\n               nan]],\n\n       [[      nan,       nan,       nan, ...,       nan,       nan,\n               nan],\n        [      nan,       nan,       nan, ...,       nan,       nan,\n               nan],\n        [      nan,       nan,       nan, ...,       nan,       nan,\n               nan],\n...\n        [353.64   , 352.77   , 351.71   , ...,       nan,       nan,\n               nan],\n        [353.95   , 353.18   , 352.22998, ...,       nan,       nan,\n               nan],\n        [354.22   , 353.52   , 352.72   , ...,       nan,       nan,\n               nan]],\n\n       [[      nan,       nan,       nan, ...,       nan,       nan,\n               nan],\n        [      nan,       nan,       nan, ...,       nan,       nan,\n               nan],\n        [      nan,       nan,       nan, ...,       nan,       nan,\n               nan],\n        ...,\n        [273.89   , 274.25   , 274.56   , ...,       nan,       nan,\n               nan],\n        [273.56   , 273.89   , 274.1    , ...,       nan,       nan,\n               nan],\n        [272.79   , 273.02   , 273.15   , ...,       nan,       nan,\n               nan]]], dtype=float32)</pre></div></li><li class='xr-var-item'><div class='xr-var-name'><span>VTM10</span></div><div class='xr-var-dims'>(time, latitude, longitude)</div><div class='xr-var-dtype'>float32</div><div class='xr-var-preview xr-preview'>nan nan nan nan ... nan nan nan nan</div><input id='attrs-c22d2d5f-a83d-4cb0-9ecd-2ce382789beb' class='xr-var-attrs-in' type='checkbox' ><label for='attrs-c22d2d5f-a83d-4cb0-9ecd-2ce382789beb' title='Show/Hide attributes'><svg class='icon xr-icon-file-text2'><use xlink:href='#icon-file-text2'></use></svg></label><input id='data-1ac6931a-ee6f-4504-9e2a-bf7c8b5734b2' class='xr-var-data-in' type='checkbox'><label for='data-1ac6931a-ee6f-4504-9e2a-bf7c8b5734b2' title='Show/Hide data repr'><svg class='icon xr-icon-database'><use xlink:href='#icon-database'></use></svg></label><div class='xr-var-attrs'><dl class='xr-attrs'><dt><span>long_name :</span></dt><dd>Spectral moments (-1,0) wave period (Tm-10)</dd><dt><span>units :</span></dt><dd>s</dd><dt><span>standard_name :</span></dt><dd>sea_surface_wave_mean_period_from_variance_spectral_density_inverse_frequency_moment</dd><dt><span>cell_methods :</span></dt><dd>time:point area:mean</dd><dt><span>type_of_analysis :</span></dt><dd>spectral analysis</dd><dt><span>WMO_code :</span></dt><dd>201</dd></dl></div><div class='xr-var-data'><pre>array([[[       nan,        nan,        nan, ...,        nan,\n                nan,        nan],\n        [       nan,        nan,        nan, ...,        nan,\n                nan,        nan],\n        [       nan,        nan,        nan, ...,        nan,\n                nan,        nan],\n        ...,\n        [ 9.469999 ,  9.44     ,  9.4      , ...,        nan,\n                nan,        nan],\n        [ 9.46     ,  9.429999 ,  9.389999 , ...,        nan,\n                nan,        nan],\n        [ 9.429999 ,  9.41     ,  9.38     , ...,        nan,\n                nan,        nan]],\n\n       [[       nan,        nan,        nan, ...,        nan,\n                nan,        nan],\n        [       nan,        nan,        nan, ...,        nan,\n                nan,        nan],\n        [       nan,        nan,        nan, ...,        nan,\n                nan,        nan],\n...\n        [ 7.69     ,  7.66     ,  7.62     , ...,        nan,\n                nan,        nan],\n        [ 7.6499996,  7.6299996,  7.5899997, ...,        nan,\n                nan,        nan],\n        [ 7.6099997,  7.58     ,  7.5499997, ...,        nan,\n                nan,        nan]],\n\n       [[       nan,        nan,        nan, ...,        nan,\n                nan,        nan],\n        [       nan,        nan,        nan, ...,        nan,\n                nan,        nan],\n        [       nan,        nan,        nan, ...,        nan,\n                nan,        nan],\n        ...,\n        [ 8.55     ,  8.559999 ,  8.559999 , ...,        nan,\n                nan,        nan],\n        [ 8.559999 ,  8.559999 ,  8.55     , ...,        nan,\n                nan,        nan],\n        [ 8.51     ,  8.5      ,  8.49     , ...,        nan,\n                nan,        nan]]], dtype=float32)</pre></div></li><li class='xr-var-item'><div class='xr-var-name'><span>VHM0_SW1</span></div><div class='xr-var-dims'>(time, latitude, longitude)</div><div class='xr-var-dtype'>float32</div><div class='xr-var-preview xr-preview'>nan nan nan nan ... nan nan nan nan</div><input id='attrs-4f862290-458a-4877-9f52-0eaefdbff1a5' class='xr-var-attrs-in' type='checkbox' ><label for='attrs-4f862290-458a-4877-9f52-0eaefdbff1a5' title='Show/Hide attributes'><svg class='icon xr-icon-file-text2'><use xlink:href='#icon-file-text2'></use></svg></label><input id='data-48377248-f95f-4bd2-889e-e4993ce6640f' class='xr-var-data-in' type='checkbox'><label for='data-48377248-f95f-4bd2-889e-e4993ce6640f' title='Show/Hide data repr'><svg class='icon xr-icon-database'><use xlink:href='#icon-database'></use></svg></label><div class='xr-var-attrs'><dl class='xr-attrs'><dt><span>long_name :</span></dt><dd>Spectral significant primary swell wave height</dd><dt><span>units :</span></dt><dd>m</dd><dt><span>standard_name :</span></dt><dd>sea_surface_primary_swell_wave_significant_height</dd><dt><span>cell_methods :</span></dt><dd>time:point area:mean</dd><dt><span>type_of_analysis :</span></dt><dd>spectral analysis</dd><dt><span>WMO_code :</span></dt><dd>202</dd></dl></div><div class='xr-var-data'><pre>array([[[       nan,        nan,        nan, ...,        nan,\n                nan,        nan],\n        [       nan,        nan,        nan, ...,        nan,\n                nan,        nan],\n        [       nan,        nan,        nan, ...,        nan,\n                nan,        nan],\n        ...,\n        [0.87      , 0.66999996, 0.64      , ...,        nan,\n                nan,        nan],\n        [0.96999997, 0.71999997, 0.65      , ...,        nan,\n                nan,        nan],\n        [0.96999997, 0.76      , 0.66999996, ...,        nan,\n                nan,        nan]],\n\n       [[       nan,        nan,        nan, ...,        nan,\n                nan,        nan],\n        [       nan,        nan,        nan, ...,        nan,\n                nan,        nan],\n        [       nan,        nan,        nan, ...,        nan,\n                nan,        nan],\n...\n        [2.25      , 2.21      , 2.1399999 , ...,        nan,\n                nan,        nan],\n        [2.23      , 2.2       , 2.1299999 , ...,        nan,\n                nan,        nan],\n        [2.21      , 2.1699998 , 2.12      , ...,        nan,\n                nan,        nan]],\n\n       [[       nan,        nan,        nan, ...,        nan,\n                nan,        nan],\n        [       nan,        nan,        nan, ...,        nan,\n                nan,        nan],\n        [       nan,        nan,        nan, ...,        nan,\n                nan,        nan],\n        ...,\n        [0.79999995, 0.79999995, 0.78999996, ...,        nan,\n                nan,        nan],\n        [0.81      , 0.81      , 0.79999995, ...,        nan,\n                nan,        nan],\n        [0.82      , 0.82      , 0.81      , ...,        nan,\n                nan,        nan]]], dtype=float32)</pre></div></li><li class='xr-var-item'><div class='xr-var-name'><span>VHM0_SW2</span></div><div class='xr-var-dims'>(time, latitude, longitude)</div><div class='xr-var-dtype'>float32</div><div class='xr-var-preview xr-preview'>nan nan nan nan ... nan nan nan nan</div><input id='attrs-d6450eb1-6137-4f60-95fd-4b9aa26c8761' class='xr-var-attrs-in' type='checkbox' ><label for='attrs-d6450eb1-6137-4f60-95fd-4b9aa26c8761' title='Show/Hide attributes'><svg class='icon xr-icon-file-text2'><use xlink:href='#icon-file-text2'></use></svg></label><input id='data-b648885d-f435-45c6-998a-9406ab6ae430' class='xr-var-data-in' type='checkbox'><label for='data-b648885d-f435-45c6-998a-9406ab6ae430' title='Show/Hide data repr'><svg class='icon xr-icon-database'><use xlink:href='#icon-database'></use></svg></label><div class='xr-var-attrs'><dl class='xr-attrs'><dt><span>long_name :</span></dt><dd>Spectral significant secondary swell wave height</dd><dt><span>units :</span></dt><dd>m</dd><dt><span>standard_name :</span></dt><dd>sea_surface_secondary_swell_wave_significant_height</dd><dt><span>cell_methods :</span></dt><dd>time:point area:mean</dd><dt><span>type_of_analysis :</span></dt><dd>spectral analysis</dd><dt><span>WMO_code :</span></dt><dd>203</dd></dl></div><div class='xr-var-data'><pre>array([[[       nan,        nan,        nan, ...,        nan,\n                nan,        nan],\n        [       nan,        nan,        nan, ...,        nan,\n                nan,        nan],\n        [       nan,        nan,        nan, ...,        nan,\n                nan,        nan],\n        ...,\n        [0.55      , 0.55      , 0.55      , ...,        nan,\n                nan,        nan],\n        [0.53      , 0.53      , 0.53      , ...,        nan,\n                nan,        nan],\n        [0.5       , 0.51      , 0.51      , ...,        nan,\n                nan,        nan]],\n\n       [[       nan,        nan,        nan, ...,        nan,\n                nan,        nan],\n        [       nan,        nan,        nan, ...,        nan,\n                nan,        nan],\n        [       nan,        nan,        nan, ...,        nan,\n                nan,        nan],\n...\n        [0.24      , 0.22999999, 0.24      , ...,        nan,\n                nan,        nan],\n        [0.25      , 0.24      , 0.24      , ...,        nan,\n                nan,        nan],\n        [0.22999999, 0.22999999, 0.24      , ...,        nan,\n                nan,        nan]],\n\n       [[       nan,        nan,        nan, ...,        nan,\n                nan,        nan],\n        [       nan,        nan,        nan, ...,        nan,\n                nan,        nan],\n        [       nan,        nan,        nan, ...,        nan,\n                nan,        nan],\n        ...,\n        [0.57      , 0.57      , 0.57      , ...,        nan,\n                nan,        nan],\n        [0.57      , 0.58      , 0.57      , ...,        nan,\n                nan,        nan],\n        [0.57      , 0.57      , 0.58      , ...,        nan,\n                nan,        nan]]], dtype=float32)</pre></div></li><li class='xr-var-item'><div class='xr-var-name'><span>VTPK</span></div><div class='xr-var-dims'>(time, latitude, longitude)</div><div class='xr-var-dtype'>float32</div><div class='xr-var-preview xr-preview'>nan nan nan nan ... nan nan nan nan</div><input id='attrs-73848573-da55-41ec-b976-601af5f59f81' class='xr-var-attrs-in' type='checkbox' ><label for='attrs-73848573-da55-41ec-b976-601af5f59f81' title='Show/Hide attributes'><svg class='icon xr-icon-file-text2'><use xlink:href='#icon-file-text2'></use></svg></label><input id='data-15f6d298-60af-4517-81e9-e80f04d1685a' class='xr-var-data-in' type='checkbox'><label for='data-15f6d298-60af-4517-81e9-e80f04d1685a' title='Show/Hide data repr'><svg class='icon xr-icon-database'><use xlink:href='#icon-database'></use></svg></label><div class='xr-var-attrs'><dl class='xr-attrs'><dt><span>long_name :</span></dt><dd>Wave period at spectral peak / peak period (Tp)</dd><dt><span>units :</span></dt><dd>s</dd><dt><span>standard_name :</span></dt><dd>sea_surface_wave_period_at_variance_spectral_density_maximum</dd><dt><span>cell_methods :</span></dt><dd>time:point area:mean</dd><dt><span>type_of_analysis :</span></dt><dd>spectral analysis</dd><dt><span>WMO_code :</span></dt><dd>204</dd></dl></div><div class='xr-var-data'><pre>array([[[       nan,        nan,        nan, ...,        nan,\n                nan,        nan],\n        [       nan,        nan,        nan, ...,        nan,\n                nan,        nan],\n        [       nan,        nan,        nan, ...,        nan,\n                nan,        nan],\n        ...,\n        [10.78     , 10.76     , 10.73     , ...,        nan,\n                nan,        nan],\n        [10.7699995, 10.76     , 10.73     , ...,        nan,\n                nan,        nan],\n        [10.76     , 10.74     , 10.719999 , ...,        nan,\n                nan,        nan]],\n\n       [[       nan,        nan,        nan, ...,        nan,\n                nan,        nan],\n        [       nan,        nan,        nan, ...,        nan,\n                nan,        nan],\n        [       nan,        nan,        nan, ...,        nan,\n                nan,        nan],\n...\n        [ 8.96     ,  8.95     ,  8.92     , ...,        nan,\n                nan,        nan],\n        [ 8.929999 ,  8.91     ,  8.889999 , ...,        nan,\n                nan,        nan],\n        [ 8.889999 ,  8.87     ,  8.86     , ...,        nan,\n                nan,        nan]],\n\n       [[       nan,        nan,        nan, ...,        nan,\n                nan,        nan],\n        [       nan,        nan,        nan, ...,        nan,\n                nan,        nan],\n        [       nan,        nan,        nan, ...,        nan,\n                nan,        nan],\n        ...,\n        [ 9.08     ,  9.09     ,  9.099999 , ...,        nan,\n                nan,        nan],\n        [ 9.08     ,  9.09     ,  9.099999 , ...,        nan,\n                nan,        nan],\n        [ 9.08     ,  9.09     ,  9.099999 , ...,        nan,\n                nan,        nan]]], dtype=float32)</pre></div></li><li class='xr-var-item'><div class='xr-var-name'><span>VSDX</span></div><div class='xr-var-dims'>(time, latitude, longitude)</div><div class='xr-var-dtype'>float32</div><div class='xr-var-preview xr-preview'>nan nan nan nan ... nan nan nan nan</div><input id='attrs-03439d5e-2780-45cf-be15-5a9b916bd63d' class='xr-var-attrs-in' type='checkbox' ><label for='attrs-03439d5e-2780-45cf-be15-5a9b916bd63d' title='Show/Hide attributes'><svg class='icon xr-icon-file-text2'><use xlink:href='#icon-file-text2'></use></svg></label><input id='data-37fbded4-b542-4cfd-9c50-81df14d3d27d' class='xr-var-data-in' type='checkbox'><label for='data-37fbded4-b542-4cfd-9c50-81df14d3d27d' title='Show/Hide data repr'><svg class='icon xr-icon-database'><use xlink:href='#icon-database'></use></svg></label><div class='xr-var-attrs'><dl class='xr-attrs'><dt><span>long_name :</span></dt><dd>Stokes drift U</dd><dt><span>units :</span></dt><dd>m s-1</dd><dt><span>standard_name :</span></dt><dd>sea_surface_wave_stokes_drift_x_velocity</dd><dt><span>cell_methods :</span></dt><dd>time:point area:mean</dd><dt><span>type_of_analysis :</span></dt><dd>spectral analysis</dd><dt><span>WMO_code :</span></dt><dd>215</dd></dl></div><div class='xr-var-data'><pre>array([[[        nan,         nan,         nan, ...,         nan,\n                 nan,         nan],\n        [        nan,         nan,         nan, ...,         nan,\n                 nan,         nan],\n        [        nan,         nan,         nan, ...,         nan,\n                 nan,         nan],\n        ...,\n        [ 0.25      ,  0.25      ,  0.25      , ...,         nan,\n                 nan,         nan],\n        [ 0.25      ,  0.25      ,  0.25      , ...,         nan,\n                 nan,         nan],\n        [ 0.24      ,  0.24      ,  0.24      , ...,         nan,\n                 nan,         nan]],\n\n       [[        nan,         nan,         nan, ...,         nan,\n                 nan,         nan],\n        [        nan,         nan,         nan, ...,         nan,\n                 nan,         nan],\n        [        nan,         nan,         nan, ...,         nan,\n                 nan,         nan],\n...\n        [ 0.03      ,  0.03      ,  0.04      , ...,         nan,\n                 nan,         nan],\n        [ 0.03      ,  0.03      ,  0.04      , ...,         nan,\n                 nan,         nan],\n        [ 0.03      ,  0.03      ,  0.04      , ...,         nan,\n                 nan,         nan]],\n\n       [[        nan,         nan,         nan, ...,         nan,\n                 nan,         nan],\n        [        nan,         nan,         nan, ...,         nan,\n                 nan,         nan],\n        [        nan,         nan,         nan, ...,         nan,\n                 nan,         nan],\n        ...,\n        [-0.01      , -0.01      , -0.01      , ...,         nan,\n                 nan,         nan],\n        [-0.02      , -0.02      , -0.02      , ...,         nan,\n                 nan,         nan],\n        [-0.02      , -0.02      , -0.02      , ...,         nan,\n                 nan,         nan]]], dtype=float32)</pre></div></li><li class='xr-var-item'><div class='xr-var-name'><span>VSDY</span></div><div class='xr-var-dims'>(time, latitude, longitude)</div><div class='xr-var-dtype'>float32</div><div class='xr-var-preview xr-preview'>nan nan nan nan ... nan nan nan nan</div><input id='attrs-6930e263-8a0c-453e-83b2-87fc1bb574ca' class='xr-var-attrs-in' type='checkbox' ><label for='attrs-6930e263-8a0c-453e-83b2-87fc1bb574ca' title='Show/Hide attributes'><svg class='icon xr-icon-file-text2'><use xlink:href='#icon-file-text2'></use></svg></label><input id='data-61b64348-258e-43fa-93df-9f59fc4d2fe5' class='xr-var-data-in' type='checkbox'><label for='data-61b64348-258e-43fa-93df-9f59fc4d2fe5' title='Show/Hide data repr'><svg class='icon xr-icon-database'><use xlink:href='#icon-database'></use></svg></label><div class='xr-var-attrs'><dl class='xr-attrs'><dt><span>long_name :</span></dt><dd>Stokes drift V</dd><dt><span>units :</span></dt><dd>m s-1</dd><dt><span>standard_name :</span></dt><dd>sea_surface_wave_stokes_drift_y_velocity</dd><dt><span>cell_methods :</span></dt><dd>time:point area:mean</dd><dt><span>type_of_analysis :</span></dt><dd>spectral analysis</dd><dt><span>WMO_code :</span></dt><dd>216</dd></dl></div><div class='xr-var-data'><pre>array([[[  nan,   nan,   nan, ...,   nan,   nan,   nan],\n        [  nan,   nan,   nan, ...,   nan,   nan,   nan],\n        [  nan,   nan,   nan, ...,   nan,   nan,   nan],\n        ...,\n        [ 0.07,  0.07,  0.07, ...,   nan,   nan,   nan],\n        [ 0.07,  0.07,  0.07, ...,   nan,   nan,   nan],\n        [ 0.06,  0.06,  0.06, ...,   nan,   nan,   nan]],\n\n       [[  nan,   nan,   nan, ...,   nan,   nan,   nan],\n        [  nan,   nan,   nan, ...,   nan,   nan,   nan],\n        [  nan,   nan,   nan, ...,   nan,   nan,   nan],\n        ...,\n        [-0.07, -0.07, -0.07, ...,   nan,   nan,   nan],\n        [-0.07, -0.07, -0.08, ...,   nan,   nan,   nan],\n        [-0.08, -0.08, -0.08, ...,   nan,   nan,   nan]],\n\n       [[  nan,   nan,   nan, ...,   nan,   nan,   nan],\n        [  nan,   nan,   nan, ...,   nan,   nan,   nan],\n        [  nan,   nan,   nan, ...,   nan,   nan,   nan],\n        ...,\n        [-0.12, -0.12, -0.12, ...,   nan,   nan,   nan],\n        [-0.12, -0.12, -0.13, ...,   nan,   nan,   nan],\n        [-0.12, -0.13, -0.13, ...,   nan,   nan,   nan]],\n\n       [[  nan,   nan,   nan, ...,   nan,   nan,   nan],\n        [  nan,   nan,   nan, ...,   nan,   nan,   nan],\n        [  nan,   nan,   nan, ...,   nan,   nan,   nan],\n        ...,\n        [ 0.02,  0.02,  0.02, ...,   nan,   nan,   nan],\n        [ 0.02,  0.02,  0.02, ...,   nan,   nan,   nan],\n        [ 0.02,  0.03,  0.03, ...,   nan,   nan,   nan]]], dtype=float32)</pre></div></li><li class='xr-var-item'><div class='xr-var-name'><span>VPED</span></div><div class='xr-var-dims'>(time, latitude, longitude)</div><div class='xr-var-dtype'>float32</div><div class='xr-var-preview xr-preview'>nan nan nan nan ... nan nan nan nan</div><input id='attrs-c6ff26c6-2b04-4284-b97e-67cae1f68c64' class='xr-var-attrs-in' type='checkbox' ><label for='attrs-c6ff26c6-2b04-4284-b97e-67cae1f68c64' title='Show/Hide attributes'><svg class='icon xr-icon-file-text2'><use xlink:href='#icon-file-text2'></use></svg></label><input id='data-93c8d69b-c511-4d27-9f76-679384d1dc46' class='xr-var-data-in' type='checkbox'><label for='data-93c8d69b-c511-4d27-9f76-679384d1dc46' title='Show/Hide data repr'><svg class='icon xr-icon-database'><use xlink:href='#icon-database'></use></svg></label><div class='xr-var-attrs'><dl class='xr-attrs'><dt><span>long_name :</span></dt><dd>Wave principal direction at spectral peak</dd><dt><span>units :</span></dt><dd>degree</dd><dt><span>standard_name :</span></dt><dd>sea_surface_wave_from_direction_at_variance_spectral_density_maximum</dd><dt><span>cell_methods :</span></dt><dd>time:point area:mean</dd><dt><span>type_of_analysis :</span></dt><dd>spectral analysis</dd><dt><span>WMO_code :</span></dt><dd>[]</dd></dl></div><div class='xr-var-data'><pre>array([[[       nan,        nan,        nan, ...,        nan,\n                nan,        nan],\n        [       nan,        nan,        nan, ...,        nan,\n                nan,        nan],\n        [       nan,        nan,        nan, ...,        nan,\n                nan,        nan],\n        ...,\n        [262.5     , 262.5     , 262.5     , ...,        nan,\n                nan,        nan],\n        [262.5     , 262.5     , 262.5     , ...,        nan,\n                nan,        nan],\n        [262.5     , 262.5     , 262.5     , ...,        nan,\n                nan,        nan]],\n\n       [[       nan,        nan,        nan, ...,        nan,\n                nan,        nan],\n        [       nan,        nan,        nan, ...,        nan,\n                nan,        nan],\n        [       nan,        nan,        nan, ...,        nan,\n                nan,        nan],\n...\n        [  7.5     ,  34.33    , 137.83    , ...,        nan,\n                nan,        nan],\n        [  7.5     ,  14.639999,  81.4     , ...,        nan,\n                nan,        nan],\n        [  7.5     ,   7.5     ,   7.5     , ...,        nan,\n                nan,        nan]],\n\n       [[       nan,        nan,        nan, ...,        nan,\n                nan,        nan],\n        [       nan,        nan,        nan, ...,        nan,\n                nan,        nan],\n        [       nan,        nan,        nan, ...,        nan,\n                nan,        nan],\n        ...,\n        [262.5     , 262.5     , 262.5     , ...,        nan,\n                nan,        nan],\n        [262.5     , 262.5     , 262.5     , ...,        nan,\n                nan,        nan],\n        [262.5     , 262.5     , 262.5     , ...,        nan,\n                nan,        nan]]], dtype=float32)</pre></div></li><li class='xr-var-item'><div class='xr-var-name'><span>VTM02</span></div><div class='xr-var-dims'>(time, latitude, longitude)</div><div class='xr-var-dtype'>float32</div><div class='xr-var-preview xr-preview'>nan nan nan nan ... nan nan nan nan</div><input id='attrs-eda8c3f6-cc1f-4fd0-9280-214ae3f591c2' class='xr-var-attrs-in' type='checkbox' ><label for='attrs-eda8c3f6-cc1f-4fd0-9280-214ae3f591c2' title='Show/Hide attributes'><svg class='icon xr-icon-file-text2'><use xlink:href='#icon-file-text2'></use></svg></label><input id='data-164752cb-c85c-43f7-8ecf-694cbe9709ca' class='xr-var-data-in' type='checkbox'><label for='data-164752cb-c85c-43f7-8ecf-694cbe9709ca' title='Show/Hide data repr'><svg class='icon xr-icon-database'><use xlink:href='#icon-database'></use></svg></label><div class='xr-var-attrs'><dl class='xr-attrs'><dt><span>long_name :</span></dt><dd>Spectral moments (0,2) wave period (Tm02)</dd><dt><span>units :</span></dt><dd>s</dd><dt><span>standard_name :</span></dt><dd>sea_surface_wave_mean_period_from_variance_spectral_density_second_frequency_moment</dd><dt><span>cell_methods :</span></dt><dd>time:point area:mean</dd><dt><span>type_of_analysis :</span></dt><dd>spectral analysis</dd><dt><span>WMO_code :</span></dt><dd>221</dd></dl></div><div class='xr-var-data'><pre>array([[[      nan,       nan,       nan, ...,       nan,       nan,\n               nan],\n        [      nan,       nan,       nan, ...,       nan,       nan,\n               nan],\n        [      nan,       nan,       nan, ...,       nan,       nan,\n               nan],\n        ...,\n        [7.83     , 7.81     , 7.7599998, ...,       nan,       nan,\n               nan],\n        [7.8199997, 7.7999997, 7.75     , ...,       nan,       nan,\n               nan],\n        [7.7999997, 7.7799997, 7.75     , ...,       nan,       nan,\n               nan]],\n\n       [[      nan,       nan,       nan, ...,       nan,       nan,\n               nan],\n        [      nan,       nan,       nan, ...,       nan,       nan,\n               nan],\n        [      nan,       nan,       nan, ...,       nan,       nan,\n               nan],\n...\n        [6.08     , 6.0499997, 6.       , ...,       nan,       nan,\n               nan],\n        [6.06     , 6.0299997, 5.99     , ...,       nan,       nan,\n               nan],\n        [6.04     , 6.02     , 5.98     , ...,       nan,       nan,\n               nan]],\n\n       [[      nan,       nan,       nan, ...,       nan,       nan,\n               nan],\n        [      nan,       nan,       nan, ...,       nan,       nan,\n               nan],\n        [      nan,       nan,       nan, ...,       nan,       nan,\n               nan],\n        ...,\n        [5.65     , 5.67     , 5.66     , ...,       nan,       nan,\n               nan],\n        [5.66     , 5.68     , 5.66     , ...,       nan,       nan,\n               nan],\n        [5.58     , 5.5699997, 5.54     , ...,       nan,       nan,\n               nan]]], dtype=float32)</pre></div></li><li class='xr-var-item'><div class='xr-var-name'><span>VTM01_WW</span></div><div class='xr-var-dims'>(time, latitude, longitude)</div><div class='xr-var-dtype'>float32</div><div class='xr-var-preview xr-preview'>nan nan nan nan ... nan nan nan nan</div><input id='attrs-fa6f3554-4fda-435a-bd8b-038a8fe814af' class='xr-var-attrs-in' type='checkbox' ><label for='attrs-fa6f3554-4fda-435a-bd8b-038a8fe814af' title='Show/Hide attributes'><svg class='icon xr-icon-file-text2'><use xlink:href='#icon-file-text2'></use></svg></label><input id='data-0e7c9737-5c53-443e-b3f9-d1b28e5e716d' class='xr-var-data-in' type='checkbox'><label for='data-0e7c9737-5c53-443e-b3f9-d1b28e5e716d' title='Show/Hide data repr'><svg class='icon xr-icon-database'><use xlink:href='#icon-database'></use></svg></label><div class='xr-var-attrs'><dl class='xr-attrs'><dt><span>long_name :</span></dt><dd>Spectral moments (0,1) wind wave period</dd><dt><span>units :</span></dt><dd>s</dd><dt><span>standard_name :</span></dt><dd>sea_surface_wind_wave_mean_period</dd><dt><span>cell_methods :</span></dt><dd>time:point area:mean</dd><dt><span>type_of_analysis :</span></dt><dd>spectral analysis</dd><dt><span>WMO_code :</span></dt><dd>223</dd></dl></div><div class='xr-var-data'><pre>array([[[      nan,       nan,       nan, ...,       nan,       nan,\n               nan],\n        [      nan,       nan,       nan, ...,       nan,       nan,\n               nan],\n        [      nan,       nan,       nan, ...,       nan,       nan,\n               nan],\n        ...,\n        [8.5      , 8.47     , 8.42     , ...,       nan,       nan,\n               nan],\n        [8.48     , 8.45     , 8.4      , ...,       nan,       nan,\n               nan],\n        [8.44     , 8.42     , 8.389999 , ...,       nan,       nan,\n               nan]],\n\n       [[      nan,       nan,       nan, ...,       nan,       nan,\n               nan],\n        [      nan,       nan,       nan, ...,       nan,       nan,\n               nan],\n        [      nan,       nan,       nan, ...,       nan,       nan,\n               nan],\n...\n        [4.13     , 4.19     , 4.2799997, ...,       nan,       nan,\n               nan],\n        [4.22     , 4.2799997, 4.35     , ...,       nan,       nan,\n               nan],\n        [4.3199997, 4.4      , 4.48     , ...,       nan,       nan,\n               nan]],\n\n       [[      nan,       nan,       nan, ...,       nan,       nan,\n               nan],\n        [      nan,       nan,       nan, ...,       nan,       nan,\n               nan],\n        [      nan,       nan,       nan, ...,       nan,       nan,\n               nan],\n        ...,\n        [2.1699998, 2.18     , 2.18     , ...,       nan,       nan,\n               nan],\n        [2.19     , 2.2      , 2.21     , ...,       nan,       nan,\n               nan],\n        [2.24     , 2.25     , 2.26     , ...,       nan,       nan,\n               nan]]], dtype=float32)</pre></div></li></ul></div></li><li class='xr-section-item'><input id='section-760c4596-b6d2-46fa-a915-d937b247b920' class='xr-section-summary-in' type='checkbox'  ><label for='section-760c4596-b6d2-46fa-a915-d937b247b920' class='xr-section-summary' >Attributes: <span>(27)</span></label><div class='xr-section-inline-details'></div><div class='xr-section-details'><dl class='xr-attrs'><dt><span>Conventions :</span></dt><dd>CF-1.6</dd><dt><span>time_coverage_start :</span></dt><dd>20200101-03:00:00</dd><dt><span>time_coverage_end :</span></dt><dd>20200102-00:00:00</dd><dt><span>date_created :</span></dt><dd>20200102-06:22:00</dd><dt><span>product_type :</span></dt><dd>hindcast</dd><dt><span>product :</span></dt><dd>GLOBAL_ANALYSIS_FORECAST_WAV_001_027</dd><dt><span>product_ref_date :</span></dt><dd>20200101-00:00:00</dd><dt><span>product_range :</span></dt><dd>D-1</dd><dt><span>product_user_manual :</span></dt><dd>http://marine.copernicus.eu/documents/PUM/CMEMS-GLO-PUM-001-027.pdf</dd><dt><span>quality_information_document :</span></dt><dd> http://marine.copernicus.eu/documents/QUID/CMEMS-GLO-QUID-001-027.</dd><dt><span>dataset :</span></dt><dd>global-analysis-forecast-wav-001-027</dd><dt><span>title :</span></dt><dd>Mean fields from global wave model MFWAM of Meteo-France with ECMWF forcing</dd><dt><span>institution :</span></dt><dd>METEO-FRANCE</dd><dt><span>references :</span></dt><dd>http://marine.copernicus.eu</dd><dt><span>credit :</span></dt><dd>E.U. Copernicus Marine Service Information (CMEMS)</dd><dt><span>licence :</span></dt><dd>http://marine.copernicus.eu/services-portfolio/service-commitments-and</dd><dt><span>contact :</span></dt><dd>servicedesk.cmems@mercator-ocean.eu</dd><dt><span>producer :</span></dt><dd>CMEMS - Global Monitoring and Forecasting Centre</dd><dt><span>area :</span></dt><dd>GLO</dd><dt><span>geospatial_lon_min :</span></dt><dd>-180.0</dd><dt><span>geospatial_lon_max :</span></dt><dd>179.9167</dd><dt><span>geospatial_lon_step :</span></dt><dd>0.08332825</dd><dt><span>geospatial_lon_units :</span></dt><dd>degree</dd><dt><span>geospatial_lat_min :</span></dt><dd>-80.0</dd><dt><span>geospatial_lat_max :</span></dt><dd>90.0</dd><dt><span>geospatial_lat_step :</span></dt><dd>0.08333588</dd><dt><span>geospatial_lat_units :</span></dt><dd>degree</dd></dl></div></li></ul></div></div>"
     },
     "metadata": {},
     "execution_count": 9
    }
   ],
   "source": [
    "# OPTIONAL: Reduce CMEMS waves data size by using bbox\n",
    "\n",
    "# Define regional domain\n",
    "# Baltic sea\n",
    "bbox = ((10, 54), (30, 65))\n",
    "\n",
    "# Between Rio de Janeiro and Lisboa\n",
    "# bbox = ((-9, 22), (-46, 38))\n",
    "\n",
    "def get_closest(array, value):\n",
    "    return np.abs(array - value).argmin()\n",
    "    \n",
    "ds_wav_jan = xr.open_dataset('data/' + wav_jan)\n",
    "ds_wav_apr = xr.open_dataset('data/' + wav_apr)\n",
    "ds_wav_jul = xr.open_dataset('data/' + wav_jul)\n",
    "ds_wav_oct = xr.open_dataset('data/' + wav_oct)\n",
    "\n",
    "ds_wav_all = [ds_wav_jan, ds_wav_apr, ds_wav_jul, ds_wav_oct]\n",
    "\n",
    "datasets_wav = []\n",
    "\n",
    "for ds_month in ds_wav_all:\n",
    "  \n",
    "  lon_min = get_closest(ds_month.longitude.data, bbox[0][0])\n",
    "  lon_max = get_closest(ds_month.longitude.data, bbox[1][0])\n",
    "  lat_min = get_closest(ds_month.latitude.data, bbox[0][1])\n",
    "  lat_max = get_closest(ds_month.latitude.data, bbox[1][1])\n",
    "\n",
    "  ds_wav_month_reg = ds_month.isel(time = 0, longitude = slice(lon_min, lon_max), latitude = slice(lat_min, lat_max))\n",
    "  datasets_wav.append(ds_wav_month_reg)\n",
    "\n",
    "ds_wav = xr.concat(datasets_wav, dim = 'time')\n",
    "ds_wav"
   ]
  },
  {
   "cell_type": "code",
   "execution_count": 10,
   "metadata": {
    "colab": {
     "base_uri": "https://localhost:8080/",
     "height": 476
    },
    "id": "7Ep0utBvHX19",
    "outputId": "f44c5d14-20c8-436e-fbcd-6d05964c521f"
   },
   "outputs": [
    {
     "output_type": "execute_result",
     "data": {
      "text/plain": [
       "<xarray.Dataset>\n",
       "Dimensions:    (depth: 50, latitude: 132, longitude: 240, time: 4)\n",
       "Coordinates:\n",
       "  * longitude  (longitude) float32 10.0 10.08 10.17 10.25 ... 29.75 29.83 29.92\n",
       "  * latitude   (latitude) float32 54.0 54.08 54.17 54.25 ... 64.75 64.83 64.92\n",
       "  * depth      (depth) float32 0.494 1.541 2.646 ... 5.275e+03 5.728e+03\n",
       "  * time       (time) datetime64[ns] 2020-01-01T12:00:00 ... 2020-10-01T12:00:00\n",
       "Data variables:\n",
       "    mlotst     (time, latitude, longitude) float32 nan nan nan ... nan nan nan\n",
       "    zos        (time, latitude, longitude) float32 nan nan nan ... nan nan nan\n",
       "    bottomT    (time, latitude, longitude) float32 nan nan nan ... nan nan nan\n",
       "    sithick    (time, latitude, longitude) float32 nan nan nan ... nan nan nan\n",
       "    siconc     (time, latitude, longitude) float32 nan nan nan ... nan nan nan\n",
       "    usi        (time, latitude, longitude) float32 nan nan nan ... nan nan nan\n",
       "    vsi        (time, latitude, longitude) float32 nan nan nan ... nan nan nan\n",
       "    thetao     (time, depth, latitude, longitude) float32 nan nan ... nan nan\n",
       "    so         (time, depth, latitude, longitude) float32 nan nan ... nan nan\n",
       "    uo         (time, depth, latitude, longitude) float32 nan nan ... nan nan\n",
       "    vo         (time, depth, latitude, longitude) float32 nan nan ... nan nan\n",
       "Attributes: (12/24)\n",
       "    title:              daily mean fields from Global Ocean Physics Analysis ...\n",
       "    easting:            longitude\n",
       "    northing:           latitude\n",
       "    history:            2020/01/12 21:22:06 MERCATOR OCEAN Netcdf creation\n",
       "    source:             MERCATOR PSY4V3R1\n",
       "    institution:        MERCATOR OCEAN\n",
       "    ...                 ...\n",
       "    longitude_min:      -180.0\n",
       "    longitude_max:      179.91667\n",
       "    latitude_min:       -80.0\n",
       "    latitude_max:       90.0\n",
       "    z_min:              0.494025\n",
       "    z_max:              5727.917"
      ],
      "text/html": "<div><svg style=\"position: absolute; width: 0; height: 0; overflow: hidden\">\n<defs>\n<symbol id=\"icon-database\" viewBox=\"0 0 32 32\">\n<path d=\"M16 0c-8.837 0-16 2.239-16 5v4c0 2.761 7.163 5 16 5s16-2.239 16-5v-4c0-2.761-7.163-5-16-5z\"></path>\n<path d=\"M16 17c-8.837 0-16-2.239-16-5v6c0 2.761 7.163 5 16 5s16-2.239 16-5v-6c0 2.761-7.163 5-16 5z\"></path>\n<path d=\"M16 26c-8.837 0-16-2.239-16-5v6c0 2.761 7.163 5 16 5s16-2.239 16-5v-6c0 2.761-7.163 5-16 5z\"></path>\n</symbol>\n<symbol id=\"icon-file-text2\" viewBox=\"0 0 32 32\">\n<path d=\"M28.681 7.159c-0.694-0.947-1.662-2.053-2.724-3.116s-2.169-2.030-3.116-2.724c-1.612-1.182-2.393-1.319-2.841-1.319h-15.5c-1.378 0-2.5 1.121-2.5 2.5v27c0 1.378 1.122 2.5 2.5 2.5h23c1.378 0 2.5-1.122 2.5-2.5v-19.5c0-0.448-0.137-1.23-1.319-2.841zM24.543 5.457c0.959 0.959 1.712 1.825 2.268 2.543h-4.811v-4.811c0.718 0.556 1.584 1.309 2.543 2.268zM28 29.5c0 0.271-0.229 0.5-0.5 0.5h-23c-0.271 0-0.5-0.229-0.5-0.5v-27c0-0.271 0.229-0.5 0.5-0.5 0 0 15.499-0 15.5 0v7c0 0.552 0.448 1 1 1h7v19.5z\"></path>\n<path d=\"M23 26h-14c-0.552 0-1-0.448-1-1s0.448-1 1-1h14c0.552 0 1 0.448 1 1s-0.448 1-1 1z\"></path>\n<path d=\"M23 22h-14c-0.552 0-1-0.448-1-1s0.448-1 1-1h14c0.552 0 1 0.448 1 1s-0.448 1-1 1z\"></path>\n<path d=\"M23 18h-14c-0.552 0-1-0.448-1-1s0.448-1 1-1h14c0.552 0 1 0.448 1 1s-0.448 1-1 1z\"></path>\n</symbol>\n</defs>\n</svg>\n<style>/* CSS stylesheet for displaying xarray objects in jupyterlab.\n *\n */\n\n:root {\n  --xr-font-color0: var(--jp-content-font-color0, rgba(0, 0, 0, 1));\n  --xr-font-color2: var(--jp-content-font-color2, rgba(0, 0, 0, 0.54));\n  --xr-font-color3: var(--jp-content-font-color3, rgba(0, 0, 0, 0.38));\n  --xr-border-color: var(--jp-border-color2, #e0e0e0);\n  --xr-disabled-color: var(--jp-layout-color3, #bdbdbd);\n  --xr-background-color: var(--jp-layout-color0, white);\n  --xr-background-color-row-even: var(--jp-layout-color1, white);\n  --xr-background-color-row-odd: var(--jp-layout-color2, #eeeeee);\n}\n\nhtml[theme=dark],\nbody.vscode-dark {\n  --xr-font-color0: rgba(255, 255, 255, 1);\n  --xr-font-color2: rgba(255, 255, 255, 0.54);\n  --xr-font-color3: rgba(255, 255, 255, 0.38);\n  --xr-border-color: #1F1F1F;\n  --xr-disabled-color: #515151;\n  --xr-background-color: #111111;\n  --xr-background-color-row-even: #111111;\n  --xr-background-color-row-odd: #313131;\n}\n\n.xr-wrap {\n  display: block;\n  min-width: 300px;\n  max-width: 700px;\n}\n\n.xr-text-repr-fallback {\n  /* fallback to plain text repr when CSS is not injected (untrusted notebook) */\n  display: none;\n}\n\n.xr-header {\n  padding-top: 6px;\n  padding-bottom: 6px;\n  margin-bottom: 4px;\n  border-bottom: solid 1px var(--xr-border-color);\n}\n\n.xr-header > div,\n.xr-header > ul {\n  display: inline;\n  margin-top: 0;\n  margin-bottom: 0;\n}\n\n.xr-obj-type,\n.xr-array-name {\n  margin-left: 2px;\n  margin-right: 10px;\n}\n\n.xr-obj-type {\n  color: var(--xr-font-color2);\n}\n\n.xr-sections {\n  padding-left: 0 !important;\n  display: grid;\n  grid-template-columns: 150px auto auto 1fr 20px 20px;\n}\n\n.xr-section-item {\n  display: contents;\n}\n\n.xr-section-item input {\n  display: none;\n}\n\n.xr-section-item input + label {\n  color: var(--xr-disabled-color);\n}\n\n.xr-section-item input:enabled + label {\n  cursor: pointer;\n  color: var(--xr-font-color2);\n}\n\n.xr-section-item input:enabled + label:hover {\n  color: var(--xr-font-color0);\n}\n\n.xr-section-summary {\n  grid-column: 1;\n  color: var(--xr-font-color2);\n  font-weight: 500;\n}\n\n.xr-section-summary > span {\n  display: inline-block;\n  padding-left: 0.5em;\n}\n\n.xr-section-summary-in:disabled + label {\n  color: var(--xr-font-color2);\n}\n\n.xr-section-summary-in + label:before {\n  display: inline-block;\n  content: '►';\n  font-size: 11px;\n  width: 15px;\n  text-align: center;\n}\n\n.xr-section-summary-in:disabled + label:before {\n  color: var(--xr-disabled-color);\n}\n\n.xr-section-summary-in:checked + label:before {\n  content: '▼';\n}\n\n.xr-section-summary-in:checked + label > span {\n  display: none;\n}\n\n.xr-section-summary,\n.xr-section-inline-details {\n  padding-top: 4px;\n  padding-bottom: 4px;\n}\n\n.xr-section-inline-details {\n  grid-column: 2 / -1;\n}\n\n.xr-section-details {\n  display: none;\n  grid-column: 1 / -1;\n  margin-bottom: 5px;\n}\n\n.xr-section-summary-in:checked ~ .xr-section-details {\n  display: contents;\n}\n\n.xr-array-wrap {\n  grid-column: 1 / -1;\n  display: grid;\n  grid-template-columns: 20px auto;\n}\n\n.xr-array-wrap > label {\n  grid-column: 1;\n  vertical-align: top;\n}\n\n.xr-preview {\n  color: var(--xr-font-color3);\n}\n\n.xr-array-preview,\n.xr-array-data {\n  padding: 0 5px !important;\n  grid-column: 2;\n}\n\n.xr-array-data,\n.xr-array-in:checked ~ .xr-array-preview {\n  display: none;\n}\n\n.xr-array-in:checked ~ .xr-array-data,\n.xr-array-preview {\n  display: inline-block;\n}\n\n.xr-dim-list {\n  display: inline-block !important;\n  list-style: none;\n  padding: 0 !important;\n  margin: 0;\n}\n\n.xr-dim-list li {\n  display: inline-block;\n  padding: 0;\n  margin: 0;\n}\n\n.xr-dim-list:before {\n  content: '(';\n}\n\n.xr-dim-list:after {\n  content: ')';\n}\n\n.xr-dim-list li:not(:last-child):after {\n  content: ',';\n  padding-right: 5px;\n}\n\n.xr-has-index {\n  font-weight: bold;\n}\n\n.xr-var-list,\n.xr-var-item {\n  display: contents;\n}\n\n.xr-var-item > div,\n.xr-var-item label,\n.xr-var-item > .xr-var-name span {\n  background-color: var(--xr-background-color-row-even);\n  margin-bottom: 0;\n}\n\n.xr-var-item > .xr-var-name:hover span {\n  padding-right: 5px;\n}\n\n.xr-var-list > li:nth-child(odd) > div,\n.xr-var-list > li:nth-child(odd) > label,\n.xr-var-list > li:nth-child(odd) > .xr-var-name span {\n  background-color: var(--xr-background-color-row-odd);\n}\n\n.xr-var-name {\n  grid-column: 1;\n}\n\n.xr-var-dims {\n  grid-column: 2;\n}\n\n.xr-var-dtype {\n  grid-column: 3;\n  text-align: right;\n  color: var(--xr-font-color2);\n}\n\n.xr-var-preview {\n  grid-column: 4;\n}\n\n.xr-var-name,\n.xr-var-dims,\n.xr-var-dtype,\n.xr-preview,\n.xr-attrs dt {\n  white-space: nowrap;\n  overflow: hidden;\n  text-overflow: ellipsis;\n  padding-right: 10px;\n}\n\n.xr-var-name:hover,\n.xr-var-dims:hover,\n.xr-var-dtype:hover,\n.xr-attrs dt:hover {\n  overflow: visible;\n  width: auto;\n  z-index: 1;\n}\n\n.xr-var-attrs,\n.xr-var-data {\n  display: none;\n  background-color: var(--xr-background-color) !important;\n  padding-bottom: 5px !important;\n}\n\n.xr-var-attrs-in:checked ~ .xr-var-attrs,\n.xr-var-data-in:checked ~ .xr-var-data {\n  display: block;\n}\n\n.xr-var-data > table {\n  float: right;\n}\n\n.xr-var-name span,\n.xr-var-data,\n.xr-attrs {\n  padding-left: 25px !important;\n}\n\n.xr-attrs,\n.xr-var-attrs,\n.xr-var-data {\n  grid-column: 1 / -1;\n}\n\ndl.xr-attrs {\n  padding: 0;\n  margin: 0;\n  display: grid;\n  grid-template-columns: 125px auto;\n}\n\n.xr-attrs dt,\n.xr-attrs dd {\n  padding: 0;\n  margin: 0;\n  float: left;\n  padding-right: 10px;\n  width: auto;\n}\n\n.xr-attrs dt {\n  font-weight: normal;\n  grid-column: 1;\n}\n\n.xr-attrs dt:hover span {\n  display: inline-block;\n  background: var(--xr-background-color);\n  padding-right: 10px;\n}\n\n.xr-attrs dd {\n  grid-column: 2;\n  white-space: pre-wrap;\n  word-break: break-all;\n}\n\n.xr-icon-database,\n.xr-icon-file-text2 {\n  display: inline-block;\n  vertical-align: middle;\n  width: 1em;\n  height: 1.5em !important;\n  stroke-width: 0;\n  stroke: currentColor;\n  fill: currentColor;\n}\n</style><pre class='xr-text-repr-fallback'>&lt;xarray.Dataset&gt;\nDimensions:    (depth: 50, latitude: 132, longitude: 240, time: 4)\nCoordinates:\n  * longitude  (longitude) float32 10.0 10.08 10.17 10.25 ... 29.75 29.83 29.92\n  * latitude   (latitude) float32 54.0 54.08 54.17 54.25 ... 64.75 64.83 64.92\n  * depth      (depth) float32 0.494 1.541 2.646 ... 5.275e+03 5.728e+03\n  * time       (time) datetime64[ns] 2020-01-01T12:00:00 ... 2020-10-01T12:00:00\nData variables:\n    mlotst     (time, latitude, longitude) float32 nan nan nan ... nan nan nan\n    zos        (time, latitude, longitude) float32 nan nan nan ... nan nan nan\n    bottomT    (time, latitude, longitude) float32 nan nan nan ... nan nan nan\n    sithick    (time, latitude, longitude) float32 nan nan nan ... nan nan nan\n    siconc     (time, latitude, longitude) float32 nan nan nan ... nan nan nan\n    usi        (time, latitude, longitude) float32 nan nan nan ... nan nan nan\n    vsi        (time, latitude, longitude) float32 nan nan nan ... nan nan nan\n    thetao     (time, depth, latitude, longitude) float32 nan nan ... nan nan\n    so         (time, depth, latitude, longitude) float32 nan nan ... nan nan\n    uo         (time, depth, latitude, longitude) float32 nan nan ... nan nan\n    vo         (time, depth, latitude, longitude) float32 nan nan ... nan nan\nAttributes: (12/24)\n    title:              daily mean fields from Global Ocean Physics Analysis ...\n    easting:            longitude\n    northing:           latitude\n    history:            2020/01/12 21:22:06 MERCATOR OCEAN Netcdf creation\n    source:             MERCATOR PSY4V3R1\n    institution:        MERCATOR OCEAN\n    ...                 ...\n    longitude_min:      -180.0\n    longitude_max:      179.91667\n    latitude_min:       -80.0\n    latitude_max:       90.0\n    z_min:              0.494025\n    z_max:              5727.917</pre><div class='xr-wrap' hidden><div class='xr-header'><div class='xr-obj-type'>xarray.Dataset</div></div><ul class='xr-sections'><li class='xr-section-item'><input id='section-a102c40b-3ba8-4e4c-b377-0736e4ddbee9' class='xr-section-summary-in' type='checkbox' disabled ><label for='section-a102c40b-3ba8-4e4c-b377-0736e4ddbee9' class='xr-section-summary'  title='Expand/collapse section'>Dimensions:</label><div class='xr-section-inline-details'><ul class='xr-dim-list'><li><span class='xr-has-index'>depth</span>: 50</li><li><span class='xr-has-index'>latitude</span>: 132</li><li><span class='xr-has-index'>longitude</span>: 240</li><li><span class='xr-has-index'>time</span>: 4</li></ul></div><div class='xr-section-details'></div></li><li class='xr-section-item'><input id='section-58a6eff8-2568-4acb-9fab-624117265010' class='xr-section-summary-in' type='checkbox'  checked><label for='section-58a6eff8-2568-4acb-9fab-624117265010' class='xr-section-summary' >Coordinates: <span>(4)</span></label><div class='xr-section-inline-details'></div><div class='xr-section-details'><ul class='xr-var-list'><li class='xr-var-item'><div class='xr-var-name'><span class='xr-has-index'>longitude</span></div><div class='xr-var-dims'>(longitude)</div><div class='xr-var-dtype'>float32</div><div class='xr-var-preview xr-preview'>10.0 10.08 10.17 ... 29.83 29.92</div><input id='attrs-75905968-7c65-4628-ae30-9a3780a68349' class='xr-var-attrs-in' type='checkbox' ><label for='attrs-75905968-7c65-4628-ae30-9a3780a68349' title='Show/Hide attributes'><svg class='icon xr-icon-file-text2'><use xlink:href='#icon-file-text2'></use></svg></label><input id='data-9c281651-cc9d-480a-8d43-93620d3737f1' class='xr-var-data-in' type='checkbox'><label for='data-9c281651-cc9d-480a-8d43-93620d3737f1' title='Show/Hide data repr'><svg class='icon xr-icon-database'><use xlink:href='#icon-database'></use></svg></label><div class='xr-var-attrs'><dl class='xr-attrs'><dt><span>valid_min :</span></dt><dd>-180.0</dd><dt><span>valid_max :</span></dt><dd>179.91667</dd><dt><span>step :</span></dt><dd>0.08332825</dd><dt><span>units :</span></dt><dd>degrees_east</dd><dt><span>unit_long :</span></dt><dd>Degrees East</dd><dt><span>long_name :</span></dt><dd>Longitude</dd><dt><span>standard_name :</span></dt><dd>longitude</dd><dt><span>axis :</span></dt><dd>X</dd></dl></div><div class='xr-var-data'><pre>array([10.      , 10.083333, 10.166667, ..., 29.75    , 29.833334, 29.916666],\n      dtype=float32)</pre></div></li><li class='xr-var-item'><div class='xr-var-name'><span class='xr-has-index'>latitude</span></div><div class='xr-var-dims'>(latitude)</div><div class='xr-var-dtype'>float32</div><div class='xr-var-preview xr-preview'>54.0 54.08 54.17 ... 64.83 64.92</div><input id='attrs-f4214f24-282a-4cf1-9e19-a75ad46b197f' class='xr-var-attrs-in' type='checkbox' ><label for='attrs-f4214f24-282a-4cf1-9e19-a75ad46b197f' title='Show/Hide attributes'><svg class='icon xr-icon-file-text2'><use xlink:href='#icon-file-text2'></use></svg></label><input id='data-7988cccd-005e-4561-b542-965a449e78cf' class='xr-var-data-in' type='checkbox'><label for='data-7988cccd-005e-4561-b542-965a449e78cf' title='Show/Hide data repr'><svg class='icon xr-icon-database'><use xlink:href='#icon-database'></use></svg></label><div class='xr-var-attrs'><dl class='xr-attrs'><dt><span>valid_min :</span></dt><dd>-80.0</dd><dt><span>valid_max :</span></dt><dd>90.0</dd><dt><span>step :</span></dt><dd>0.08333588</dd><dt><span>units :</span></dt><dd>degrees_north</dd><dt><span>unit_long :</span></dt><dd>Degrees North</dd><dt><span>long_name :</span></dt><dd>Latitude</dd><dt><span>standard_name :</span></dt><dd>latitude</dd><dt><span>axis :</span></dt><dd>Y</dd></dl></div><div class='xr-var-data'><pre>array([54.      , 54.083332, 54.166668, 54.25    , 54.333332, 54.416668,\n       54.5     , 54.583332, 54.666668, 54.75    , 54.833332, 54.916668,\n       55.      , 55.083332, 55.166668, 55.25    , 55.333332, 55.416668,\n       55.5     , 55.583332, 55.666668, 55.75    , 55.833332, 55.916668,\n       56.      , 56.083332, 56.166668, 56.25    , 56.333332, 56.416668,\n       56.5     , 56.583332, 56.666668, 56.75    , 56.833332, 56.916668,\n       57.      , 57.083332, 57.166668, 57.25    , 57.333332, 57.416668,\n       57.5     , 57.583332, 57.666668, 57.75    , 57.833332, 57.916668,\n       58.      , 58.083332, 58.166668, 58.25    , 58.333332, 58.416668,\n       58.5     , 58.583332, 58.666668, 58.75    , 58.833332, 58.916668,\n       59.      , 59.083332, 59.166668, 59.25    , 59.333332, 59.416668,\n       59.5     , 59.583332, 59.666668, 59.75    , 59.833332, 59.916668,\n       60.      , 60.083332, 60.166668, 60.25    , 60.333332, 60.416668,\n       60.5     , 60.583332, 60.666668, 60.75    , 60.833332, 60.916668,\n       61.      , 61.083332, 61.166668, 61.25    , 61.333332, 61.416668,\n       61.5     , 61.583332, 61.666668, 61.75    , 61.833332, 61.916668,\n       62.      , 62.083332, 62.166668, 62.25    , 62.333332, 62.416668,\n       62.5     , 62.583332, 62.666668, 62.75    , 62.833332, 62.916668,\n       63.      , 63.083332, 63.166668, 63.25    , 63.333332, 63.416668,\n       63.5     , 63.583332, 63.666668, 63.75    , 63.833332, 63.916668,\n       64.      , 64.083336, 64.166664, 64.25    , 64.333336, 64.416664,\n       64.5     , 64.583336, 64.666664, 64.75    , 64.833336, 64.916664],\n      dtype=float32)</pre></div></li><li class='xr-var-item'><div class='xr-var-name'><span class='xr-has-index'>depth</span></div><div class='xr-var-dims'>(depth)</div><div class='xr-var-dtype'>float32</div><div class='xr-var-preview xr-preview'>0.494 1.541 ... 5.275e+03 5.728e+03</div><input id='attrs-d5652e36-eba5-4193-800e-468d1b9ec503' class='xr-var-attrs-in' type='checkbox' ><label for='attrs-d5652e36-eba5-4193-800e-468d1b9ec503' title='Show/Hide attributes'><svg class='icon xr-icon-file-text2'><use xlink:href='#icon-file-text2'></use></svg></label><input id='data-71b66cf0-c2cd-48f8-812e-8a7f077f137e' class='xr-var-data-in' type='checkbox'><label for='data-71b66cf0-c2cd-48f8-812e-8a7f077f137e' title='Show/Hide data repr'><svg class='icon xr-icon-database'><use xlink:href='#icon-database'></use></svg></label><div class='xr-var-attrs'><dl class='xr-attrs'><dt><span>valid_min :</span></dt><dd>0.494025</dd><dt><span>valid_max :</span></dt><dd>5727.917</dd><dt><span>units :</span></dt><dd>m</dd><dt><span>positive :</span></dt><dd>down</dd><dt><span>unit_long :</span></dt><dd>Meters</dd><dt><span>long_name :</span></dt><dd>Depth</dd><dt><span>standard_name :</span></dt><dd>depth</dd><dt><span>axis :</span></dt><dd>Z</dd></dl></div><div class='xr-var-data'><pre>array([4.940250e-01, 1.541375e+00, 2.645669e+00, 3.819495e+00, 5.078224e+00,\n       6.440614e+00, 7.929560e+00, 9.572997e+00, 1.140500e+01, 1.346714e+01,\n       1.581007e+01, 1.849556e+01, 2.159882e+01, 2.521141e+01, 2.944473e+01,\n       3.443415e+01, 4.034405e+01, 4.737369e+01, 5.576429e+01, 6.580727e+01,\n       7.785385e+01, 9.232607e+01, 1.097293e+02, 1.306660e+02, 1.558507e+02,\n       1.861256e+02, 2.224752e+02, 2.660403e+02, 3.181274e+02, 3.802130e+02,\n       4.539377e+02, 5.410889e+02, 6.435668e+02, 7.633331e+02, 9.023393e+02,\n       1.062440e+03, 1.245291e+03, 1.452251e+03, 1.684284e+03, 1.941893e+03,\n       2.225078e+03, 2.533336e+03, 2.865703e+03, 3.220820e+03, 3.597032e+03,\n       3.992484e+03, 4.405224e+03, 4.833291e+03, 5.274784e+03, 5.727917e+03],\n      dtype=float32)</pre></div></li><li class='xr-var-item'><div class='xr-var-name'><span class='xr-has-index'>time</span></div><div class='xr-var-dims'>(time)</div><div class='xr-var-dtype'>datetime64[ns]</div><div class='xr-var-preview xr-preview'>2020-01-01T12:00:00 ... 2020-10-...</div><input id='attrs-d79c4ef0-1f9f-4514-aef5-30cc25526a38' class='xr-var-attrs-in' type='checkbox' ><label for='attrs-d79c4ef0-1f9f-4514-aef5-30cc25526a38' title='Show/Hide attributes'><svg class='icon xr-icon-file-text2'><use xlink:href='#icon-file-text2'></use></svg></label><input id='data-16a16ee9-2839-4552-b216-ab23aa3f7ad8' class='xr-var-data-in' type='checkbox'><label for='data-16a16ee9-2839-4552-b216-ab23aa3f7ad8' title='Show/Hide data repr'><svg class='icon xr-icon-database'><use xlink:href='#icon-database'></use></svg></label><div class='xr-var-attrs'><dl class='xr-attrs'><dt><span>long_name :</span></dt><dd>Time (hours since 1950-01-01)</dd><dt><span>standard_name :</span></dt><dd>time</dd><dt><span>axis :</span></dt><dd>T</dd></dl></div><div class='xr-var-data'><pre>array([&#x27;2020-01-01T12:00:00.000000000&#x27;, &#x27;2020-04-01T12:00:00.000000000&#x27;,\n       &#x27;2020-07-01T12:00:00.000000000&#x27;, &#x27;2020-10-01T12:00:00.000000000&#x27;],\n      dtype=&#x27;datetime64[ns]&#x27;)</pre></div></li></ul></div></li><li class='xr-section-item'><input id='section-f1e2fbfd-2196-44a6-a0e5-8c34dfc8363a' class='xr-section-summary-in' type='checkbox'  checked><label for='section-f1e2fbfd-2196-44a6-a0e5-8c34dfc8363a' class='xr-section-summary' >Data variables: <span>(11)</span></label><div class='xr-section-inline-details'></div><div class='xr-section-details'><ul class='xr-var-list'><li class='xr-var-item'><div class='xr-var-name'><span>mlotst</span></div><div class='xr-var-dims'>(time, latitude, longitude)</div><div class='xr-var-dtype'>float32</div><div class='xr-var-preview xr-preview'>nan nan nan nan ... nan nan nan nan</div><input id='attrs-6a60ac49-3ddf-4e9e-bb16-a4a29f2855f9' class='xr-var-attrs-in' type='checkbox' ><label for='attrs-6a60ac49-3ddf-4e9e-bb16-a4a29f2855f9' title='Show/Hide attributes'><svg class='icon xr-icon-file-text2'><use xlink:href='#icon-file-text2'></use></svg></label><input id='data-664f7910-8ef9-4a84-8c1a-fbcfc67190ac' class='xr-var-data-in' type='checkbox'><label for='data-664f7910-8ef9-4a84-8c1a-fbcfc67190ac' title='Show/Hide data repr'><svg class='icon xr-icon-database'><use xlink:href='#icon-database'></use></svg></label><div class='xr-var-attrs'><dl class='xr-attrs'><dt><span>long_name :</span></dt><dd>Density ocean mixed layer thickness</dd><dt><span>standard_name :</span></dt><dd>ocean_mixed_layer_thickness_defined_by_sigma_theta</dd><dt><span>units :</span></dt><dd>m</dd><dt><span>unit_long :</span></dt><dd>Meters</dd><dt><span>valid_min :</span></dt><dd>1</dd><dt><span>valid_max :</span></dt><dd>7517</dd><dt><span>cell_methods :</span></dt><dd>area: mean</dd></dl></div><div class='xr-var-data'><pre>array([[[      nan,       nan,       nan, ...,       nan,       nan,\n               nan],\n        [      nan,       nan,       nan, ...,       nan,       nan,\n               nan],\n        [      nan,       nan,       nan, ...,       nan,       nan,\n               nan],\n        ...,\n        [70.955536, 55.085915, 47.914062, ...,       nan,       nan,\n               nan],\n        [59.66369 , 50.66073 , 50.20295 , ...,       nan,       nan,\n               nan],\n        [58.595543, 63.020725, 53.559986, ...,       nan,       nan,\n               nan]],\n\n       [[      nan,       nan,       nan, ...,       nan,       nan,\n               nan],\n        [      nan,       nan,       nan, ...,       nan,       nan,\n               nan],\n        [      nan,       nan,       nan, ...,       nan,       nan,\n               nan],\n...\n        [10.528886, 10.528886, 10.528886, ...,       nan,       nan,\n               nan],\n        [10.528886, 10.528886, 10.528886, ...,       nan,       nan,\n               nan],\n        [10.528886, 10.528886, 10.528886, ...,       nan,       nan,\n               nan]],\n\n       [[      nan,       nan,       nan, ...,       nan,       nan,\n               nan],\n        [      nan,       nan,       nan, ...,       nan,       nan,\n               nan],\n        [      nan,       nan,       nan, ...,       nan,       nan,\n               nan],\n        ...,\n        [10.528886, 10.528886, 10.528886, ...,       nan,       nan,\n               nan],\n        [10.528886, 10.528886, 10.528886, ...,       nan,       nan,\n               nan],\n        [10.528886, 10.528886, 10.528886, ...,       nan,       nan,\n               nan]]], dtype=float32)</pre></div></li><li class='xr-var-item'><div class='xr-var-name'><span>zos</span></div><div class='xr-var-dims'>(time, latitude, longitude)</div><div class='xr-var-dtype'>float32</div><div class='xr-var-preview xr-preview'>nan nan nan nan ... nan nan nan nan</div><input id='attrs-78c0d58c-271e-4384-bd42-591050c14311' class='xr-var-attrs-in' type='checkbox' ><label for='attrs-78c0d58c-271e-4384-bd42-591050c14311' title='Show/Hide attributes'><svg class='icon xr-icon-file-text2'><use xlink:href='#icon-file-text2'></use></svg></label><input id='data-fe56b64c-f015-419f-b973-f4f2f315d417' class='xr-var-data-in' type='checkbox'><label for='data-fe56b64c-f015-419f-b973-f4f2f315d417' title='Show/Hide data repr'><svg class='icon xr-icon-database'><use xlink:href='#icon-database'></use></svg></label><div class='xr-var-attrs'><dl class='xr-attrs'><dt><span>long_name :</span></dt><dd>Sea surface height</dd><dt><span>standard_name :</span></dt><dd>sea_surface_height_above_geoid</dd><dt><span>units :</span></dt><dd>m</dd><dt><span>unit_long :</span></dt><dd>Meters</dd><dt><span>valid_min :</span></dt><dd>-6293</dd><dt><span>valid_max :</span></dt><dd>5327</dd><dt><span>cell_methods :</span></dt><dd>area: mean</dd></dl></div><div class='xr-var-data'><pre>array([[[        nan,         nan,         nan, ...,         nan,\n                 nan,         nan],\n        [        nan,         nan,         nan, ...,         nan,\n                 nan,         nan],\n        [        nan,         nan,         nan, ...,         nan,\n                 nan,         nan],\n        ...,\n        [-0.32441175, -0.28138065, -0.23407696, ...,         nan,\n                 nan,         nan],\n        [-0.3238014 , -0.2722251 , -0.22888882, ...,         nan,\n                 nan,         nan],\n        [-0.3109836 , -0.27954954, -0.23255104, ...,         nan,\n                 nan,         nan]],\n\n       [[        nan,         nan,         nan, ...,         nan,\n                 nan,         nan],\n        [        nan,         nan,         nan, ...,         nan,\n                 nan,         nan],\n        [        nan,         nan,         nan, ...,         nan,\n                 nan,         nan],\n...\n        [-0.516068  , -0.51454204, -0.5108799 , ...,         nan,\n                 nan,         nan],\n        [-0.51240575, -0.50904876, -0.50447094, ...,         nan,\n                 nan,         nan],\n        [-0.5087435 , -0.5059969 , -0.50111395, ...,         nan,\n                 nan,         nan]],\n\n       [[        nan,         nan,         nan, ...,         nan,\n                 nan,         nan],\n        [        nan,         nan,         nan, ...,         nan,\n                 nan,         nan],\n        [        nan,         nan,         nan, ...,         nan,\n                 nan,         nan],\n        ...,\n        [-0.3927732 , -0.3744621 , -0.35676137, ...,         nan,\n                 nan,         nan],\n        [-0.3991821 , -0.37659842, -0.35859248, ...,         nan,\n                 nan,         nan],\n        [-0.4052858 , -0.3894162 , -0.36896878, ...,         nan,\n                 nan,         nan]]], dtype=float32)</pre></div></li><li class='xr-var-item'><div class='xr-var-name'><span>bottomT</span></div><div class='xr-var-dims'>(time, latitude, longitude)</div><div class='xr-var-dtype'>float32</div><div class='xr-var-preview xr-preview'>nan nan nan nan ... nan nan nan nan</div><input id='attrs-3eb274e2-b783-4223-a6d4-735e62a0a6e7' class='xr-var-attrs-in' type='checkbox' ><label for='attrs-3eb274e2-b783-4223-a6d4-735e62a0a6e7' title='Show/Hide attributes'><svg class='icon xr-icon-file-text2'><use xlink:href='#icon-file-text2'></use></svg></label><input id='data-c967a90d-c6bb-4e5d-b670-a24591426e31' class='xr-var-data-in' type='checkbox'><label for='data-c967a90d-c6bb-4e5d-b670-a24591426e31' title='Show/Hide data repr'><svg class='icon xr-icon-database'><use xlink:href='#icon-database'></use></svg></label><div class='xr-var-attrs'><dl class='xr-attrs'><dt><span>long_name :</span></dt><dd>Sea floor potential temperature</dd><dt><span>standard_name :</span></dt><dd>sea_water_potential_temperature_at_sea_floor</dd><dt><span>units :</span></dt><dd>degrees_C</dd><dt><span>unit_long :</span></dt><dd>Degrees Celsius</dd><dt><span>valid_min :</span></dt><dd>-32697</dd><dt><span>valid_max :</span></dt><dd>18215</dd><dt><span>cell_methods :</span></dt><dd>area: mean</dd></dl></div><div class='xr-var-data'><pre>array([[[      nan,       nan,       nan, ...,       nan,       nan,\n               nan],\n        [      nan,       nan,       nan, ...,       nan,       nan,\n               nan],\n        [      nan,       nan,       nan, ...,       nan,       nan,\n               nan],\n        ...,\n        [8.108249 , 8.212256 , 8.342631 , ...,       nan,       nan,\n               nan],\n        [8.188818 , 8.251808 , 8.325785 , ...,       nan,       nan,\n               nan],\n        [8.224708 , 8.307474 , 8.333842 , ...,       nan,       nan,\n               nan]],\n\n       [[      nan,       nan,       nan, ...,       nan,       nan,\n               nan],\n        [      nan,       nan,       nan, ...,       nan,       nan,\n               nan],\n        [      nan,       nan,       nan, ...,       nan,       nan,\n               nan],\n...\n        [8.257668 , 8.31846  , 8.373394 , ...,       nan,       nan,\n               nan],\n        [8.325052 , 8.33311  , 8.35142  , ...,       nan,       nan,\n               nan],\n        [8.312601 , 8.32725  , 8.342631 , ...,       nan,       nan,\n               nan]],\n\n       [[      nan,       nan,       nan, ...,       nan,       nan,\n               nan],\n        [      nan,       nan,       nan, ...,       nan,       nan,\n               nan],\n        [      nan,       nan,       nan, ...,       nan,       nan,\n               nan],\n        ...,\n        [7.887783 , 7.896573 , 7.9126863, ...,       nan,       nan,\n               nan],\n        [7.884121 , 7.8958406, 7.9090242, ...,       nan,       nan,\n               nan],\n        [7.8870506, 7.894376 , 7.894376 , ...,       nan,       nan,\n               nan]]], dtype=float32)</pre></div></li><li class='xr-var-item'><div class='xr-var-name'><span>sithick</span></div><div class='xr-var-dims'>(time, latitude, longitude)</div><div class='xr-var-dtype'>float32</div><div class='xr-var-preview xr-preview'>nan nan nan nan ... nan nan nan nan</div><input id='attrs-b6fdf3b5-123a-4cea-bf36-baf47c7469ca' class='xr-var-attrs-in' type='checkbox' ><label for='attrs-b6fdf3b5-123a-4cea-bf36-baf47c7469ca' title='Show/Hide attributes'><svg class='icon xr-icon-file-text2'><use xlink:href='#icon-file-text2'></use></svg></label><input id='data-c0889067-4f67-47d2-a924-fcfc68d431d0' class='xr-var-data-in' type='checkbox'><label for='data-c0889067-4f67-47d2-a924-fcfc68d431d0' title='Show/Hide data repr'><svg class='icon xr-icon-database'><use xlink:href='#icon-database'></use></svg></label><div class='xr-var-attrs'><dl class='xr-attrs'><dt><span>long_name :</span></dt><dd>Sea ice thickness</dd><dt><span>standard_name :</span></dt><dd>sea_ice_thickness</dd><dt><span>units :</span></dt><dd>m</dd><dt><span>unit_long :</span></dt><dd>Meters</dd><dt><span>valid_min :</span></dt><dd>1</dd><dt><span>valid_max :</span></dt><dd>5701</dd><dt><span>cell_methods :</span></dt><dd>area: mean where sea_ice</dd></dl></div><div class='xr-var-data'><pre>array([[[nan, nan, nan, ..., nan, nan, nan],\n        [nan, nan, nan, ..., nan, nan, nan],\n        [nan, nan, nan, ..., nan, nan, nan],\n        ...,\n        [nan, nan, nan, ..., nan, nan, nan],\n        [nan, nan, nan, ..., nan, nan, nan],\n        [nan, nan, nan, ..., nan, nan, nan]],\n\n       [[nan, nan, nan, ..., nan, nan, nan],\n        [nan, nan, nan, ..., nan, nan, nan],\n        [nan, nan, nan, ..., nan, nan, nan],\n        ...,\n        [nan, nan, nan, ..., nan, nan, nan],\n        [nan, nan, nan, ..., nan, nan, nan],\n        [nan, nan, nan, ..., nan, nan, nan]],\n\n       [[nan, nan, nan, ..., nan, nan, nan],\n        [nan, nan, nan, ..., nan, nan, nan],\n        [nan, nan, nan, ..., nan, nan, nan],\n        ...,\n        [nan, nan, nan, ..., nan, nan, nan],\n        [nan, nan, nan, ..., nan, nan, nan],\n        [nan, nan, nan, ..., nan, nan, nan]],\n\n       [[nan, nan, nan, ..., nan, nan, nan],\n        [nan, nan, nan, ..., nan, nan, nan],\n        [nan, nan, nan, ..., nan, nan, nan],\n        ...,\n        [nan, nan, nan, ..., nan, nan, nan],\n        [nan, nan, nan, ..., nan, nan, nan],\n        [nan, nan, nan, ..., nan, nan, nan]]], dtype=float32)</pre></div></li><li class='xr-var-item'><div class='xr-var-name'><span>siconc</span></div><div class='xr-var-dims'>(time, latitude, longitude)</div><div class='xr-var-dtype'>float32</div><div class='xr-var-preview xr-preview'>nan nan nan nan ... nan nan nan nan</div><input id='attrs-d2060b69-4649-4344-9b2c-d5700571e8f2' class='xr-var-attrs-in' type='checkbox' ><label for='attrs-d2060b69-4649-4344-9b2c-d5700571e8f2' title='Show/Hide attributes'><svg class='icon xr-icon-file-text2'><use xlink:href='#icon-file-text2'></use></svg></label><input id='data-07848f76-7920-4326-a076-e58959e67045' class='xr-var-data-in' type='checkbox'><label for='data-07848f76-7920-4326-a076-e58959e67045' title='Show/Hide data repr'><svg class='icon xr-icon-database'><use xlink:href='#icon-database'></use></svg></label><div class='xr-var-attrs'><dl class='xr-attrs'><dt><span>long_name :</span></dt><dd>Ice concentration</dd><dt><span>standard_name :</span></dt><dd>sea_ice_area_fraction</dd><dt><span>units :</span></dt><dd>1</dd><dt><span>unit_long :</span></dt><dd>Fraction</dd><dt><span>valid_min :</span></dt><dd>1</dd><dt><span>valid_max :</span></dt><dd>27775</dd><dt><span>cell_methods :</span></dt><dd>area: mean where sea_ice</dd></dl></div><div class='xr-var-data'><pre>array([[[nan, nan, nan, ..., nan, nan, nan],\n        [nan, nan, nan, ..., nan, nan, nan],\n        [nan, nan, nan, ..., nan, nan, nan],\n        ...,\n        [nan, nan, nan, ..., nan, nan, nan],\n        [nan, nan, nan, ..., nan, nan, nan],\n        [nan, nan, nan, ..., nan, nan, nan]],\n\n       [[nan, nan, nan, ..., nan, nan, nan],\n        [nan, nan, nan, ..., nan, nan, nan],\n        [nan, nan, nan, ..., nan, nan, nan],\n        ...,\n        [nan, nan, nan, ..., nan, nan, nan],\n        [nan, nan, nan, ..., nan, nan, nan],\n        [nan, nan, nan, ..., nan, nan, nan]],\n\n       [[nan, nan, nan, ..., nan, nan, nan],\n        [nan, nan, nan, ..., nan, nan, nan],\n        [nan, nan, nan, ..., nan, nan, nan],\n        ...,\n        [nan, nan, nan, ..., nan, nan, nan],\n        [nan, nan, nan, ..., nan, nan, nan],\n        [nan, nan, nan, ..., nan, nan, nan]],\n\n       [[nan, nan, nan, ..., nan, nan, nan],\n        [nan, nan, nan, ..., nan, nan, nan],\n        [nan, nan, nan, ..., nan, nan, nan],\n        ...,\n        [nan, nan, nan, ..., nan, nan, nan],\n        [nan, nan, nan, ..., nan, nan, nan],\n        [nan, nan, nan, ..., nan, nan, nan]]], dtype=float32)</pre></div></li><li class='xr-var-item'><div class='xr-var-name'><span>usi</span></div><div class='xr-var-dims'>(time, latitude, longitude)</div><div class='xr-var-dtype'>float32</div><div class='xr-var-preview xr-preview'>nan nan nan nan ... nan nan nan nan</div><input id='attrs-29586150-28d6-4fae-8f32-115fe4a0f01f' class='xr-var-attrs-in' type='checkbox' ><label for='attrs-29586150-28d6-4fae-8f32-115fe4a0f01f' title='Show/Hide attributes'><svg class='icon xr-icon-file-text2'><use xlink:href='#icon-file-text2'></use></svg></label><input id='data-c6e54f6d-bc0f-4009-967b-b4d0ac9e4cc0' class='xr-var-data-in' type='checkbox'><label for='data-c6e54f6d-bc0f-4009-967b-b4d0ac9e4cc0' title='Show/Hide data repr'><svg class='icon xr-icon-database'><use xlink:href='#icon-database'></use></svg></label><div class='xr-var-attrs'><dl class='xr-attrs'><dt><span>long_name :</span></dt><dd>Sea ice eastward velocity</dd><dt><span>standard_name :</span></dt><dd>eastward_sea_ice_velocity</dd><dt><span>units :</span></dt><dd>m s-1</dd><dt><span>unit_long :</span></dt><dd>Meters per second</dd><dt><span>valid_min :</span></dt><dd>-29827</dd><dt><span>valid_max :</span></dt><dd>32664</dd><dt><span>cell_methods :</span></dt><dd>area: mean where sea_ice</dd></dl></div><div class='xr-var-data'><pre>array([[[nan, nan, nan, ..., nan, nan, nan],\n        [nan, nan, nan, ..., nan, nan, nan],\n        [nan, nan, nan, ..., nan, nan, nan],\n        ...,\n        [nan, nan, nan, ..., nan, nan, nan],\n        [nan, nan, nan, ..., nan, nan, nan],\n        [nan, nan, nan, ..., nan, nan, nan]],\n\n       [[nan, nan, nan, ..., nan, nan, nan],\n        [nan, nan, nan, ..., nan, nan, nan],\n        [nan, nan, nan, ..., nan, nan, nan],\n        ...,\n        [nan, nan, nan, ..., nan, nan, nan],\n        [nan, nan, nan, ..., nan, nan, nan],\n        [nan, nan, nan, ..., nan, nan, nan]],\n\n       [[nan, nan, nan, ..., nan, nan, nan],\n        [nan, nan, nan, ..., nan, nan, nan],\n        [nan, nan, nan, ..., nan, nan, nan],\n        ...,\n        [nan, nan, nan, ..., nan, nan, nan],\n        [nan, nan, nan, ..., nan, nan, nan],\n        [nan, nan, nan, ..., nan, nan, nan]],\n\n       [[nan, nan, nan, ..., nan, nan, nan],\n        [nan, nan, nan, ..., nan, nan, nan],\n        [nan, nan, nan, ..., nan, nan, nan],\n        ...,\n        [nan, nan, nan, ..., nan, nan, nan],\n        [nan, nan, nan, ..., nan, nan, nan],\n        [nan, nan, nan, ..., nan, nan, nan]]], dtype=float32)</pre></div></li><li class='xr-var-item'><div class='xr-var-name'><span>vsi</span></div><div class='xr-var-dims'>(time, latitude, longitude)</div><div class='xr-var-dtype'>float32</div><div class='xr-var-preview xr-preview'>nan nan nan nan ... nan nan nan nan</div><input id='attrs-a6b2a6ed-5e7d-4589-955a-708685470d0e' class='xr-var-attrs-in' type='checkbox' ><label for='attrs-a6b2a6ed-5e7d-4589-955a-708685470d0e' title='Show/Hide attributes'><svg class='icon xr-icon-file-text2'><use xlink:href='#icon-file-text2'></use></svg></label><input id='data-35307338-c884-4bb8-95f1-402ebe7a3659' class='xr-var-data-in' type='checkbox'><label for='data-35307338-c884-4bb8-95f1-402ebe7a3659' title='Show/Hide data repr'><svg class='icon xr-icon-database'><use xlink:href='#icon-database'></use></svg></label><div class='xr-var-attrs'><dl class='xr-attrs'><dt><span>long_name :</span></dt><dd>Sea ice northward velocity</dd><dt><span>standard_name :</span></dt><dd>northward_sea_ice_velocity</dd><dt><span>units :</span></dt><dd>m s-1</dd><dt><span>unit_long :</span></dt><dd>Meters per second</dd><dt><span>valid_min :</span></dt><dd>-32763</dd><dt><span>valid_max :</span></dt><dd>27001</dd><dt><span>cell_methods :</span></dt><dd>area: mean where sea_ice</dd></dl></div><div class='xr-var-data'><pre>array([[[nan, nan, nan, ..., nan, nan, nan],\n        [nan, nan, nan, ..., nan, nan, nan],\n        [nan, nan, nan, ..., nan, nan, nan],\n        ...,\n        [nan, nan, nan, ..., nan, nan, nan],\n        [nan, nan, nan, ..., nan, nan, nan],\n        [nan, nan, nan, ..., nan, nan, nan]],\n\n       [[nan, nan, nan, ..., nan, nan, nan],\n        [nan, nan, nan, ..., nan, nan, nan],\n        [nan, nan, nan, ..., nan, nan, nan],\n        ...,\n        [nan, nan, nan, ..., nan, nan, nan],\n        [nan, nan, nan, ..., nan, nan, nan],\n        [nan, nan, nan, ..., nan, nan, nan]],\n\n       [[nan, nan, nan, ..., nan, nan, nan],\n        [nan, nan, nan, ..., nan, nan, nan],\n        [nan, nan, nan, ..., nan, nan, nan],\n        ...,\n        [nan, nan, nan, ..., nan, nan, nan],\n        [nan, nan, nan, ..., nan, nan, nan],\n        [nan, nan, nan, ..., nan, nan, nan]],\n\n       [[nan, nan, nan, ..., nan, nan, nan],\n        [nan, nan, nan, ..., nan, nan, nan],\n        [nan, nan, nan, ..., nan, nan, nan],\n        ...,\n        [nan, nan, nan, ..., nan, nan, nan],\n        [nan, nan, nan, ..., nan, nan, nan],\n        [nan, nan, nan, ..., nan, nan, nan]]], dtype=float32)</pre></div></li><li class='xr-var-item'><div class='xr-var-name'><span>thetao</span></div><div class='xr-var-dims'>(time, depth, latitude, longitude)</div><div class='xr-var-dtype'>float32</div><div class='xr-var-preview xr-preview'>nan nan nan nan ... nan nan nan nan</div><input id='attrs-12ae5504-c374-44fd-8aad-44437a41ec18' class='xr-var-attrs-in' type='checkbox' ><label for='attrs-12ae5504-c374-44fd-8aad-44437a41ec18' title='Show/Hide attributes'><svg class='icon xr-icon-file-text2'><use xlink:href='#icon-file-text2'></use></svg></label><input id='data-b71fe0c9-4f45-4327-9dfa-9cb1c220ad19' class='xr-var-data-in' type='checkbox'><label for='data-b71fe0c9-4f45-4327-9dfa-9cb1c220ad19' title='Show/Hide data repr'><svg class='icon xr-icon-database'><use xlink:href='#icon-database'></use></svg></label><div class='xr-var-attrs'><dl class='xr-attrs'><dt><span>long_name :</span></dt><dd>Temperature</dd><dt><span>standard_name :</span></dt><dd>sea_water_potential_temperature</dd><dt><span>units :</span></dt><dd>degrees_C</dd><dt><span>unit_long :</span></dt><dd>Degrees Celsius</dd><dt><span>valid_min :</span></dt><dd>-32689</dd><dt><span>valid_max :</span></dt><dd>18195</dd><dt><span>cell_methods :</span></dt><dd>area: mean</dd></dl></div><div class='xr-var-data'><pre>array([[[[       nan,        nan,        nan, ...,        nan,\n                 nan,        nan],\n         [       nan,        nan,        nan, ...,        nan,\n                 nan,        nan],\n         [       nan,        nan,        nan, ...,        nan,\n                 nan,        nan],\n         ...,\n         [ 7.9317303,  8.091403 ,  8.149999 , ...,        nan,\n                 nan,        nan],\n         [ 7.8811913,  8.0936   ,  8.082614 , ...,        nan,\n                 nan,        nan],\n         [ 7.9060946,  7.9961853,  8.117039 , ...,        nan,\n                 nan,        nan]],\n\n        [[       nan,        nan,        nan, ...,        nan,\n                 nan,        nan],\n         [       nan,        nan,        nan, ...,        nan,\n                 nan,        nan],\n         [       nan,        nan,        nan, ...,        nan,\n                 nan,        nan],\n...\n         [       nan,        nan,        nan, ...,        nan,\n                 nan,        nan],\n         [       nan,        nan,        nan, ...,        nan,\n                 nan,        nan],\n         [       nan,        nan,        nan, ...,        nan,\n                 nan,        nan]],\n\n        [[       nan,        nan,        nan, ...,        nan,\n                 nan,        nan],\n         [       nan,        nan,        nan, ...,        nan,\n                 nan,        nan],\n         [       nan,        nan,        nan, ...,        nan,\n                 nan,        nan],\n         ...,\n         [       nan,        nan,        nan, ...,        nan,\n                 nan,        nan],\n         [       nan,        nan,        nan, ...,        nan,\n                 nan,        nan],\n         [       nan,        nan,        nan, ...,        nan,\n                 nan,        nan]]]], dtype=float32)</pre></div></li><li class='xr-var-item'><div class='xr-var-name'><span>so</span></div><div class='xr-var-dims'>(time, depth, latitude, longitude)</div><div class='xr-var-dtype'>float32</div><div class='xr-var-preview xr-preview'>nan nan nan nan ... nan nan nan nan</div><input id='attrs-4a14c3b4-8a8e-4be3-905a-f711df14e589' class='xr-var-attrs-in' type='checkbox' ><label for='attrs-4a14c3b4-8a8e-4be3-905a-f711df14e589' title='Show/Hide attributes'><svg class='icon xr-icon-file-text2'><use xlink:href='#icon-file-text2'></use></svg></label><input id='data-91f4f140-239c-4884-bb94-45b285cbbd94' class='xr-var-data-in' type='checkbox'><label for='data-91f4f140-239c-4884-bb94-45b285cbbd94' title='Show/Hide data repr'><svg class='icon xr-icon-database'><use xlink:href='#icon-database'></use></svg></label><div class='xr-var-attrs'><dl class='xr-attrs'><dt><span>long_name :</span></dt><dd>Salinity</dd><dt><span>standard_name :</span></dt><dd>sea_water_salinity</dd><dt><span>units :</span></dt><dd>1e-3</dd><dt><span>unit_long :</span></dt><dd>Practical Salinity Unit</dd><dt><span>valid_min :</span></dt><dd>2</dd><dt><span>valid_max :</span></dt><dd>28643</dd><dt><span>cell_methods :</span></dt><dd>area: mean</dd></dl></div><div class='xr-var-data'><pre>array([[[[      nan,       nan,       nan, ...,       nan,       nan,\n                nan],\n         [      nan,       nan,       nan, ...,       nan,       nan,\n                nan],\n         [      nan,       nan,       nan, ...,       nan,       nan,\n                nan],\n         ...,\n         [34.756004, 34.54695 , 34.30738 , ...,       nan,       nan,\n                nan],\n         [34.725487, 34.46608 , 34.257027, ...,       nan,       nan,\n                nan],\n         [34.646137, 34.557632, 34.325695, ...,       nan,       nan,\n                nan]],\n\n        [[      nan,       nan,       nan, ...,       nan,       nan,\n                nan],\n         [      nan,       nan,       nan, ...,       nan,       nan,\n                nan],\n         [      nan,       nan,       nan, ...,       nan,       nan,\n                nan],\n...\n         [      nan,       nan,       nan, ...,       nan,       nan,\n                nan],\n         [      nan,       nan,       nan, ...,       nan,       nan,\n                nan],\n         [      nan,       nan,       nan, ...,       nan,       nan,\n                nan]],\n\n        [[      nan,       nan,       nan, ...,       nan,       nan,\n                nan],\n         [      nan,       nan,       nan, ...,       nan,       nan,\n                nan],\n         [      nan,       nan,       nan, ...,       nan,       nan,\n                nan],\n         ...,\n         [      nan,       nan,       nan, ...,       nan,       nan,\n                nan],\n         [      nan,       nan,       nan, ...,       nan,       nan,\n                nan],\n         [      nan,       nan,       nan, ...,       nan,       nan,\n                nan]]]], dtype=float32)</pre></div></li><li class='xr-var-item'><div class='xr-var-name'><span>uo</span></div><div class='xr-var-dims'>(time, depth, latitude, longitude)</div><div class='xr-var-dtype'>float32</div><div class='xr-var-preview xr-preview'>nan nan nan nan ... nan nan nan nan</div><input id='attrs-059fc35c-7f09-4221-a2bc-70488ce38916' class='xr-var-attrs-in' type='checkbox' ><label for='attrs-059fc35c-7f09-4221-a2bc-70488ce38916' title='Show/Hide attributes'><svg class='icon xr-icon-file-text2'><use xlink:href='#icon-file-text2'></use></svg></label><input id='data-f33a4cc9-cd76-4da3-a5ce-50baefc61461' class='xr-var-data-in' type='checkbox'><label for='data-f33a4cc9-cd76-4da3-a5ce-50baefc61461' title='Show/Hide data repr'><svg class='icon xr-icon-database'><use xlink:href='#icon-database'></use></svg></label><div class='xr-var-attrs'><dl class='xr-attrs'><dt><span>long_name :</span></dt><dd>Eastward velocity</dd><dt><span>standard_name :</span></dt><dd>eastward_sea_water_velocity</dd><dt><span>units :</span></dt><dd>m s-1</dd><dt><span>unit_long :</span></dt><dd>Meters per second</dd><dt><span>valid_min :</span></dt><dd>-2810</dd><dt><span>valid_max :</span></dt><dd>3613</dd><dt><span>cell_methods :</span></dt><dd>area: mean</dd></dl></div><div class='xr-var-data'><pre>array([[[[        nan,         nan,         nan, ...,         nan,\n                  nan,         nan],\n         [        nan,         nan,         nan, ...,         nan,\n                  nan,         nan],\n         [        nan,         nan,         nan, ...,         nan,\n                  nan,         nan],\n         ...,\n         [ 0.00671407, -0.08056886, -0.06714072, ...,         nan,\n                  nan,         nan],\n         [ 0.03845332,  0.08117923,  0.11963256, ...,         nan,\n                  nan,         nan],\n         [ 0.05493332,  0.12573627,  0.21057771, ...,         nan,\n                  nan,         nan]],\n\n        [[        nan,         nan,         nan, ...,         nan,\n                  nan,         nan],\n         [        nan,         nan,         nan, ...,         nan,\n                  nan,         nan],\n         [        nan,         nan,         nan, ...,         nan,\n                  nan,         nan],\n...\n         [        nan,         nan,         nan, ...,         nan,\n                  nan,         nan],\n         [        nan,         nan,         nan, ...,         nan,\n                  nan,         nan],\n         [        nan,         nan,         nan, ...,         nan,\n                  nan,         nan]],\n\n        [[        nan,         nan,         nan, ...,         nan,\n                  nan,         nan],\n         [        nan,         nan,         nan, ...,         nan,\n                  nan,         nan],\n         [        nan,         nan,         nan, ...,         nan,\n                  nan,         nan],\n         ...,\n         [        nan,         nan,         nan, ...,         nan,\n                  nan,         nan],\n         [        nan,         nan,         nan, ...,         nan,\n                  nan,         nan],\n         [        nan,         nan,         nan, ...,         nan,\n                  nan,         nan]]]], dtype=float32)</pre></div></li><li class='xr-var-item'><div class='xr-var-name'><span>vo</span></div><div class='xr-var-dims'>(time, depth, latitude, longitude)</div><div class='xr-var-dtype'>float32</div><div class='xr-var-preview xr-preview'>nan nan nan nan ... nan nan nan nan</div><input id='attrs-200f4e53-fe93-41a4-87b1-d1a11080de5f' class='xr-var-attrs-in' type='checkbox' ><label for='attrs-200f4e53-fe93-41a4-87b1-d1a11080de5f' title='Show/Hide attributes'><svg class='icon xr-icon-file-text2'><use xlink:href='#icon-file-text2'></use></svg></label><input id='data-94a1626d-1a4a-425c-861e-a13473bb23f2' class='xr-var-data-in' type='checkbox'><label for='data-94a1626d-1a4a-425c-861e-a13473bb23f2' title='Show/Hide data repr'><svg class='icon xr-icon-database'><use xlink:href='#icon-database'></use></svg></label><div class='xr-var-attrs'><dl class='xr-attrs'><dt><span>long_name :</span></dt><dd>Northward velocity</dd><dt><span>standard_name :</span></dt><dd>northward_sea_water_velocity</dd><dt><span>units :</span></dt><dd>m s-1</dd><dt><span>unit_long :</span></dt><dd>Meters per second</dd><dt><span>valid_min :</span></dt><dd>-3441</dd><dt><span>valid_max :</span></dt><dd>3105</dd><dt><span>cell_methods :</span></dt><dd>area: mean</dd></dl></div><div class='xr-var-data'><pre>array([[[[           nan,            nan,            nan, ...,\n                     nan,            nan,            nan],\n         [           nan,            nan,            nan, ...,\n                     nan,            nan,            nan],\n         [           nan,            nan,            nan, ...,\n                     nan,            nan,            nan],\n         ...,\n         [ 5.9999388e-01,  7.6906645e-01,  8.4536272e-01, ...,\n                     nan,            nan,            nan],\n         [ 6.1952573e-01,  8.2033753e-01,  8.6123234e-01, ...,\n                     nan,            nan,            nan],\n         [ 4.5899838e-01,  6.1830503e-01,  7.1535385e-01, ...,\n                     nan,            nan,            nan]],\n\n        [[           nan,            nan,            nan, ...,\n                     nan,            nan,            nan],\n         [           nan,            nan,            nan, ...,\n                     nan,            nan,            nan],\n         [           nan,            nan,            nan, ...,\n                     nan,            nan,            nan],\n...\n                     nan,            nan,            nan],\n         [           nan,            nan,            nan, ...,\n                     nan,            nan,            nan],\n         [           nan,            nan,            nan, ...,\n                     nan,            nan,            nan]],\n\n        [[           nan,            nan,            nan, ...,\n                     nan,            nan,            nan],\n         [           nan,            nan,            nan, ...,\n                     nan,            nan,            nan],\n         [           nan,            nan,            nan, ...,\n                     nan,            nan,            nan],\n         ...,\n         [           nan,            nan,            nan, ...,\n                     nan,            nan,            nan],\n         [           nan,            nan,            nan, ...,\n                     nan,            nan,            nan],\n         [           nan,            nan,            nan, ...,\n                     nan,            nan,            nan]]]],\n      dtype=float32)</pre></div></li></ul></div></li><li class='xr-section-item'><input id='section-3a82f8b6-7ef9-4a9c-a122-0b1aeb1bbd0a' class='xr-section-summary-in' type='checkbox'  ><label for='section-3a82f8b6-7ef9-4a9c-a122-0b1aeb1bbd0a' class='xr-section-summary' >Attributes: <span>(24)</span></label><div class='xr-section-inline-details'></div><div class='xr-section-details'><dl class='xr-attrs'><dt><span>title :</span></dt><dd>daily mean fields from Global Ocean Physics Analysis and Forecast updated Daily</dd><dt><span>easting :</span></dt><dd>longitude</dd><dt><span>northing :</span></dt><dd>latitude</dd><dt><span>history :</span></dt><dd>2020/01/12 21:22:06 MERCATOR OCEAN Netcdf creation</dd><dt><span>source :</span></dt><dd>MERCATOR PSY4V3R1</dd><dt><span>institution :</span></dt><dd>MERCATOR OCEAN</dd><dt><span>references :</span></dt><dd>http://www.mercator-ocean.fr</dd><dt><span>comment :</span></dt><dd>CMEMS product</dd><dt><span>Conventions :</span></dt><dd>CF-1.4</dd><dt><span>domain_name :</span></dt><dd>GL12</dd><dt><span>field_type :</span></dt><dd>mean</dd><dt><span>field_date :</span></dt><dd>2020-01-01 00:00:00</dd><dt><span>field_julian_date :</span></dt><dd>25567.0</dd><dt><span>julian_day_unit :</span></dt><dd>days since 1950-01-01 00:00:00</dd><dt><span>forecast_range :</span></dt><dd>0-day_forecast</dd><dt><span>forecast_type :</span></dt><dd>hindcast</dd><dt><span>bulletin_date :</span></dt><dd>2020-01-15 00:00:00</dd><dt><span>bulletin_type :</span></dt><dd>operational</dd><dt><span>longitude_min :</span></dt><dd>-180.0</dd><dt><span>longitude_max :</span></dt><dd>179.91667</dd><dt><span>latitude_min :</span></dt><dd>-80.0</dd><dt><span>latitude_max :</span></dt><dd>90.0</dd><dt><span>z_min :</span></dt><dd>0.494025</dd><dt><span>z_max :</span></dt><dd>5727.917</dd></dl></div></li></ul></div></div>"
     },
     "metadata": {},
     "execution_count": 10
    }
   ],
   "source": [
    "# OPTIONAL: Reduce CMEMS physics data size by using bbox\n",
    "\n",
    "ds_phy_jan = xr.open_dataset('data/' + phy_jan)\n",
    "ds_phy_apr = xr.open_dataset('data/' + phy_apr)\n",
    "ds_phy_jul = xr.open_dataset('data/' + phy_jul)\n",
    "ds_phy_oct = xr.open_dataset('data/' + phy_oct)\n",
    "\n",
    "ds_phy_all = [ds_phy_jan, ds_phy_apr, ds_phy_jul, ds_phy_oct]\n",
    "\n",
    "datasets_phy = []\n",
    "\n",
    "for ds_month in ds_phy_all:\n",
    "  \n",
    "  lon_min = get_closest(ds_month.longitude.data, bbox[0][0])\n",
    "  lon_max = get_closest(ds_month.longitude.data, bbox[1][0])\n",
    "  lat_min = get_closest(ds_month.latitude.data, bbox[0][1])\n",
    "  lat_max = get_closest(ds_month.latitude.data, bbox[1][1])\n",
    "\n",
    "  ds_phy_month_reg = ds_month.isel(time = 0, longitude = slice(lon_min, lon_max), latitude = slice(lat_min, lat_max))\n",
    "  datasets_phy.append(ds_phy_month_reg)\n",
    "\n",
    "ds_phy = xr.concat(datasets_phy, dim = 'time')\n",
    "ds_phy"
   ]
  },
  {
   "cell_type": "code",
   "execution_count": 11,
   "metadata": {},
   "outputs": [
    {
     "output_type": "execute_result",
     "data": {
      "text/plain": [
       "\"\\n# Join all wave products\\n\\nds_wav_jan = xr.open_dataset('data/' + wav_jan)\\nds_wav_apr = xr.open_dataset('data/' + wav_apr)\\nds_wav_jul = xr.open_dataset('data/' + wav_jul)\\nds_wav_oct = xr.open_dataset('data/' + wav_oct)\\n\\nds_wav_all = [ds_wav_jan, ds_wav_apr, ds_wav_jul, ds_wav_oct]\\n\\nds_wav = xr.merge(ds_wav_all)\\nds_wav\\n\""
      ]
     },
     "metadata": {},
     "execution_count": 11
    }
   ],
   "source": [
    "\"\"\"\n",
    "# Join all wave products\n",
    "\n",
    "ds_wav_jan = xr.open_dataset('data/' + wav_jan)\n",
    "ds_wav_apr = xr.open_dataset('data/' + wav_apr)\n",
    "ds_wav_jul = xr.open_dataset('data/' + wav_jul)\n",
    "ds_wav_oct = xr.open_dataset('data/' + wav_oct)\n",
    "\n",
    "ds_wav_all = [ds_wav_jan, ds_wav_apr, ds_wav_jul, ds_wav_oct]\n",
    "\n",
    "ds_wav = xr.merge(ds_wav_all)\n",
    "ds_wav\n",
    "\"\"\""
   ]
  },
  {
   "cell_type": "code",
   "execution_count": 12,
   "metadata": {},
   "outputs": [
    {
     "output_type": "execute_result",
     "data": {
      "text/plain": [
       "\"\\n# Join all physical products\\n\\nds_phy_jan = xr.open_dataset('data/' + phy_jan)\\nds_phy_apr = xr.open_dataset('data/' + phy_apr)\\nds_phy_jul = xr.open_dataset('data/' + phy_jul)\\nds_phy_oct = xr.open_dataset('data/' + phy_oct)\\n\\nds_phy_all = [ds_phy_jan, ds_phy_apr, ds_phy_jul, ds_phy_oct]\\n\\nds_phy = xr.merge(ds_phy_all)\\nds_phy\\n\""
      ]
     },
     "metadata": {},
     "execution_count": 12
    }
   ],
   "source": [
    "\"\"\"\n",
    "# Join all physical products\n",
    "\n",
    "ds_phy_jan = xr.open_dataset('data/' + phy_jan)\n",
    "ds_phy_apr = xr.open_dataset('data/' + phy_apr)\n",
    "ds_phy_jul = xr.open_dataset('data/' + phy_jul)\n",
    "ds_phy_oct = xr.open_dataset('data/' + phy_oct)\n",
    "\n",
    "ds_phy_all = [ds_phy_jan, ds_phy_apr, ds_phy_jul, ds_phy_oct]\n",
    "\n",
    "ds_phy = xr.merge(ds_phy_all)\n",
    "ds_phy\n",
    "\"\"\""
   ]
  },
  {
   "cell_type": "markdown",
   "metadata": {
    "id": "ibOfQL63aJtf"
   },
   "source": [
    "## STEP 3: Merge and preprocess\n",
    "In general:\n",
    "* Merge AIS data with CMEMS data\n",
    "* Remove unneccessary columns (show only estimated time, latitude, longitude, heading, SOG, COG, Gross Tonage, VHM0, VMDR, Temperature and Salinity)\n",
    "\n",
    "For CMEMS Data:\n",
    "* Normalize data and remove its outliers\n",
    "\n",
    "For AIS Data:\n",
    "* OK Remove ships with Status =! 0 or Status =! 8\n",
    "* OK Remove ships with SOG < 5 or SOG > 102.2\n",
    "* OK Remove ships with latitude > 91 and longitude > 181\n",
    "* OK Remove ships with latitude < -91 and longitude < -181\n",
    "* OK Remove ships with heading > 361\n",
    "* WRONG Calculate Gross Tonnage\n",
    "* Estimate data base times\n",
    "* Normalize data (SOG) and remove its outliers"
   ]
  },
  {
   "cell_type": "code",
   "execution_count": 13,
   "metadata": {},
   "outputs": [],
   "source": [
    "study_data = pd.read_csv('data/ais_data_all.csv')"
   ]
  },
  {
   "cell_type": "code",
   "execution_count": 14,
   "metadata": {
    "id": "Nq5iblMQczfT"
   },
   "outputs": [
    {
     "output_type": "execute_result",
     "data": {
      "text/plain": [
       "        Unnamed: 0       MMSI         BaseDateTime       LAT        LON   SOG  \\\n",
       "0                9  477628100  2020-01-01T00:00:01  36.80096  -75.22302  12.8   \n",
       "1               17  538002845  2020-01-01T00:00:10  26.08420  -79.48273  13.2   \n",
       "2               50  249974000  2020-01-01T00:00:06  29.34368  -94.74366  10.2   \n",
       "3               55  477542400  2020-01-01T00:00:01  37.76973 -122.35415  10.6   \n",
       "4               69  636016431  2020-01-01T00:00:10  26.89363  -79.20262  19.7   \n",
       "...            ...        ...                  ...       ...        ...   ...   \n",
       "720152    30502227  441310000  2020-10-01T23:59:34  26.05327  -79.84955  19.7   \n",
       "720153    30502254  636013708  2020-10-01T23:58:58  28.44555  -95.59912  12.9   \n",
       "720154    30502305  218092000  2020-10-01T23:59:36  39.18945 -130.91286  19.9   \n",
       "720155    30502324  636017617  2020-10-01T23:57:40  17.18697  -67.33857  11.7   \n",
       "720156    30502456  636015168  2020-10-01T23:54:41  37.51332  -68.00148  10.9   \n",
       "\n",
       "          COG  Heading            VesselName         IMO CallSign  VesselType  \\\n",
       "0      -128.7    283.0           NINGBO SEAL  IMO9579066    VRJD3        70.0   \n",
       "1       189.0    187.0  YASA GOLDEN DARDANEL  IMO9339985    V7ME9        80.0   \n",
       "2        85.7     86.0             PTI RHINE  IMO9313462  9HA4456        80.0   \n",
       "3       -87.5    326.0       ATLANTIC PISCES  IMO9392781    VRFN3        80.0   \n",
       "4       154.9    155.0       MSC VAISHNAVI R  IMO9227340    A8RL2        70.0   \n",
       "...       ...      ...                   ...         ...      ...         ...   \n",
       "720152    4.2      5.0        GLOVIS SOLOMON  IMO9445409     D7GS        70.0   \n",
       "720153   56.0     57.0          NEW ACTIVITY  IMO9361524    A8OU2        80.0   \n",
       "720154 -129.6    280.0       HANOVER EXPRESS  IMO9343716    DFGX2        70.0   \n",
       "720155  110.0    110.0      NORDIC STAVANGER  IMO9514377    D5LX3        70.0   \n",
       "720156   77.4     62.0           AQUAFORTUNE  IMO9426427    A8ZA6        70.0   \n",
       "\n",
       "        Status  Length  Width  Draft  Cargo TranscieverClass  GrossTonnage  \n",
       "0          0.0   225.0   32.0   14.3   70.0                B       4824.00  \n",
       "1          0.0   245.0   42.0   15.0   89.0                B       6894.30  \n",
       "2          0.0   183.0   32.0   13.2   81.0                B       3923.52  \n",
       "3          0.0   183.0   32.0   12.2   80.0                B       3923.52  \n",
       "4          0.0   282.0   32.0   12.5   71.0                B       6046.08  \n",
       "...        ...     ...    ...    ...    ...              ...           ...  \n",
       "720152     0.0   232.0   32.0    9.4   70.0                B       4974.08  \n",
       "720153     0.0   228.0   42.0   14.8   80.0                B       6415.92  \n",
       "720154     0.0   336.0   42.0   14.6   79.0                B       9455.04  \n",
       "720155     0.0   189.0   32.0   12.7   70.0                B       4052.16  \n",
       "720156     0.0   289.0   45.0   18.0   71.0                B       8713.35  \n",
       "\n",
       "[720157 rows x 19 columns]"
      ],
      "text/html": "<div>\n<style scoped>\n    .dataframe tbody tr th:only-of-type {\n        vertical-align: middle;\n    }\n\n    .dataframe tbody tr th {\n        vertical-align: top;\n    }\n\n    .dataframe thead th {\n        text-align: right;\n    }\n</style>\n<table border=\"1\" class=\"dataframe\">\n  <thead>\n    <tr style=\"text-align: right;\">\n      <th></th>\n      <th>Unnamed: 0</th>\n      <th>MMSI</th>\n      <th>BaseDateTime</th>\n      <th>LAT</th>\n      <th>LON</th>\n      <th>SOG</th>\n      <th>COG</th>\n      <th>Heading</th>\n      <th>VesselName</th>\n      <th>IMO</th>\n      <th>CallSign</th>\n      <th>VesselType</th>\n      <th>Status</th>\n      <th>Length</th>\n      <th>Width</th>\n      <th>Draft</th>\n      <th>Cargo</th>\n      <th>TranscieverClass</th>\n      <th>GrossTonnage</th>\n    </tr>\n  </thead>\n  <tbody>\n    <tr>\n      <th>0</th>\n      <td>9</td>\n      <td>477628100</td>\n      <td>2020-01-01T00:00:01</td>\n      <td>36.80096</td>\n      <td>-75.22302</td>\n      <td>12.8</td>\n      <td>-128.7</td>\n      <td>283.0</td>\n      <td>NINGBO SEAL</td>\n      <td>IMO9579066</td>\n      <td>VRJD3</td>\n      <td>70.0</td>\n      <td>0.0</td>\n      <td>225.0</td>\n      <td>32.0</td>\n      <td>14.3</td>\n      <td>70.0</td>\n      <td>B</td>\n      <td>4824.00</td>\n    </tr>\n    <tr>\n      <th>1</th>\n      <td>17</td>\n      <td>538002845</td>\n      <td>2020-01-01T00:00:10</td>\n      <td>26.08420</td>\n      <td>-79.48273</td>\n      <td>13.2</td>\n      <td>189.0</td>\n      <td>187.0</td>\n      <td>YASA GOLDEN DARDANEL</td>\n      <td>IMO9339985</td>\n      <td>V7ME9</td>\n      <td>80.0</td>\n      <td>0.0</td>\n      <td>245.0</td>\n      <td>42.0</td>\n      <td>15.0</td>\n      <td>89.0</td>\n      <td>B</td>\n      <td>6894.30</td>\n    </tr>\n    <tr>\n      <th>2</th>\n      <td>50</td>\n      <td>249974000</td>\n      <td>2020-01-01T00:00:06</td>\n      <td>29.34368</td>\n      <td>-94.74366</td>\n      <td>10.2</td>\n      <td>85.7</td>\n      <td>86.0</td>\n      <td>PTI RHINE</td>\n      <td>IMO9313462</td>\n      <td>9HA4456</td>\n      <td>80.0</td>\n      <td>0.0</td>\n      <td>183.0</td>\n      <td>32.0</td>\n      <td>13.2</td>\n      <td>81.0</td>\n      <td>B</td>\n      <td>3923.52</td>\n    </tr>\n    <tr>\n      <th>3</th>\n      <td>55</td>\n      <td>477542400</td>\n      <td>2020-01-01T00:00:01</td>\n      <td>37.76973</td>\n      <td>-122.35415</td>\n      <td>10.6</td>\n      <td>-87.5</td>\n      <td>326.0</td>\n      <td>ATLANTIC PISCES</td>\n      <td>IMO9392781</td>\n      <td>VRFN3</td>\n      <td>80.0</td>\n      <td>0.0</td>\n      <td>183.0</td>\n      <td>32.0</td>\n      <td>12.2</td>\n      <td>80.0</td>\n      <td>B</td>\n      <td>3923.52</td>\n    </tr>\n    <tr>\n      <th>4</th>\n      <td>69</td>\n      <td>636016431</td>\n      <td>2020-01-01T00:00:10</td>\n      <td>26.89363</td>\n      <td>-79.20262</td>\n      <td>19.7</td>\n      <td>154.9</td>\n      <td>155.0</td>\n      <td>MSC VAISHNAVI R</td>\n      <td>IMO9227340</td>\n      <td>A8RL2</td>\n      <td>70.0</td>\n      <td>0.0</td>\n      <td>282.0</td>\n      <td>32.0</td>\n      <td>12.5</td>\n      <td>71.0</td>\n      <td>B</td>\n      <td>6046.08</td>\n    </tr>\n    <tr>\n      <th>...</th>\n      <td>...</td>\n      <td>...</td>\n      <td>...</td>\n      <td>...</td>\n      <td>...</td>\n      <td>...</td>\n      <td>...</td>\n      <td>...</td>\n      <td>...</td>\n      <td>...</td>\n      <td>...</td>\n      <td>...</td>\n      <td>...</td>\n      <td>...</td>\n      <td>...</td>\n      <td>...</td>\n      <td>...</td>\n      <td>...</td>\n      <td>...</td>\n    </tr>\n    <tr>\n      <th>720152</th>\n      <td>30502227</td>\n      <td>441310000</td>\n      <td>2020-10-01T23:59:34</td>\n      <td>26.05327</td>\n      <td>-79.84955</td>\n      <td>19.7</td>\n      <td>4.2</td>\n      <td>5.0</td>\n      <td>GLOVIS SOLOMON</td>\n      <td>IMO9445409</td>\n      <td>D7GS</td>\n      <td>70.0</td>\n      <td>0.0</td>\n      <td>232.0</td>\n      <td>32.0</td>\n      <td>9.4</td>\n      <td>70.0</td>\n      <td>B</td>\n      <td>4974.08</td>\n    </tr>\n    <tr>\n      <th>720153</th>\n      <td>30502254</td>\n      <td>636013708</td>\n      <td>2020-10-01T23:58:58</td>\n      <td>28.44555</td>\n      <td>-95.59912</td>\n      <td>12.9</td>\n      <td>56.0</td>\n      <td>57.0</td>\n      <td>NEW ACTIVITY</td>\n      <td>IMO9361524</td>\n      <td>A8OU2</td>\n      <td>80.0</td>\n      <td>0.0</td>\n      <td>228.0</td>\n      <td>42.0</td>\n      <td>14.8</td>\n      <td>80.0</td>\n      <td>B</td>\n      <td>6415.92</td>\n    </tr>\n    <tr>\n      <th>720154</th>\n      <td>30502305</td>\n      <td>218092000</td>\n      <td>2020-10-01T23:59:36</td>\n      <td>39.18945</td>\n      <td>-130.91286</td>\n      <td>19.9</td>\n      <td>-129.6</td>\n      <td>280.0</td>\n      <td>HANOVER EXPRESS</td>\n      <td>IMO9343716</td>\n      <td>DFGX2</td>\n      <td>70.0</td>\n      <td>0.0</td>\n      <td>336.0</td>\n      <td>42.0</td>\n      <td>14.6</td>\n      <td>79.0</td>\n      <td>B</td>\n      <td>9455.04</td>\n    </tr>\n    <tr>\n      <th>720155</th>\n      <td>30502324</td>\n      <td>636017617</td>\n      <td>2020-10-01T23:57:40</td>\n      <td>17.18697</td>\n      <td>-67.33857</td>\n      <td>11.7</td>\n      <td>110.0</td>\n      <td>110.0</td>\n      <td>NORDIC STAVANGER</td>\n      <td>IMO9514377</td>\n      <td>D5LX3</td>\n      <td>70.0</td>\n      <td>0.0</td>\n      <td>189.0</td>\n      <td>32.0</td>\n      <td>12.7</td>\n      <td>70.0</td>\n      <td>B</td>\n      <td>4052.16</td>\n    </tr>\n    <tr>\n      <th>720156</th>\n      <td>30502456</td>\n      <td>636015168</td>\n      <td>2020-10-01T23:54:41</td>\n      <td>37.51332</td>\n      <td>-68.00148</td>\n      <td>10.9</td>\n      <td>77.4</td>\n      <td>62.0</td>\n      <td>AQUAFORTUNE</td>\n      <td>IMO9426427</td>\n      <td>A8ZA6</td>\n      <td>70.0</td>\n      <td>0.0</td>\n      <td>289.0</td>\n      <td>45.0</td>\n      <td>18.0</td>\n      <td>71.0</td>\n      <td>B</td>\n      <td>8713.35</td>\n    </tr>\n  </tbody>\n</table>\n<p>720157 rows × 19 columns</p>\n</div>"
     },
     "metadata": {},
     "execution_count": 14
    }
   ],
   "source": [
    "# Remove ships with status =! 0 and status =! 8\n",
    "study_data = study_data[(study_data['Status'] == 0) | (study_data['Status'] == 8)].dropna()\n",
    "\n",
    "# Remove ships with SOG < 5 or SOG > 102.2\n",
    "study_data = study_data[(study_data['SOG'] > 7) & (study_data['SOG'] < 102.2)].dropna()\n",
    "\n",
    "# Remove ships with latitude > 91 and longitude > 181\n",
    "study_data = study_data[(study_data['LAT'] < 91) & (study_data['LAT'] > -91)].dropna()\n",
    "study_data = study_data[(study_data['LON'] < 181) & (study_data['LON'] > -181)].dropna()\n",
    "\n",
    "# Remove ships with heading > 361\n",
    "study_data = study_data[(study_data['Heading'] < 361)].dropna()\n",
    "\n",
    "# Calculate tonnage (Length * Breadth * Depth * S) - WE DON'T HAVE THE DEPTH\n",
    "# According to https://cdn.shopify.com/s/files/1/1021/8837/files/Tonnage_Guide_1_-_Simplified_Measurement.pdf?1513\n",
    "study_data['GrossTonnage'] = 0.67 * study_data['Length'] * study_data['Width']\n",
    "\n",
    "study_data = study_data.reset_index(drop=True)\n",
    "study_data"
   ]
  },
  {
   "cell_type": "code",
   "execution_count": 15,
   "metadata": {},
   "outputs": [
    {
     "output_type": "execute_result",
     "data": {
      "text/plain": [
       "        Unnamed: 0       MMSI        BaseDateTime       LAT        LON   SOG  \\\n",
       "0                9  477628100 2020-01-01 00:00:01  36.80096  -75.22302  12.8   \n",
       "1               17  538002845 2020-01-01 00:00:10  26.08420  -79.48273  13.2   \n",
       "2               50  249974000 2020-01-01 00:00:06  29.34368  -94.74366  10.2   \n",
       "3               55  477542400 2020-01-01 00:00:01  37.76973 -122.35415  10.6   \n",
       "4               69  636016431 2020-01-01 00:00:10  26.89363  -79.20262  19.7   \n",
       "...            ...        ...                 ...       ...        ...   ...   \n",
       "720152    30502227  441310000 2020-10-01 23:59:34  26.05327  -79.84955  19.7   \n",
       "720153    30502254  636013708 2020-10-01 23:58:58  28.44555  -95.59912  12.9   \n",
       "720154    30502305  218092000 2020-10-01 23:59:36  39.18945 -130.91286  19.9   \n",
       "720155    30502324  636017617 2020-10-01 23:57:40  17.18697  -67.33857  11.7   \n",
       "720156    30502456  636015168 2020-10-01 23:54:41  37.51332  -68.00148  10.9   \n",
       "\n",
       "          COG  Heading            VesselName         IMO CallSign  VesselType  \\\n",
       "0      -128.7    283.0           NINGBO SEAL  IMO9579066    VRJD3        70.0   \n",
       "1       189.0    187.0  YASA GOLDEN DARDANEL  IMO9339985    V7ME9        80.0   \n",
       "2        85.7     86.0             PTI RHINE  IMO9313462  9HA4456        80.0   \n",
       "3       -87.5    326.0       ATLANTIC PISCES  IMO9392781    VRFN3        80.0   \n",
       "4       154.9    155.0       MSC VAISHNAVI R  IMO9227340    A8RL2        70.0   \n",
       "...       ...      ...                   ...         ...      ...         ...   \n",
       "720152    4.2      5.0        GLOVIS SOLOMON  IMO9445409     D7GS        70.0   \n",
       "720153   56.0     57.0          NEW ACTIVITY  IMO9361524    A8OU2        80.0   \n",
       "720154 -129.6    280.0       HANOVER EXPRESS  IMO9343716    DFGX2        70.0   \n",
       "720155  110.0    110.0      NORDIC STAVANGER  IMO9514377    D5LX3        70.0   \n",
       "720156   77.4     62.0           AQUAFORTUNE  IMO9426427    A8ZA6        70.0   \n",
       "\n",
       "        Status  Length  Width  Draft  Cargo TranscieverClass  GrossTonnage  \\\n",
       "0          0.0   225.0   32.0   14.3   70.0                B       4824.00   \n",
       "1          0.0   245.0   42.0   15.0   89.0                B       6894.30   \n",
       "2          0.0   183.0   32.0   13.2   81.0                B       3923.52   \n",
       "3          0.0   183.0   32.0   12.2   80.0                B       3923.52   \n",
       "4          0.0   282.0   32.0   12.5   71.0                B       6046.08   \n",
       "...        ...     ...    ...    ...    ...              ...           ...   \n",
       "720152     0.0   232.0   32.0    9.4   70.0                B       4974.08   \n",
       "720153     0.0   228.0   42.0   14.8   80.0                B       6415.92   \n",
       "720154     0.0   336.0   42.0   14.6   79.0                B       9455.04   \n",
       "720155     0.0   189.0   32.0   12.7   70.0                B       4052.16   \n",
       "720156     0.0   289.0   45.0   18.0   71.0                B       8713.35   \n",
       "\n",
       "       EstimatedTime  \n",
       "0         2020-01-01  \n",
       "1         2020-01-01  \n",
       "2         2020-01-01  \n",
       "3         2020-01-01  \n",
       "4         2020-01-01  \n",
       "...              ...  \n",
       "720152    2020-10-02  \n",
       "720153    2020-10-02  \n",
       "720154    2020-10-02  \n",
       "720155    2020-10-02  \n",
       "720156    2020-10-02  \n",
       "\n",
       "[720157 rows x 20 columns]"
      ],
      "text/html": "<div>\n<style scoped>\n    .dataframe tbody tr th:only-of-type {\n        vertical-align: middle;\n    }\n\n    .dataframe tbody tr th {\n        vertical-align: top;\n    }\n\n    .dataframe thead th {\n        text-align: right;\n    }\n</style>\n<table border=\"1\" class=\"dataframe\">\n  <thead>\n    <tr style=\"text-align: right;\">\n      <th></th>\n      <th>Unnamed: 0</th>\n      <th>MMSI</th>\n      <th>BaseDateTime</th>\n      <th>LAT</th>\n      <th>LON</th>\n      <th>SOG</th>\n      <th>COG</th>\n      <th>Heading</th>\n      <th>VesselName</th>\n      <th>IMO</th>\n      <th>CallSign</th>\n      <th>VesselType</th>\n      <th>Status</th>\n      <th>Length</th>\n      <th>Width</th>\n      <th>Draft</th>\n      <th>Cargo</th>\n      <th>TranscieverClass</th>\n      <th>GrossTonnage</th>\n      <th>EstimatedTime</th>\n    </tr>\n  </thead>\n  <tbody>\n    <tr>\n      <th>0</th>\n      <td>9</td>\n      <td>477628100</td>\n      <td>2020-01-01 00:00:01</td>\n      <td>36.80096</td>\n      <td>-75.22302</td>\n      <td>12.8</td>\n      <td>-128.7</td>\n      <td>283.0</td>\n      <td>NINGBO SEAL</td>\n      <td>IMO9579066</td>\n      <td>VRJD3</td>\n      <td>70.0</td>\n      <td>0.0</td>\n      <td>225.0</td>\n      <td>32.0</td>\n      <td>14.3</td>\n      <td>70.0</td>\n      <td>B</td>\n      <td>4824.00</td>\n      <td>2020-01-01</td>\n    </tr>\n    <tr>\n      <th>1</th>\n      <td>17</td>\n      <td>538002845</td>\n      <td>2020-01-01 00:00:10</td>\n      <td>26.08420</td>\n      <td>-79.48273</td>\n      <td>13.2</td>\n      <td>189.0</td>\n      <td>187.0</td>\n      <td>YASA GOLDEN DARDANEL</td>\n      <td>IMO9339985</td>\n      <td>V7ME9</td>\n      <td>80.0</td>\n      <td>0.0</td>\n      <td>245.0</td>\n      <td>42.0</td>\n      <td>15.0</td>\n      <td>89.0</td>\n      <td>B</td>\n      <td>6894.30</td>\n      <td>2020-01-01</td>\n    </tr>\n    <tr>\n      <th>2</th>\n      <td>50</td>\n      <td>249974000</td>\n      <td>2020-01-01 00:00:06</td>\n      <td>29.34368</td>\n      <td>-94.74366</td>\n      <td>10.2</td>\n      <td>85.7</td>\n      <td>86.0</td>\n      <td>PTI RHINE</td>\n      <td>IMO9313462</td>\n      <td>9HA4456</td>\n      <td>80.0</td>\n      <td>0.0</td>\n      <td>183.0</td>\n      <td>32.0</td>\n      <td>13.2</td>\n      <td>81.0</td>\n      <td>B</td>\n      <td>3923.52</td>\n      <td>2020-01-01</td>\n    </tr>\n    <tr>\n      <th>3</th>\n      <td>55</td>\n      <td>477542400</td>\n      <td>2020-01-01 00:00:01</td>\n      <td>37.76973</td>\n      <td>-122.35415</td>\n      <td>10.6</td>\n      <td>-87.5</td>\n      <td>326.0</td>\n      <td>ATLANTIC PISCES</td>\n      <td>IMO9392781</td>\n      <td>VRFN3</td>\n      <td>80.0</td>\n      <td>0.0</td>\n      <td>183.0</td>\n      <td>32.0</td>\n      <td>12.2</td>\n      <td>80.0</td>\n      <td>B</td>\n      <td>3923.52</td>\n      <td>2020-01-01</td>\n    </tr>\n    <tr>\n      <th>4</th>\n      <td>69</td>\n      <td>636016431</td>\n      <td>2020-01-01 00:00:10</td>\n      <td>26.89363</td>\n      <td>-79.20262</td>\n      <td>19.7</td>\n      <td>154.9</td>\n      <td>155.0</td>\n      <td>MSC VAISHNAVI R</td>\n      <td>IMO9227340</td>\n      <td>A8RL2</td>\n      <td>70.0</td>\n      <td>0.0</td>\n      <td>282.0</td>\n      <td>32.0</td>\n      <td>12.5</td>\n      <td>71.0</td>\n      <td>B</td>\n      <td>6046.08</td>\n      <td>2020-01-01</td>\n    </tr>\n    <tr>\n      <th>...</th>\n      <td>...</td>\n      <td>...</td>\n      <td>...</td>\n      <td>...</td>\n      <td>...</td>\n      <td>...</td>\n      <td>...</td>\n      <td>...</td>\n      <td>...</td>\n      <td>...</td>\n      <td>...</td>\n      <td>...</td>\n      <td>...</td>\n      <td>...</td>\n      <td>...</td>\n      <td>...</td>\n      <td>...</td>\n      <td>...</td>\n      <td>...</td>\n      <td>...</td>\n    </tr>\n    <tr>\n      <th>720152</th>\n      <td>30502227</td>\n      <td>441310000</td>\n      <td>2020-10-01 23:59:34</td>\n      <td>26.05327</td>\n      <td>-79.84955</td>\n      <td>19.7</td>\n      <td>4.2</td>\n      <td>5.0</td>\n      <td>GLOVIS SOLOMON</td>\n      <td>IMO9445409</td>\n      <td>D7GS</td>\n      <td>70.0</td>\n      <td>0.0</td>\n      <td>232.0</td>\n      <td>32.0</td>\n      <td>9.4</td>\n      <td>70.0</td>\n      <td>B</td>\n      <td>4974.08</td>\n      <td>2020-10-02</td>\n    </tr>\n    <tr>\n      <th>720153</th>\n      <td>30502254</td>\n      <td>636013708</td>\n      <td>2020-10-01 23:58:58</td>\n      <td>28.44555</td>\n      <td>-95.59912</td>\n      <td>12.9</td>\n      <td>56.0</td>\n      <td>57.0</td>\n      <td>NEW ACTIVITY</td>\n      <td>IMO9361524</td>\n      <td>A8OU2</td>\n      <td>80.0</td>\n      <td>0.0</td>\n      <td>228.0</td>\n      <td>42.0</td>\n      <td>14.8</td>\n      <td>80.0</td>\n      <td>B</td>\n      <td>6415.92</td>\n      <td>2020-10-02</td>\n    </tr>\n    <tr>\n      <th>720154</th>\n      <td>30502305</td>\n      <td>218092000</td>\n      <td>2020-10-01 23:59:36</td>\n      <td>39.18945</td>\n      <td>-130.91286</td>\n      <td>19.9</td>\n      <td>-129.6</td>\n      <td>280.0</td>\n      <td>HANOVER EXPRESS</td>\n      <td>IMO9343716</td>\n      <td>DFGX2</td>\n      <td>70.0</td>\n      <td>0.0</td>\n      <td>336.0</td>\n      <td>42.0</td>\n      <td>14.6</td>\n      <td>79.0</td>\n      <td>B</td>\n      <td>9455.04</td>\n      <td>2020-10-02</td>\n    </tr>\n    <tr>\n      <th>720155</th>\n      <td>30502324</td>\n      <td>636017617</td>\n      <td>2020-10-01 23:57:40</td>\n      <td>17.18697</td>\n      <td>-67.33857</td>\n      <td>11.7</td>\n      <td>110.0</td>\n      <td>110.0</td>\n      <td>NORDIC STAVANGER</td>\n      <td>IMO9514377</td>\n      <td>D5LX3</td>\n      <td>70.0</td>\n      <td>0.0</td>\n      <td>189.0</td>\n      <td>32.0</td>\n      <td>12.7</td>\n      <td>70.0</td>\n      <td>B</td>\n      <td>4052.16</td>\n      <td>2020-10-02</td>\n    </tr>\n    <tr>\n      <th>720156</th>\n      <td>30502456</td>\n      <td>636015168</td>\n      <td>2020-10-01 23:54:41</td>\n      <td>37.51332</td>\n      <td>-68.00148</td>\n      <td>10.9</td>\n      <td>77.4</td>\n      <td>62.0</td>\n      <td>AQUAFORTUNE</td>\n      <td>IMO9426427</td>\n      <td>A8ZA6</td>\n      <td>70.0</td>\n      <td>0.0</td>\n      <td>289.0</td>\n      <td>45.0</td>\n      <td>18.0</td>\n      <td>71.0</td>\n      <td>B</td>\n      <td>8713.35</td>\n      <td>2020-10-02</td>\n    </tr>\n  </tbody>\n</table>\n<p>720157 rows × 20 columns</p>\n</div>"
     },
     "metadata": {},
     "execution_count": 15
    }
   ],
   "source": [
    "from datetime import datetime, timedelta\n",
    "\n",
    "# Round the base date time\n",
    "study_data['BaseDateTime'] = study_data['BaseDateTime'].apply(lambda x: datetime.fromisoformat(x))\n",
    "\n",
    "def datetime_rounder(time):\n",
    "    return (time.replace(second = 0, minute = 0, hour = time.hour) + timedelta(hours = time.minute//30))\n",
    "\n",
    "study_data['EstimatedTime'] = [datetime_rounder(study_data['BaseDateTime'][x]) for x in range(study_data['BaseDateTime'].size)]\n",
    "#study_data['EstimatedTime'] = pd.to_datetime(study_data['EstimatedTime']).dt.strftime('%y-%m-%d %h:%I:%s')\n",
    "study_data['EstimatedTime'] = [np.datetime64(study_data['EstimatedTime'][x]) for x in range(study_data['EstimatedTime'].size)]\n",
    "\n",
    "study_data"
   ]
  },
  {
   "cell_type": "code",
   "execution_count": 17,
   "metadata": {
    "id": "N8IPf5hojW9n"
   },
   "outputs": [
    {
     "output_type": "error",
     "ename": "ValueError",
     "evalue": "setting an array element with a sequence.",
     "traceback": [
      "\u001b[1;31m---------------------------------------------------------------------------\u001b[0m",
      "\u001b[1;31mTypeError\u001b[0m                                 Traceback (most recent call last)",
      "\u001b[1;32m~\\AppData\\Local\\Programs\\Python\\Python39\\lib\\site-packages\\xarray\\core\\common.py\u001b[0m in \u001b[0;36m__float__\u001b[1;34m(self)\u001b[0m\n\u001b[0;32m    132\u001b[0m     \u001b[1;32mdef\u001b[0m \u001b[0m__float__\u001b[0m\u001b[1;33m(\u001b[0m\u001b[0mself\u001b[0m\u001b[1;33m:\u001b[0m \u001b[0mAny\u001b[0m\u001b[1;33m)\u001b[0m \u001b[1;33m->\u001b[0m \u001b[0mfloat\u001b[0m\u001b[1;33m:\u001b[0m\u001b[1;33m\u001b[0m\u001b[1;33m\u001b[0m\u001b[0m\n\u001b[1;32m--> 133\u001b[1;33m         \u001b[1;32mreturn\u001b[0m \u001b[0mfloat\u001b[0m\u001b[1;33m(\u001b[0m\u001b[0mself\u001b[0m\u001b[1;33m.\u001b[0m\u001b[0mvalues\u001b[0m\u001b[1;33m)\u001b[0m\u001b[1;33m\u001b[0m\u001b[1;33m\u001b[0m\u001b[0m\n\u001b[0m\u001b[0;32m    134\u001b[0m \u001b[1;33m\u001b[0m\u001b[0m\n",
      "\u001b[1;31mTypeError\u001b[0m: only size-1 arrays can be converted to Python scalars",
      "\nThe above exception was the direct cause of the following exception:\n",
      "\u001b[1;31mValueError\u001b[0m                                Traceback (most recent call last)",
      "\u001b[1;32m<ipython-input-17-326e498ce464>\u001b[0m in \u001b[0;36m<module>\u001b[1;34m\u001b[0m\n\u001b[0;32m     25\u001b[0m       \u001b[0mstudy_data\u001b[0m\u001b[1;33m.\u001b[0m\u001b[0mat\u001b[0m\u001b[1;33m[\u001b[0m\u001b[0mindex\u001b[0m\u001b[1;33m,\u001b[0m \u001b[1;34m'Salinity'\u001b[0m\u001b[1;33m]\u001b[0m \u001b[1;33m=\u001b[0m \u001b[0msalin\u001b[0m\u001b[1;33m\u001b[0m\u001b[1;33m\u001b[0m\u001b[0m\n\u001b[0;32m     26\u001b[0m \u001b[1;33m\u001b[0m\u001b[0m\n\u001b[1;32m---> 27\u001b[1;33m \u001b[0mextract_to_ais\u001b[0m\u001b[1;33m(\u001b[0m\u001b[1;33m)\u001b[0m\u001b[1;33m\u001b[0m\u001b[1;33m\u001b[0m\u001b[0m\n\u001b[0m\u001b[0;32m     28\u001b[0m \u001b[1;33m\u001b[0m\u001b[0m\n\u001b[0;32m     29\u001b[0m \u001b[0mstudy_data\u001b[0m \u001b[1;33m=\u001b[0m \u001b[0mstudy_data\u001b[0m\u001b[1;33m.\u001b[0m\u001b[0mdropna\u001b[0m\u001b[1;33m(\u001b[0m\u001b[1;33m)\u001b[0m\u001b[1;33m\u001b[0m\u001b[1;33m\u001b[0m\u001b[0m\n",
      "\u001b[1;32m<ipython-input-17-326e498ce464>\u001b[0m in \u001b[0;36mextract_to_ais\u001b[1;34m()\u001b[0m\n\u001b[0;32m     23\u001b[0m       \u001b[0mstudy_data\u001b[0m\u001b[1;33m.\u001b[0m\u001b[0mat\u001b[0m\u001b[1;33m[\u001b[0m\u001b[0mindex\u001b[0m\u001b[1;33m,\u001b[0m \u001b[1;34m'VMDR'\u001b[0m\u001b[1;33m]\u001b[0m \u001b[1;33m=\u001b[0m \u001b[0mVMDR\u001b[0m\u001b[1;33m\u001b[0m\u001b[1;33m\u001b[0m\u001b[0m\n\u001b[0;32m     24\u001b[0m       \u001b[0mstudy_data\u001b[0m\u001b[1;33m.\u001b[0m\u001b[0mat\u001b[0m\u001b[1;33m[\u001b[0m\u001b[0mindex\u001b[0m\u001b[1;33m,\u001b[0m \u001b[1;34m'Temperature'\u001b[0m\u001b[1;33m]\u001b[0m \u001b[1;33m=\u001b[0m \u001b[0mthetao\u001b[0m\u001b[1;33m\u001b[0m\u001b[1;33m\u001b[0m\u001b[0m\n\u001b[1;32m---> 25\u001b[1;33m       \u001b[0mstudy_data\u001b[0m\u001b[1;33m.\u001b[0m\u001b[0mat\u001b[0m\u001b[1;33m[\u001b[0m\u001b[0mindex\u001b[0m\u001b[1;33m,\u001b[0m \u001b[1;34m'Salinity'\u001b[0m\u001b[1;33m]\u001b[0m \u001b[1;33m=\u001b[0m \u001b[0msalin\u001b[0m\u001b[1;33m\u001b[0m\u001b[1;33m\u001b[0m\u001b[0m\n\u001b[0m\u001b[0;32m     26\u001b[0m \u001b[1;33m\u001b[0m\u001b[0m\n\u001b[0;32m     27\u001b[0m \u001b[0mextract_to_ais\u001b[0m\u001b[1;33m(\u001b[0m\u001b[1;33m)\u001b[0m\u001b[1;33m\u001b[0m\u001b[1;33m\u001b[0m\u001b[0m\n",
      "\u001b[1;32m~\\AppData\\Local\\Programs\\Python\\Python39\\lib\\site-packages\\pandas\\core\\indexing.py\u001b[0m in \u001b[0;36m__setitem__\u001b[1;34m(self, key, value)\u001b[0m\n\u001b[0;32m   2165\u001b[0m             \u001b[1;32mreturn\u001b[0m\u001b[1;33m\u001b[0m\u001b[1;33m\u001b[0m\u001b[0m\n\u001b[0;32m   2166\u001b[0m \u001b[1;33m\u001b[0m\u001b[0m\n\u001b[1;32m-> 2167\u001b[1;33m         \u001b[1;32mreturn\u001b[0m \u001b[0msuper\u001b[0m\u001b[1;33m(\u001b[0m\u001b[1;33m)\u001b[0m\u001b[1;33m.\u001b[0m\u001b[0m__setitem__\u001b[0m\u001b[1;33m(\u001b[0m\u001b[0mkey\u001b[0m\u001b[1;33m,\u001b[0m \u001b[0mvalue\u001b[0m\u001b[1;33m)\u001b[0m\u001b[1;33m\u001b[0m\u001b[1;33m\u001b[0m\u001b[0m\n\u001b[0m\u001b[0;32m   2168\u001b[0m \u001b[1;33m\u001b[0m\u001b[0m\n\u001b[0;32m   2169\u001b[0m \u001b[1;33m\u001b[0m\u001b[0m\n",
      "\u001b[1;32m~\\AppData\\Local\\Programs\\Python\\Python39\\lib\\site-packages\\pandas\\core\\indexing.py\u001b[0m in \u001b[0;36m__setitem__\u001b[1;34m(self, key, value)\u001b[0m\n\u001b[0;32m   2116\u001b[0m             \u001b[1;32mraise\u001b[0m \u001b[0mValueError\u001b[0m\u001b[1;33m(\u001b[0m\u001b[1;34m\"Not enough indexers for scalar access (setting)!\"\u001b[0m\u001b[1;33m)\u001b[0m\u001b[1;33m\u001b[0m\u001b[1;33m\u001b[0m\u001b[0m\n\u001b[0;32m   2117\u001b[0m \u001b[1;33m\u001b[0m\u001b[0m\n\u001b[1;32m-> 2118\u001b[1;33m         \u001b[0mself\u001b[0m\u001b[1;33m.\u001b[0m\u001b[0mobj\u001b[0m\u001b[1;33m.\u001b[0m\u001b[0m_set_value\u001b[0m\u001b[1;33m(\u001b[0m\u001b[1;33m*\u001b[0m\u001b[0mkey\u001b[0m\u001b[1;33m,\u001b[0m \u001b[0mvalue\u001b[0m\u001b[1;33m=\u001b[0m\u001b[0mvalue\u001b[0m\u001b[1;33m,\u001b[0m \u001b[0mtakeable\u001b[0m\u001b[1;33m=\u001b[0m\u001b[0mself\u001b[0m\u001b[1;33m.\u001b[0m\u001b[0m_takeable\u001b[0m\u001b[1;33m)\u001b[0m\u001b[1;33m\u001b[0m\u001b[1;33m\u001b[0m\u001b[0m\n\u001b[0m\u001b[0;32m   2119\u001b[0m \u001b[1;33m\u001b[0m\u001b[0m\n\u001b[0;32m   2120\u001b[0m \u001b[1;33m\u001b[0m\u001b[0m\n",
      "\u001b[1;32m~\\AppData\\Local\\Programs\\Python\\Python39\\lib\\site-packages\\pandas\\core\\frame.py\u001b[0m in \u001b[0;36m_set_value\u001b[1;34m(self, index, col, value, takeable)\u001b[0m\n\u001b[0;32m   3268\u001b[0m             \u001b[0mvalidate_numeric_casting\u001b[0m\u001b[1;33m(\u001b[0m\u001b[0mseries\u001b[0m\u001b[1;33m.\u001b[0m\u001b[0mdtype\u001b[0m\u001b[1;33m,\u001b[0m \u001b[0mvalue\u001b[0m\u001b[1;33m)\u001b[0m\u001b[1;33m\u001b[0m\u001b[1;33m\u001b[0m\u001b[0m\n\u001b[0;32m   3269\u001b[0m \u001b[1;33m\u001b[0m\u001b[0m\n\u001b[1;32m-> 3270\u001b[1;33m             \u001b[0mseries\u001b[0m\u001b[1;33m.\u001b[0m\u001b[0m_values\u001b[0m\u001b[1;33m[\u001b[0m\u001b[0mloc\u001b[0m\u001b[1;33m]\u001b[0m \u001b[1;33m=\u001b[0m \u001b[0mvalue\u001b[0m\u001b[1;33m\u001b[0m\u001b[1;33m\u001b[0m\u001b[0m\n\u001b[0m\u001b[0;32m   3271\u001b[0m             \u001b[1;31m# Note: trying to use series._set_value breaks tests in\u001b[0m\u001b[1;33m\u001b[0m\u001b[1;33m\u001b[0m\u001b[1;33m\u001b[0m\u001b[0m\n\u001b[0;32m   3272\u001b[0m             \u001b[1;31m#  tests.frame.indexing.test_indexing and tests.indexing.test_partial\u001b[0m\u001b[1;33m\u001b[0m\u001b[1;33m\u001b[0m\u001b[1;33m\u001b[0m\u001b[0m\n",
      "\u001b[1;31mValueError\u001b[0m: setting an array element with a sequence."
     ]
    }
   ],
   "source": [
    "# Merge AIS and CMEMS data\n",
    "\n",
    "study_data['VHM0'] = 0.0\n",
    "study_data['VMDR'] = 0.0\n",
    "study_data['Temperature'] = 0.0\n",
    "study_data['Salinity'] = 0.0\n",
    "\n",
    "def extract_to_ais():\n",
    "  \n",
    "  for index, row in study_data.iterrows():\n",
    "\n",
    "      lat = round(row['LAT'], 1)\n",
    "      lon = round(row['LON'], 1)\n",
    "      time = str(row['EstimatedTime'])\n",
    "\n",
    "      VHM0 = ds_wav.VHM0.sel(time = time, longitude = lon, latitude = lat, method = 'nearest')\n",
    "      VMDR = ds_wav.VMDR.sel(time = time, longitude = lon, latitude = lat, method = 'nearest')\n",
    "      thetao = ds_phy.thetao.sel(time = time, longitude = lon, latitude = lat, depth = 0, method = 'nearest')\n",
    "      salin = ds_phy.so.sel(time = time, longitude = lon, latitude = lat, depth = 0, method = 'nearest')\n",
    "\n",
    "      study_data.at[index, 'VHM0'] = VHM0\n",
    "      study_data.at[index, 'VMDR'] = VMDR\n",
    "      study_data.at[index, 'Temperature'] = thetao\n",
    "      study_data.at[index, 'Salinity'] = salin\n",
    "      \n",
    "extract_to_ais()\n",
    "\n",
    "study_data = study_data.dropna()\n",
    "study_data"
   ]
  },
  {
   "cell_type": "code",
   "execution_count": null,
   "metadata": {},
   "outputs": [],
   "source": [
    "# Save merge data (not fully processed)\n",
    "study_data.to_csv('data/study_data_np.csv')"
   ]
  },
  {
   "cell_type": "code",
   "execution_count": null,
   "metadata": {},
   "outputs": [],
   "source": [
    "study_data = pd.read_csv('data/study_data_np.csv')"
   ]
  },
  {
   "cell_type": "code",
   "execution_count": null,
   "metadata": {},
   "outputs": [],
   "source": [
    "# Normalize SOG\n",
    "study_data['SOG_norm'] = (study_data['SOG'] - study_data['SOG'].mean(axis = 0)) / study_data['SOG'].std(axis = 0)\n",
    "\n",
    "# Make histogram of normalized SOG\n",
    "study_data['SOG_norm'].plot(kind = 'hist', alpha = 0.7, bins = 30, title = 'Histogram of normalized SOG', \n",
    "                            grid = True, figsize = (10,5), fontsize = 14, color = ['#C40000'])\n",
    "plt.xlabel('Normalized SOG', fontsize = 16)\n",
    "plt.ylabel(\"Frequency\", fontsize = 16)\n",
    "plt.show()\n",
    "\n",
    "# Remove SOG outliers\n",
    "study_data = study_data[(study_data['SOG_norm'] < 4)].dropna()\n",
    "\n",
    "# Standarize to 0 to 1"
   ]
  },
  {
   "cell_type": "code",
   "execution_count": null,
   "metadata": {},
   "outputs": [],
   "source": [
    "# Normalize COG\n",
    "study_data['COG_norm'] = (study_data['COG'] - study_data['COG'].mean(axis = 0)) / study_data['COG'].std(axis = 0)\n",
    "\n",
    "# Make histogram of normalized COG\n",
    "study_data['COG_norm'].plot(kind = 'hist', alpha = 0.7, bins = 30, title = 'Histogram of normalized COG', \n",
    "                            grid = True, figsize = (10,5), fontsize = 14, color = ['#C40000'])\n",
    "plt.xlabel('Normalized COG', fontsize = 16)\n",
    "plt.ylabel(\"Frequency\", fontsize = 16)\n",
    "plt.show()\n",
    "\n",
    "# Remove COG outliers\n",
    "study_data = study_data[(study_data['COG_norm'] < 4)].dropna()"
   ]
  },
  {
   "cell_type": "code",
   "execution_count": null,
   "metadata": {},
   "outputs": [],
   "source": [
    "# Normalize Gross Tonnage\n",
    "study_data['GrossTonnage_norm'] = (study_data['GrossTonnage'] - study_data['GrossTonnage'].mean(axis = 0)) / study_data['GrossTonnage'].std(axis = 0)\n",
    "\n",
    "# Make histogram of normalized Gross Tonnage\n",
    "study_data['GrossTonnage_norm'].plot(kind = 'hist', alpha = 0.7, bins = 30, title = 'Histogram of normalized Gross Tonnage', \n",
    "                            grid = True, figsize = (10,5), fontsize = 14, color = ['#C40000'])\n",
    "plt.xlabel('Normalized Gross Tonnage', fontsize = 16)\n",
    "plt.ylabel(\"Frequency\", fontsize = 16)\n",
    "plt.show()\n",
    "\n",
    "# Remove Gross Tonnage outliers\n",
    "study_data = study_data[(study_data['GrossTonnage_norm'] < 4)].dropna()"
   ]
  },
  {
   "cell_type": "code",
   "execution_count": null,
   "metadata": {},
   "outputs": [],
   "source": [
    "# Normalize VHM0\n",
    "study_data['VHM0_norm'] = (study_data['VHM0'] - study_data['VHM0'].mean(axis = 0)) / study_data['VHM0'].std(axis = 0)\n",
    "\n",
    "# Make histogram of normalized VHM0\n",
    "study_data['VHM0_norm'].plot(kind = 'hist', alpha = 0.7, bins = 30, title = 'Histogram of normalized VHM0', \n",
    "                            grid = True, figsize = (10,5), fontsize = 14, color = ['#C40000'])\n",
    "plt.xlabel('Normalized VHM0', fontsize = 16)\n",
    "plt.ylabel(\"Frequency\", fontsize = 16)\n",
    "plt.show()\n",
    "\n",
    "# Remove VHM0 outliers\n",
    "study_data = study_data[(study_data['VHM0_norm'] < 4)].dropna()"
   ]
  },
  {
   "cell_type": "code",
   "execution_count": null,
   "metadata": {},
   "outputs": [],
   "source": [
    "# Normalize VMDR\n",
    "study_data['VMDR_norm'] = (study_data['VMDR'] - study_data['VMDR'].mean(axis = 0)) / study_data['VMDR'].std(axis = 0)\n",
    "\n",
    "# Make histogram of normalized VMDR\n",
    "study_data['VMDR_norm'].plot(kind = 'hist', alpha = 0.7, bins = 30, title = 'Histogram of normalized VMDR', \n",
    "                            grid = True, figsize = (10,5), fontsize = 14, color = ['#C40000'])\n",
    "plt.xlabel('Normalized VMDR', fontsize = 16)\n",
    "plt.ylabel(\"Frequency\", fontsize = 16)\n",
    "plt.show()\n",
    "\n",
    "# Remove VMDR outliers\n",
    "study_data = study_data[(study_data['VMDR_norm'] < 4)].dropna()"
   ]
  },
  {
   "cell_type": "code",
   "execution_count": null,
   "metadata": {},
   "outputs": [],
   "source": [
    "# Normalize Temperature\n",
    "study_data['Temperature_norm'] = (study_data['Temperature'] - study_data['Temperature'].mean(axis = 0)) / study_data['Temperature'].std(axis = 0)\n",
    "\n",
    "# Make histogram of normalized Temperature\n",
    "study_data['Temperature_norm'].plot(kind = 'hist', alpha = 0.7, bins = 30, title = 'Histogram of normalized Temperature', \n",
    "                            grid = True, figsize = (10,5), fontsize = 14, color = ['#C40000'])\n",
    "plt.xlabel('Normalized Temperature', fontsize = 16)\n",
    "plt.ylabel(\"Frequency\", fontsize = 16)\n",
    "plt.show()\n",
    "\n",
    "# Remove Temperature outliers\n",
    "study_data = study_data[(study_data['Temperature_norm'] < 4)].dropna()"
   ]
  },
  {
   "cell_type": "code",
   "execution_count": null,
   "metadata": {},
   "outputs": [],
   "source": [
    "# Normalize Salinity\n",
    "study_data['Salinity_norm'] = (study_data['Salinity'] - study_data['Salinity'].mean(axis = 0)) / study_data['Salinity'].std(axis = 0)\n",
    "\n",
    "# Make histogram of normalized Salinity\n",
    "study_data['Salinity_norm'].plot(kind = 'hist', alpha = 0.7, bins = 30, title = 'Histogram of normalized Salinity', \n",
    "                            grid = True, figsize = (10,5), fontsize = 14, color = ['#C40000'])\n",
    "plt.xlabel('Normalized Salinity', fontsize = 16)\n",
    "plt.ylabel(\"Frequency\", fontsize = 16)\n",
    "plt.show()\n",
    "\n",
    "# Remove Salinity outliers\n",
    "study_data = study_data[(study_data['Salinity_norm'] < 4)].dropna()"
   ]
  },
  {
   "cell_type": "code",
   "execution_count": null,
   "metadata": {},
   "outputs": [],
   "source": [
    "print(\"After preprocessing...\")\n",
    "ais_data = ais_data.filter(['EstimatedTime', 'LAT', 'LON', 'Heading', 'SOG_norm', 'COG_norm', 'GrossTonnage_norm', 'VHM0_norm', 'VMDR_norm', 'Temperature_norm', 'Salinity_norm'])\n",
    "study_data = study_data.dropna()\n",
    "ais_data"
   ]
  },
  {
   "cell_type": "markdown",
   "metadata": {
    "id": "HeeF44OkYciP"
   },
   "source": [
    "## Notes from meetings"
   ]
  },
  {
   "cell_type": "markdown",
   "metadata": {
    "id": "2gv0z87eX32q"
   },
   "source": [
    "**02 - 06 - 2021**\n",
    "\n",
    "Space time cubes\n",
    "- 52N: sfTracks space time cube\n",
    "\n",
    "Simple solution:\n",
    "- Start simple\n",
    "- Least cost path as in simple_routing.ipynb\n",
    "\n",
    "**09 - 06 - 2021**\n",
    "\n",
    "Easy retrieval for cmems data: harvester.maridata EnvDataAPI github\n",
    "\n",
    "Regarding modelling:\n",
    "- Filter by ship types\n",
    "- 2000 records are too low\n",
    "- Have specific lengths and widths of ships\n",
    "- Exclude SOG below 7 knots\n",
    "- Standardization & normalization are recommended\n",
    "\n",
    "Regarding routing:\n",
    "- Genetic algorithm (Group C)\n",
    "- Multi-objective optimization: pymoo - NSGA-II"
   ]
  }
 ],
 "metadata": {
  "colab": {
   "collapsed_sections": [],
   "name": "Group_Challenge.ipynb",
   "provenance": []
  },
  "kernelspec": {
   "name": "python3",
   "display_name": "Python 3.9.1 64-bit"
  },
  "language_info": {
   "codemirror_mode": {
    "name": "ipython",
    "version": 3
   },
   "file_extension": ".py",
   "mimetype": "text/x-python",
   "name": "python",
   "nbconvert_exporter": "python",
   "pygments_lexer": "ipython3",
   "version": "3.9.1"
  },
  "metadata": {
   "interpreter": {
    "hash": "95d59eb7bf2a7bd2171d66c6a4ea99ebae8b7de35380a09ba46755d0122eb78e"
   }
  },
  "interpreter": {
   "hash": "b9f0c1e033f7f4447e906abad9033ba03d46370fe52f38df008a2d6ba759c442"
  }
 },
 "nbformat": 4,
 "nbformat_minor": 4
}